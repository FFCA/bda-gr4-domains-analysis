{
 "cells": [
  {
   "cell_type": "markdown",
   "id": "bf92c036-f354-4efc-be88-d833757ece78",
   "metadata": {},
   "source": [
    "# Domain Analysis - PySpark\n",
    "\n",
    "This directory contains both the notebooks (`/notebooks`) to be executed and the data (`/data`) to be analyzed (mounted from the repository).\n",
    "\n",
    "The notebooks are prefixed according to the chronological order they are to be executed in. You can either open them from the named directory or use these links:\n",
    "\n",
    "1. [Clear Database](./notebooks/0-Clear-Data.ipynb) (Only necessary if you are planning to analyze data that is already stored in the database)\n",
    "1. [ETL Process](./notebooks/0-ETL_Domains.ipynb)\n",
    "1. ...\n",
    "\n",
    "TODO: Continue list"
   ]
  }
 ],
 "metadata": {
  "kernelspec": {
   "display_name": "Python 3",
   "language": "python",
   "name": "python3"
  },
  "language_info": {
   "codemirror_mode": {
    "name": "ipython",
    "version": 3
   },
   "file_extension": ".py",
   "mimetype": "text/x-python",
   "name": "python",
   "nbconvert_exporter": "python",
   "pygments_lexer": "ipython3",
   "version": "3.9.5"
  }
 },
 "nbformat": 4,
 "nbformat_minor": 5
}
