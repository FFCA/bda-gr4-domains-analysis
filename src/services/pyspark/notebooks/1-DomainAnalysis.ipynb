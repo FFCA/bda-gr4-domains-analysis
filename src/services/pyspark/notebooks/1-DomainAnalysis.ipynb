{
 "cells": [
  {
   "cell_type": "code",
   "execution_count": null,
   "id": "7ae2465b",
   "metadata": {},
   "outputs": [],
   "source": [
    "!pip install dnspython\n",
    "!pip install ipynb\n",
    "\n",
    "from pyspark.sql import SparkSession\n",
    "from pyspark.sql.functions import *\n",
    "from pyspark.sql.types import *\n",
    "# Import all functions from Funtions.ipynb\n",
    "from ipynb.fs.full.Functions import *\n",
    "\n",
    "#PostgreSQL access data\n",
    "host = \"bda_gr4_database\"\n",
    "port = \"5432\"\n",
    "database = \"domainanalysis\"\n",
    "user = \"postgres\"\n",
    "password = \"postgres\"\n",
    "\n",
    "# PostgreSQL connection url\n",
    "connection = f\"jdbc:postgresql://{host}:{port}/{database}\"\n",
    "\n",
    "# Create a Spark session\n",
    "spark = SparkSession.builder \\\n",
    "    .appName(\"domain_analysis\") \\\n",
    "    .getOrCreate()\n",
    "\n",
    "# Read data from the database\n",
    "domains_df = spark.read \\\n",
    "                .format(\"jdbc\") \\\n",
    "                .option(\"url\", connection) \\\n",
    "                .option(\"dbtable\", \"domain\") \\\n",
    "                .option(\"user\", user) \\\n",
    "                .option(\"password\", password) \\\n",
    "                .load()"
   ]
  },
  {
   "cell_type": "code",
   "execution_count": null,
   "id": "b9a7cda0-8416-4c31-8fee-a45f5bb026a1",
   "metadata": {},
   "outputs": [],
   "source": [
    "# delete\n",
    "# Get SOA information error from domain  \n",
    "def getSOAInformation_error(domain):\n",
    "    try:\n",
    "        result = dns.resolver.resolve(domain, 'SOA')\n",
    "        return 0\n",
    "    except dns.resolver.NXDOMAIN:\n",
    "        return 1\n",
    "    except dns.resolver.NoAnswer:\n",
    "        return 2\n",
    "    except dns.resolver.NoNameservers:\n",
    "        return 3\n",
    "    except dns.exception.Timeout:\n",
    "        return 4"
   ]
  },
  {
   "cell_type": "code",
   "execution_count": null,
   "id": "2776e04a",
   "metadata": {},
   "outputs": [],
   "source": [
    "udf_getIPv6Records = udf(getIPv6Records, StringType())\n",
    "udf_getSOAInformation = udf(getSOAInformation, ArrayType(StringType()))\n",
    "udf_getSOAInformation_error = udf(getSOAInformation_error, ArrayType(StringType()))\n",
    "udf_getNameServers = udf(getNameServers, ArrayType(StringType()))\n",
    "udf_getNameServers_error = udf(getNameServers_error, IntegerType())"
   ]
  },
  {
   "cell_type": "code",
   "execution_count": null,
   "id": "24cd0c8c",
   "metadata": {},
   "outputs": [],
   "source": [
    "domains_df = domains_df.withColumn(\"aaaa_record\", udf_getIPv6Records(\"top_level_domain\"))\n",
    "domains_df = domains_df.withColumn(\"soa_information\", udf_getSOAInformation(\"top_level_domain\"))\n",
    "domains_df = domains_df.withColumn(\"soa_information_error\", udf_getSOAInformation_error(\"top_level_domain\"))\n",
    "domains_df = domains_df.withColumn(\"nameservers\", udf_getNameServers(\"top_level_domain\"))\n",
    "domains_df = domains_df.withColumn(\"nameservers_error\", udf_getNameServers_error(\"top_level_domain\"))"
   ]
  },
  {
   "cell_type": "code",
   "execution_count": null,
   "id": "1097f17c-04e5-4c04-b909-3057dfd08c85",
   "metadata": {},
   "outputs": [],
   "source": [
    "# Change ArrayType<String> into String as preparation for information separation\n",
    "domains_df = domains_df.withColumn(\"soa_infos_rep\", concat_ws(\" \", \"soa_information\"))\n",
    "\n",
    "# Split SOA information into separate columns (all String)\n",
    "split_col = split(domains_df['soa_infos_rep'], ' ')\n",
    "domains_df = domains_df.withColumn('mname', split_col.getItem(0))\n",
    "domains_df = domains_df.withColumn('refresh', split_col.getItem(3))\n",
    "domains_df = domains_df.withColumn('minimum', split_col.getItem(6))\n",
    "\n",
    "#\n",
    "def replace_empty_strings(x):\n",
    "    return when(col(x) == \"\", None).otherwise(col(x))\n",
    "\n",
    "domains_df = domains_df.withColumn(\"mname\", replace_empty_strings(\"mname\"))"
   ]
  },
  {
   "cell_type": "code",
   "execution_count": null,
   "id": "389fa13a-82fb-4067-bdb1-664b6065c778",
   "metadata": {},
   "outputs": [],
   "source": [
    "# Remove last dot per soa mname\n",
    "domains_df = domains_df.withColumn('mname', regexp_replace('mname', '.$', ''))   \n",
    "\n",
    "# Remove last dot per nameserver entry\n",
    "lambda_dot_remove = lambda arr: [x[:-1] for x in arr]\n",
    "def fn_remove_dot(arr): return None if arr == None else lambda_dot_remove(arr)\n",
    "udf_remove_last_char_in_array = udf(fn_remove_dot, ArrayType(StringType()))\n",
    "\n",
    "domains_df = domains_df \\\n",
    "    .select(\"*\") \\\n",
    "    .withColumn('nameservers', udf_remove_last_char_in_array(col('nameservers')))"
   ]
  },
  {
   "cell_type": "code",
   "execution_count": null,
   "id": "ed77c9d3-375e-4093-8a6f-806b5357a9e2",
   "metadata": {},
   "outputs": [],
   "source": [
    "# change dtypes of seconds to int\n",
    "domains_df = domains_df.withColumn(\"refresh\", domains_df[\"refresh\"].cast(IntegerType()))\n",
    "domains_df = domains_df.withColumn(\"minimum\", domains_df[\"minimum\"].cast(IntegerType()))\n",
    "\n",
    "#domains_df.select('mname').show(20, False)\n",
    "#domains_df.show(5)"
   ]
  },
  {
   "cell_type": "code",
   "execution_count": null,
   "id": "d31f848d",
   "metadata": {},
   "outputs": [],
   "source": [
    "# Count the values of each column with descending sort and show it\n",
    "# domains_df.groupBy(\"Top-Level-Domain\").count().sort(desc(\"count\")).show(20, False)\n",
    "# domains_df.groupBy(\"MX-Record\").count().sort(desc(\"count\")).show(20, False)\n",
    "# domains_df.groupBy(\"A-Record\").count().sort(desc(\"count\")).show(20, False)\n",
    "# domains_df.groupBy(\"A-Record_Checked\").count().sort(desc(\"count\")).show(20, False)\n",
    "# domains_df.groupBy(\"MX-Record_Checked\").count().sort(desc(\"count\")).show(20, False)\n",
    "# domains_df.groupBy(\"Redirection\").count().sort(desc(\"count\")).show(20, False)"
   ]
  },
  {
   "cell_type": "code",
   "execution_count": null,
   "id": "2c3728e6-3620-4c65-9e7b-9d1fa264f9aa",
   "metadata": {},
   "outputs": [],
   "source": [
    "# Count the occrence of SOA records\n",
    "soa_mname_count = domains_df.withColumn('mname', (col('mname'))) \\\n",
    "        .groupBy('mname') \\\n",
    "        .count()\n",
    "\n",
    "soa_mname_count_top_ten_df = soa_mname_count.orderBy(['count'], ascending = [False]).limit(10)\n",
    "soa_mname_count_top_ten_df.show()"
   ]
  },
  {
   "cell_type": "code",
   "execution_count": null,
   "id": "00000779",
   "metadata": {},
   "outputs": [],
   "source": [
    "# domains_df = domains_df.withColumn('mx_record_count', explode(col('mx_record'))) \\\n",
    "#         .groupBy('mx_record_count') \\\n",
    "#         .count() \\\n",
    "#         .sort(desc(\"count\"))\n",
    "\n",
    "domains_df = domains_df.withColumn('mx_record_checked_count', explode(col('mx_record_checked'))) \\\n",
    "        .groupBy('mx_record_checked_count') \\\n",
    "        .count() \\\n",
    "        .sort(desc(\"count\"))\n",
    "\n",
    "# domains_df = domains_df.withColumn('a_record_count', explode(col('a_record'))) \\\n",
    "#         .groupBy('a_record_count') \\\n",
    "#         .count() \\\n",
    "#         .sort(desc(\"count\"))\n",
    "\n",
    "domains_df = domains_df.withColumn('a_record_checked', explode(col('a_record_checked'))) \\\n",
    "        .groupBy('a_record_checked') \\\n",
    "        .count() \\\n",
    "        .sort(desc(\"count\"))\n",
    "\n",
    "domains_df = domains_df.withColumn('m_name', explode(col('m_name'))) \\\n",
    "        .groupBy('m_name') \\\n",
    "        .count() \\\n",
    "        .sort(desc(\"count\"))\n",
    "\n",
    "domains_df = domains_df.withColumn('nameservers_count', explode(col('nameservers'))) \\\n",
    "        .groupBy('nameservers_count') \\\n",
    "        .count() \\\n",
    "        .sort(desc(\"count\"))\n",
    "\n",
    "domains_df = domains_df.drop('mx_record').drop('a_record').drop('soa_information').drop('soa_infos_rep')"
   ]
  },
  {
   "cell_type": "code",
   "execution_count": null,
   "id": "63e702d9-b120-4442-b29d-4af12982b168",
   "metadata": {},
   "outputs": [],
   "source": [
    "domains_df.show(5)"
   ]
  },
  {
   "cell_type": "code",
   "execution_count": null,
   "id": "e5745db3",
   "metadata": {},
   "outputs": [],
   "source": [
    "# Write the data frame to the PostgreSQL database\n",
    "domains_df.repartition(8).write \\\n",
    "    .format(\"jdbc\") \\\n",
    "    .option(\"url\", connection) \\\n",
    "    .option(\"dbtable\", \"domain_enhanced\") \\\n",
    "    .option(\"user\", user) \\\n",
    "    .option(\"batchsize\", 10000) \\\n",
    "    .option(\"password\", password) \\\n",
    "    .mode(\"append\") \\\n",
    "    .save()"
   ]
  }
 ],
 "metadata": {
  "kernelspec": {
   "display_name": "Python 3",
   "language": "python",
   "name": "python3"
  },
  "language_info": {
   "codemirror_mode": {
    "name": "ipython",
    "version": 3
   },
   "file_extension": ".py",
   "mimetype": "text/x-python",
   "name": "python",
   "nbconvert_exporter": "python",
   "pygments_lexer": "ipython3",
   "version": "3.9.5"
  }
 },
 "nbformat": 4,
 "nbformat_minor": 5
}
