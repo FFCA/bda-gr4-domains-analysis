{
 "cells": [
  {
   "cell_type": "code",
   "execution_count": 34,
   "id": "7ae2465b",
   "metadata": {},
   "outputs": [
    {
     "name": "stdout",
     "output_type": "stream",
     "text": [
      "Requirement already satisfied: dnspython in /opt/conda/lib/python3.9/site-packages (2.1.0)\n",
      "Requirement already satisfied: ipynb in /opt/conda/lib/python3.9/site-packages (0.5.1)\n"
     ]
    }
   ],
   "source": [
    "!pip install dnspython\n",
    "!pip install ipynb\n",
    "\n",
    "from pyspark.sql import SparkSession\n",
    "from pyspark.sql.functions import *\n",
    "from pyspark.sql.types import *\n",
    "# Import all functions from Funtions.ipynb\n",
    "from ipynb.fs.full.Functions import *\n",
    "\n",
    "#PostgreSQL access data\n",
    "host = \"bda_gr4_database\"\n",
    "port = \"5432\"\n",
    "database = \"domainanalysis\"\n",
    "user = \"postgres\"\n",
    "password = \"postgres\"\n",
    "\n",
    "# PostgreSQL connection url\n",
    "connection = f\"jdbc:postgresql://{host}:{port}/{database}\"\n",
    "\n",
    "# Create a Spark session\n",
    "spark = SparkSession.builder \\\n",
    "    .appName(\"domain_analysis\") \\\n",
    "    .getOrCreate()\n",
    "\n",
    "# Read data from the database\n",
    "domains_df = spark.read \\\n",
    "                .format(\"jdbc\") \\\n",
    "                .option(\"url\", connection) \\\n",
    "                .option(\"dbtable\", \"domain\") \\\n",
    "                .option(\"user\", user) \\\n",
    "                .option(\"password\", password) \\\n",
    "                .load()"
   ]
  },
  {
   "cell_type": "code",
   "execution_count": 36,
   "id": "b9a7cda0-8416-4c31-8fee-a45f5bb026a1",
   "metadata": {},
   "outputs": [],
   "source": [
    "# delete\n",
    "# Get SOA information error from domain  \n",
    "def getSOAInformation_error(domain):\n",
    "    try:\n",
    "        result = dns.resolver.resolve(domain, 'SOA')\n",
    "        return 0\n",
    "    except dns.resolver.NXDOMAIN:\n",
    "        return 1\n",
    "    except dns.resolver.NoAnswer:\n",
    "        return 2\n",
    "    except dns.resolver.NoNameservers:\n",
    "        return 3\n",
    "    except dns.exception.Timeout:\n",
    "        return 4"
   ]
  },
  {
   "cell_type": "code",
   "execution_count": 37,
   "id": "2776e04a",
   "metadata": {},
   "outputs": [],
   "source": [
    "udf_getIPv6Records = udf(getIPv6Records, StringType())\n",
    "udf_getSOAInformation = udf(getSOAInformation, ArrayType(StringType()))\n",
    "udf_getSOAInformation_error = udf(getSOAInformation_error, ArrayType(StringType()))\n",
    "udf_getNameServers = udf(getNameServers, ArrayType(StringType()))\n",
    "udf_getNameServers_error = udf(getNameServers_error, IntegerType())"
   ]
  },
  {
   "cell_type": "code",
   "execution_count": 39,
   "id": "24cd0c8c",
   "metadata": {},
   "outputs": [],
   "source": [
    "domains_df = domains_df.withColumn(\"aaaa_record\", udf_getIPv6Records(\"top_level_domain\"))\n",
    "domains_df = domains_df.withColumn(\"soa_information\", udf_getSOAInformation(\"top_level_domain\"))\n",
    "domains_df = domains_df.withColumn(\"soa_information_error\", udf_getSOAInformation_error(\"top_level_domain\"))\n",
    "domains_df = domains_df.withColumn(\"nameservers\", udf_getNameServers(\"top_level_domain\"))\n",
    "domains_df = domains_df.withColumn(\"nameservers_error\", udf_getNameServers_error(\"top_level_domain\"))"
   ]
  },
  {
   "cell_type": "code",
   "execution_count": 44,
   "id": "1097f17c-04e5-4c04-b909-3057dfd08c85",
   "metadata": {},
   "outputs": [],
   "source": [
    "# Change ArrayType<String> into String as preparation for information separation\n",
    "domains_df = domains_df.withColumn(\"soa_infos_rep\", concat_ws(\" \", \"soa_information\"))\n",
    "\n",
    "# Split SOA information into separate columns (all String)\n",
    "split_col = split(domains_df['soa_infos_rep'], ' ')\n",
    "domains_df = domains_df.withColumn('mname', split_col.getItem(0))\n",
    "domains_df = domains_df.withColumn('refresh', split_col.getItem(3))\n",
    "domains_df = domains_df.withColumn('minimum', split_col.getItem(6))\n",
    "\n",
    "#\n",
    "def replace_empty_strings(x):\n",
    "    return when(col(x) == \"\", None).otherwise(col(x))\n",
    "\n",
    "domains_df = domains_df.withColumn(\"mname\", replace_empty_strings(\"mname\"))"
   ]
  },
  {
   "cell_type": "code",
   "execution_count": 46,
   "id": "619add0d-4c46-42cd-a00f-137b444a9518",
   "metadata": {},
   "outputs": [
    {
     "name": "stdout",
     "output_type": "stream",
     "text": [
      "+------------------------+\n",
      "|mname                   |\n",
      "+------------------------+\n",
      "|ns1.sedoparking.com.    |\n",
      "|shades07.rzone.de.      |\n",
      "|ns1.undeveloped.com.    |\n",
      "|ns1.sedoparking.com.    |\n",
      "|null                    |\n",
      "|ns1.sedoparking.com.    |\n",
      "|ns1.hosting.de.         |\n",
      "|ns1.sedoparking.com.    |\n",
      "|dns01-tld.t-online.de.  |\n",
      "|ns1.bestcpanel.eu.      |\n",
      "|ns1-tec.de.0-500.de.    |\n",
      "|dns01-tld.t-online.de.  |\n",
      "|null                    |\n",
      "|ns1.sedoparking.com.    |\n",
      "|ns1.ns67.de.            |\n",
      "|becky.ns.cloudflare.com.|\n",
      "|ns.namespace4you.de.    |\n",
      "|root-dns.netcup.net.    |\n",
      "|ns1.contabo.net.        |\n",
      "|root-dns.netcup.net.    |\n",
      "+------------------------+\n",
      "only showing top 20 rows\n",
      "\n"
     ]
    }
   ],
   "source": [
    "#domains_df.select('mname').show(20, False)"
   ]
  },
  {
   "cell_type": "code",
   "execution_count": 47,
   "id": "389fa13a-82fb-4067-bdb1-664b6065c778",
   "metadata": {},
   "outputs": [],
   "source": [
    "# Remove last dot per soa mname\n",
    "domains_df = domains_df.withColumn('mname', regexp_replace('mname', '.$', ''))   \n",
    "\n",
    "# Remove last dot per nameserver entry\n",
    "lambda_dot = lambda arr: [x[:-1] for x in arr]\n",
    "def fn_remove_dot(arr): return None if arr == None else lambda_dot(arr)\n",
    "udf_remove_last_char_in_array = udf(fn_remove_dot, ArrayType(StringType()))\n",
    "\n",
    "domains_df = domains_df \\\n",
    "    .select(\"*\") \\\n",
    "    .withColumn('nameservers', udf_remove_last_char_in_array(col('nameservers')))"
   ]
  },
  {
   "cell_type": "code",
   "execution_count": 48,
   "id": "ed77c9d3-375e-4093-8a6f-806b5357a9e2",
   "metadata": {},
   "outputs": [],
   "source": [
    "# change dtypes of seconds to int\n",
    "domains_df = domains_df.withColumn(\"refresh\", domains_df[\"refresh\"].cast(IntegerType()))\n",
    "domains_df = domains_df.withColumn(\"minimum\", domains_df[\"minimum\"].cast(IntegerType()))\n",
    "\n",
    "#domains_df.select('nameservers').show(20, False)\n",
    "#domains_df.show(5)"
   ]
  },
  {
   "cell_type": "code",
   "execution_count": 49,
   "id": "d31f848d",
   "metadata": {},
   "outputs": [],
   "source": [
    "# Count the values of each column with descending sort and show it\n",
    "# domains_df.groupBy(\"Top-Level-Domain\").count().sort(desc(\"count\")).show(20, False)\n",
    "# domains_df.groupBy(\"MX-Record\").count().sort(desc(\"count\")).show(20, False)\n",
    "# domains_df.groupBy(\"A-Record\").count().sort(desc(\"count\")).show(20, False)\n",
    "# domains_df.groupBy(\"A-Record_Checked\").count().sort(desc(\"count\")).show(20, False)\n",
    "# domains_df.groupBy(\"MX-Record_Checked\").count().sort(desc(\"count\")).show(20, False)\n",
    "# domains_df.groupBy(\"Redirection\").count().sort(desc(\"count\")).show(20, False)"
   ]
  },
  {
   "cell_type": "code",
   "execution_count": null,
   "id": "2c3728e6-3620-4c65-9e7b-9d1fa264f9aa",
   "metadata": {},
   "outputs": [],
   "source": []
  },
  {
   "cell_type": "code",
   "execution_count": 50,
   "id": "00000779",
   "metadata": {},
   "outputs": [
    {
     "ename": "AnalysisException",
     "evalue": "cannot resolve '`mx_record_checked`' given input columns: [a_record, aaaa_record, minimum, mname, mx_record, nameservers, nameservers_error, refresh, soa_information, soa_information_error, soa_infos_rep, top_level_domain];\n'Project [top_level_domain#435, mx_record#436, a_record#437, aaaa_record#482, soa_information#492, soa_information_error#502, nameservers#703, nameservers_error#522, soa_infos_rep#598, mname#677, refresh#716, minimum#729, explode('mx_record_checked) AS mx_record_checked_count#742]\n+- Project [top_level_domain#435, mx_record#436, a_record#437, aaaa_record#482, soa_information#492, soa_information_error#502, nameservers#703, nameservers_error#522, soa_infos_rep#598, mname#677, refresh#716, cast(minimum#637 as int) AS minimum#729]\n   +- Project [top_level_domain#435, mx_record#436, a_record#437, aaaa_record#482, soa_information#492, soa_information_error#502, nameservers#703, nameservers_error#522, soa_infos_rep#598, mname#677, cast(refresh#624 as int) AS refresh#716, minimum#637]\n      +- Project [top_level_domain#435, mx_record#436, a_record#437, aaaa_record#482, soa_information#492, soa_information_error#502, fn_remove_dot(nameservers#512) AS nameservers#703, nameservers_error#522, soa_infos_rep#598, mname#677, refresh#624, minimum#637]\n         +- Project [top_level_domain#435, mx_record#436, a_record#437, aaaa_record#482, soa_information#492, soa_information_error#502, nameservers#512, nameservers_error#522, soa_infos_rep#598, mname#677, refresh#624, minimum#637]\n            +- Project [top_level_domain#435, mx_record#436, a_record#437, aaaa_record#482, soa_information#492, soa_information_error#502, nameservers#512, nameservers_error#522, soa_infos_rep#598, regexp_replace(mname#650, .$, , 1) AS mname#677, refresh#624, minimum#637]\n               +- Project [top_level_domain#435, mx_record#436, a_record#437, aaaa_record#482, soa_information#492, soa_information_error#502, nameservers#512, nameservers_error#522, soa_infos_rep#598, CASE WHEN NOT (mname#611 = ) THEN mname#611 ELSE cast(null as string) END AS mname#650, refresh#624, minimum#637]\n                  +- Project [top_level_domain#435, mx_record#436, a_record#437, aaaa_record#482, soa_information#492, soa_information_error#502, nameservers#512, nameservers_error#522, soa_infos_rep#598, mname#611, refresh#624, split(soa_infos_rep#598,  , -1)[6] AS minimum#637]\n                     +- Project [top_level_domain#435, mx_record#436, a_record#437, aaaa_record#482, soa_information#492, soa_information_error#502, nameservers#512, nameservers_error#522, soa_infos_rep#598, mname#611, split(soa_infos_rep#598,  , -1)[3] AS refresh#624, minimum#564]\n                        +- Project [top_level_domain#435, mx_record#436, a_record#437, aaaa_record#482, soa_information#492, soa_information_error#502, nameservers#512, nameservers_error#522, soa_infos_rep#598, split(soa_infos_rep#598,  , -1)[0] AS mname#611, refresh#552, minimum#564]\n                           +- Project [top_level_domain#435, mx_record#436, a_record#437, aaaa_record#482, soa_information#492, soa_information_error#502, nameservers#512, nameservers_error#522, concat_ws( , soa_information#492) AS soa_infos_rep#598, mname#541, refresh#552, minimum#564]\n                              +- Project [top_level_domain#435, mx_record#436, a_record#437, aaaa_record#482, soa_information#492, soa_information_error#502, nameservers#512, nameservers_error#522, soa_infos_rep#531, mname#541, refresh#552, split(soa_infos_rep#531,  , -1)[6] AS minimum#564]\n                                 +- Project [top_level_domain#435, mx_record#436, a_record#437, aaaa_record#482, soa_information#492, soa_information_error#502, nameservers#512, nameservers_error#522, soa_infos_rep#531, mname#541, split(soa_infos_rep#531,  , -1)[3] AS refresh#552]\n                                    +- Project [top_level_domain#435, mx_record#436, a_record#437, aaaa_record#482, soa_information#492, soa_information_error#502, nameservers#512, nameservers_error#522, soa_infos_rep#531, split(soa_infos_rep#531,  , -1)[0] AS mname#541]\n                                       +- Project [top_level_domain#435, mx_record#436, a_record#437, aaaa_record#482, soa_information#492, soa_information_error#502, nameservers#512, nameservers_error#522, concat_ws( , soa_information#492) AS soa_infos_rep#531]\n                                          +- Project [top_level_domain#435, mx_record#436, a_record#437, aaaa_record#482, soa_information#492, soa_information_error#502, nameservers#512, getNameServers_error(top_level_domain#435) AS nameservers_error#522]\n                                             +- Project [top_level_domain#435, mx_record#436, a_record#437, aaaa_record#482, soa_information#492, soa_information_error#502, getNameServers(top_level_domain#435) AS nameservers#512, nameservers_error#472]\n                                                +- Project [top_level_domain#435, mx_record#436, a_record#437, aaaa_record#482, soa_information#492, getSOAInformation_error(top_level_domain#435) AS soa_information_error#502, nameservers#463, nameservers_error#472]\n                                                   +- Project [top_level_domain#435, mx_record#436, a_record#437, aaaa_record#482, getSOAInformation(top_level_domain#435) AS soa_information#492, soa_information_error#455, nameservers#463, nameservers_error#472]\n                                                      +- Project [top_level_domain#435, mx_record#436, a_record#437, getIPv6Records(top_level_domain#435) AS aaaa_record#482, soa_information#448, soa_information_error#455, nameservers#463, nameservers_error#472]\n                                                         +- Project [top_level_domain#435, mx_record#436, a_record#437, aaaa_record#442, soa_information#448, soa_information_error#455, nameservers#463, getNameServers_error(top_level_domain#435) AS nameservers_error#472]\n                                                            +- Project [top_level_domain#435, mx_record#436, a_record#437, aaaa_record#442, soa_information#448, soa_information_error#455, getNameServers(top_level_domain#435) AS nameservers#463]\n                                                               +- Project [top_level_domain#435, mx_record#436, a_record#437, aaaa_record#442, soa_information#448, getSOAInformation_error(top_level_domain#435) AS soa_information_error#455]\n                                                                  +- Project [top_level_domain#435, mx_record#436, a_record#437, aaaa_record#442, getSOAInformation(top_level_domain#435) AS soa_information#448]\n                                                                     +- Project [top_level_domain#435, mx_record#436, a_record#437, getIPv6Records(top_level_domain#435) AS aaaa_record#442]\n                                                                        +- Relation[top_level_domain#435,mx_record#436,a_record#437] JDBCRelation(domain) [numPartitions=1]\n",
     "output_type": "error",
     "traceback": [
      "\u001b[0;31m---------------------------------------------------------------------------\u001b[0m",
      "\u001b[0;31mAnalysisException\u001b[0m                         Traceback (most recent call last)",
      "\u001b[0;32m<ipython-input-50-3e795a6417f3>\u001b[0m in \u001b[0;36m<module>\u001b[0;34m\u001b[0m\n\u001b[1;32m      4\u001b[0m \u001b[0;31m#         .sort(desc(\"count\"))\u001b[0m\u001b[0;34m\u001b[0m\u001b[0;34m\u001b[0m\u001b[0;34m\u001b[0m\u001b[0m\n\u001b[1;32m      5\u001b[0m \u001b[0;34m\u001b[0m\u001b[0m\n\u001b[0;32m----> 6\u001b[0;31m \u001b[0mdomains_df\u001b[0m \u001b[0;34m=\u001b[0m \u001b[0mdomains_df\u001b[0m\u001b[0;34m.\u001b[0m\u001b[0mwithColumn\u001b[0m\u001b[0;34m(\u001b[0m\u001b[0;34m'mx_record_checked_count'\u001b[0m\u001b[0;34m,\u001b[0m \u001b[0mexplode\u001b[0m\u001b[0;34m(\u001b[0m\u001b[0mcol\u001b[0m\u001b[0;34m(\u001b[0m\u001b[0;34m'mx_record_checked'\u001b[0m\u001b[0;34m)\u001b[0m\u001b[0;34m)\u001b[0m\u001b[0;34m)\u001b[0m\u001b[0;31m \u001b[0m\u001b[0;31m\\\u001b[0m\u001b[0;34m\u001b[0m\u001b[0;34m\u001b[0m\u001b[0m\n\u001b[0m\u001b[1;32m      7\u001b[0m         \u001b[0;34m.\u001b[0m\u001b[0mgroupBy\u001b[0m\u001b[0;34m(\u001b[0m\u001b[0;34m'mx_record_checked_count'\u001b[0m\u001b[0;34m)\u001b[0m\u001b[0;31m \u001b[0m\u001b[0;31m\\\u001b[0m\u001b[0;34m\u001b[0m\u001b[0;34m\u001b[0m\u001b[0m\n\u001b[1;32m      8\u001b[0m         \u001b[0;34m.\u001b[0m\u001b[0mcount\u001b[0m\u001b[0;34m(\u001b[0m\u001b[0;34m)\u001b[0m\u001b[0;31m \u001b[0m\u001b[0;31m\\\u001b[0m\u001b[0;34m\u001b[0m\u001b[0;34m\u001b[0m\u001b[0m\n",
      "\u001b[0;32m/usr/local/spark/python/pyspark/sql/dataframe.py\u001b[0m in \u001b[0;36mwithColumn\u001b[0;34m(self, colName, col)\u001b[0m\n\u001b[1;32m   2453\u001b[0m         \"\"\"\n\u001b[1;32m   2454\u001b[0m         \u001b[0;32massert\u001b[0m \u001b[0misinstance\u001b[0m\u001b[0;34m(\u001b[0m\u001b[0mcol\u001b[0m\u001b[0;34m,\u001b[0m \u001b[0mColumn\u001b[0m\u001b[0;34m)\u001b[0m\u001b[0;34m,\u001b[0m \u001b[0;34m\"col should be Column\"\u001b[0m\u001b[0;34m\u001b[0m\u001b[0;34m\u001b[0m\u001b[0m\n\u001b[0;32m-> 2455\u001b[0;31m         \u001b[0;32mreturn\u001b[0m \u001b[0mDataFrame\u001b[0m\u001b[0;34m(\u001b[0m\u001b[0mself\u001b[0m\u001b[0;34m.\u001b[0m\u001b[0m_jdf\u001b[0m\u001b[0;34m.\u001b[0m\u001b[0mwithColumn\u001b[0m\u001b[0;34m(\u001b[0m\u001b[0mcolName\u001b[0m\u001b[0;34m,\u001b[0m \u001b[0mcol\u001b[0m\u001b[0;34m.\u001b[0m\u001b[0m_jc\u001b[0m\u001b[0;34m)\u001b[0m\u001b[0;34m,\u001b[0m \u001b[0mself\u001b[0m\u001b[0;34m.\u001b[0m\u001b[0msql_ctx\u001b[0m\u001b[0;34m)\u001b[0m\u001b[0;34m\u001b[0m\u001b[0;34m\u001b[0m\u001b[0m\n\u001b[0m\u001b[1;32m   2456\u001b[0m \u001b[0;34m\u001b[0m\u001b[0m\n\u001b[1;32m   2457\u001b[0m     \u001b[0;32mdef\u001b[0m \u001b[0mwithColumnRenamed\u001b[0m\u001b[0;34m(\u001b[0m\u001b[0mself\u001b[0m\u001b[0;34m,\u001b[0m \u001b[0mexisting\u001b[0m\u001b[0;34m,\u001b[0m \u001b[0mnew\u001b[0m\u001b[0;34m)\u001b[0m\u001b[0;34m:\u001b[0m\u001b[0;34m\u001b[0m\u001b[0;34m\u001b[0m\u001b[0m\n",
      "\u001b[0;32m/usr/local/spark/python/lib/py4j-0.10.9-src.zip/py4j/java_gateway.py\u001b[0m in \u001b[0;36m__call__\u001b[0;34m(self, *args)\u001b[0m\n\u001b[1;32m   1302\u001b[0m \u001b[0;34m\u001b[0m\u001b[0m\n\u001b[1;32m   1303\u001b[0m         \u001b[0manswer\u001b[0m \u001b[0;34m=\u001b[0m \u001b[0mself\u001b[0m\u001b[0;34m.\u001b[0m\u001b[0mgateway_client\u001b[0m\u001b[0;34m.\u001b[0m\u001b[0msend_command\u001b[0m\u001b[0;34m(\u001b[0m\u001b[0mcommand\u001b[0m\u001b[0;34m)\u001b[0m\u001b[0;34m\u001b[0m\u001b[0;34m\u001b[0m\u001b[0m\n\u001b[0;32m-> 1304\u001b[0;31m         return_value = get_return_value(\n\u001b[0m\u001b[1;32m   1305\u001b[0m             answer, self.gateway_client, self.target_id, self.name)\n\u001b[1;32m   1306\u001b[0m \u001b[0;34m\u001b[0m\u001b[0m\n",
      "\u001b[0;32m/usr/local/spark/python/pyspark/sql/utils.py\u001b[0m in \u001b[0;36mdeco\u001b[0;34m(*a, **kw)\u001b[0m\n\u001b[1;32m    115\u001b[0m                 \u001b[0;31m# Hide where the exception came from that shows a non-Pythonic\u001b[0m\u001b[0;34m\u001b[0m\u001b[0;34m\u001b[0m\u001b[0;34m\u001b[0m\u001b[0m\n\u001b[1;32m    116\u001b[0m                 \u001b[0;31m# JVM exception message.\u001b[0m\u001b[0;34m\u001b[0m\u001b[0;34m\u001b[0m\u001b[0;34m\u001b[0m\u001b[0m\n\u001b[0;32m--> 117\u001b[0;31m                 \u001b[0;32mraise\u001b[0m \u001b[0mconverted\u001b[0m \u001b[0;32mfrom\u001b[0m \u001b[0;32mNone\u001b[0m\u001b[0;34m\u001b[0m\u001b[0;34m\u001b[0m\u001b[0m\n\u001b[0m\u001b[1;32m    118\u001b[0m             \u001b[0;32melse\u001b[0m\u001b[0;34m:\u001b[0m\u001b[0;34m\u001b[0m\u001b[0;34m\u001b[0m\u001b[0m\n\u001b[1;32m    119\u001b[0m                 \u001b[0;32mraise\u001b[0m\u001b[0;34m\u001b[0m\u001b[0;34m\u001b[0m\u001b[0m\n",
      "\u001b[0;31mAnalysisException\u001b[0m: cannot resolve '`mx_record_checked`' given input columns: [a_record, aaaa_record, minimum, mname, mx_record, nameservers, nameservers_error, refresh, soa_information, soa_information_error, soa_infos_rep, top_level_domain];\n'Project [top_level_domain#435, mx_record#436, a_record#437, aaaa_record#482, soa_information#492, soa_information_error#502, nameservers#703, nameservers_error#522, soa_infos_rep#598, mname#677, refresh#716, minimum#729, explode('mx_record_checked) AS mx_record_checked_count#742]\n+- Project [top_level_domain#435, mx_record#436, a_record#437, aaaa_record#482, soa_information#492, soa_information_error#502, nameservers#703, nameservers_error#522, soa_infos_rep#598, mname#677, refresh#716, cast(minimum#637 as int) AS minimum#729]\n   +- Project [top_level_domain#435, mx_record#436, a_record#437, aaaa_record#482, soa_information#492, soa_information_error#502, nameservers#703, nameservers_error#522, soa_infos_rep#598, mname#677, cast(refresh#624 as int) AS refresh#716, minimum#637]\n      +- Project [top_level_domain#435, mx_record#436, a_record#437, aaaa_record#482, soa_information#492, soa_information_error#502, fn_remove_dot(nameservers#512) AS nameservers#703, nameservers_error#522, soa_infos_rep#598, mname#677, refresh#624, minimum#637]\n         +- Project [top_level_domain#435, mx_record#436, a_record#437, aaaa_record#482, soa_information#492, soa_information_error#502, nameservers#512, nameservers_error#522, soa_infos_rep#598, mname#677, refresh#624, minimum#637]\n            +- Project [top_level_domain#435, mx_record#436, a_record#437, aaaa_record#482, soa_information#492, soa_information_error#502, nameservers#512, nameservers_error#522, soa_infos_rep#598, regexp_replace(mname#650, .$, , 1) AS mname#677, refresh#624, minimum#637]\n               +- Project [top_level_domain#435, mx_record#436, a_record#437, aaaa_record#482, soa_information#492, soa_information_error#502, nameservers#512, nameservers_error#522, soa_infos_rep#598, CASE WHEN NOT (mname#611 = ) THEN mname#611 ELSE cast(null as string) END AS mname#650, refresh#624, minimum#637]\n                  +- Project [top_level_domain#435, mx_record#436, a_record#437, aaaa_record#482, soa_information#492, soa_information_error#502, nameservers#512, nameservers_error#522, soa_infos_rep#598, mname#611, refresh#624, split(soa_infos_rep#598,  , -1)[6] AS minimum#637]\n                     +- Project [top_level_domain#435, mx_record#436, a_record#437, aaaa_record#482, soa_information#492, soa_information_error#502, nameservers#512, nameservers_error#522, soa_infos_rep#598, mname#611, split(soa_infos_rep#598,  , -1)[3] AS refresh#624, minimum#564]\n                        +- Project [top_level_domain#435, mx_record#436, a_record#437, aaaa_record#482, soa_information#492, soa_information_error#502, nameservers#512, nameservers_error#522, soa_infos_rep#598, split(soa_infos_rep#598,  , -1)[0] AS mname#611, refresh#552, minimum#564]\n                           +- Project [top_level_domain#435, mx_record#436, a_record#437, aaaa_record#482, soa_information#492, soa_information_error#502, nameservers#512, nameservers_error#522, concat_ws( , soa_information#492) AS soa_infos_rep#598, mname#541, refresh#552, minimum#564]\n                              +- Project [top_level_domain#435, mx_record#436, a_record#437, aaaa_record#482, soa_information#492, soa_information_error#502, nameservers#512, nameservers_error#522, soa_infos_rep#531, mname#541, refresh#552, split(soa_infos_rep#531,  , -1)[6] AS minimum#564]\n                                 +- Project [top_level_domain#435, mx_record#436, a_record#437, aaaa_record#482, soa_information#492, soa_information_error#502, nameservers#512, nameservers_error#522, soa_infos_rep#531, mname#541, split(soa_infos_rep#531,  , -1)[3] AS refresh#552]\n                                    +- Project [top_level_domain#435, mx_record#436, a_record#437, aaaa_record#482, soa_information#492, soa_information_error#502, nameservers#512, nameservers_error#522, soa_infos_rep#531, split(soa_infos_rep#531,  , -1)[0] AS mname#541]\n                                       +- Project [top_level_domain#435, mx_record#436, a_record#437, aaaa_record#482, soa_information#492, soa_information_error#502, nameservers#512, nameservers_error#522, concat_ws( , soa_information#492) AS soa_infos_rep#531]\n                                          +- Project [top_level_domain#435, mx_record#436, a_record#437, aaaa_record#482, soa_information#492, soa_information_error#502, nameservers#512, getNameServers_error(top_level_domain#435) AS nameservers_error#522]\n                                             +- Project [top_level_domain#435, mx_record#436, a_record#437, aaaa_record#482, soa_information#492, soa_information_error#502, getNameServers(top_level_domain#435) AS nameservers#512, nameservers_error#472]\n                                                +- Project [top_level_domain#435, mx_record#436, a_record#437, aaaa_record#482, soa_information#492, getSOAInformation_error(top_level_domain#435) AS soa_information_error#502, nameservers#463, nameservers_error#472]\n                                                   +- Project [top_level_domain#435, mx_record#436, a_record#437, aaaa_record#482, getSOAInformation(top_level_domain#435) AS soa_information#492, soa_information_error#455, nameservers#463, nameservers_error#472]\n                                                      +- Project [top_level_domain#435, mx_record#436, a_record#437, getIPv6Records(top_level_domain#435) AS aaaa_record#482, soa_information#448, soa_information_error#455, nameservers#463, nameservers_error#472]\n                                                         +- Project [top_level_domain#435, mx_record#436, a_record#437, aaaa_record#442, soa_information#448, soa_information_error#455, nameservers#463, getNameServers_error(top_level_domain#435) AS nameservers_error#472]\n                                                            +- Project [top_level_domain#435, mx_record#436, a_record#437, aaaa_record#442, soa_information#448, soa_information_error#455, getNameServers(top_level_domain#435) AS nameservers#463]\n                                                               +- Project [top_level_domain#435, mx_record#436, a_record#437, aaaa_record#442, soa_information#448, getSOAInformation_error(top_level_domain#435) AS soa_information_error#455]\n                                                                  +- Project [top_level_domain#435, mx_record#436, a_record#437, aaaa_record#442, getSOAInformation(top_level_domain#435) AS soa_information#448]\n                                                                     +- Project [top_level_domain#435, mx_record#436, a_record#437, getIPv6Records(top_level_domain#435) AS aaaa_record#442]\n                                                                        +- Relation[top_level_domain#435,mx_record#436,a_record#437] JDBCRelation(domain) [numPartitions=1]\n"
     ]
    }
   ],
   "source": [
    "# domains_df = domains_df.withColumn('mx_record_count', explode(col('mx_record'))) \\\n",
    "#         .groupBy('mx_record_count') \\\n",
    "#         .count() \\\n",
    "#         .sort(desc(\"count\"))\n",
    "\n",
    "domains_df = domains_df.withColumn('mx_record_checked_count', explode(col('mx_record_checked'))) \\\n",
    "        .groupBy('mx_record_checked_count') \\\n",
    "        .count() \\\n",
    "        .sort(desc(\"count\"))\n",
    "\n",
    "# domains_df = domains_df.withColumn('a_record_count', explode(col('a_record'))) \\\n",
    "#         .groupBy('a_record_count') \\\n",
    "#         .count() \\\n",
    "#         .sort(desc(\"count\"))\n",
    "\n",
    "domains_df = domains_df.withColumn('a_record_checked', explode(col('a_record_checked'))) \\\n",
    "        .groupBy('a_record_checked') \\\n",
    "        .count() \\\n",
    "        .sort(desc(\"count\"))\n",
    "\n",
    "domains_df = domains_df.withColumn('m_name', explode(col('m_name'))) \\\n",
    "        .groupBy('m_name') \\\n",
    "        .count() \\\n",
    "        .sort(desc(\"count\"))\n",
    "\n",
    "domains_df = domains_df.withColumn('nameservers_count', explode(col('nameservers'))) \\\n",
    "        .groupBy('nameservers_count') \\\n",
    "        .count() \\\n",
    "        .sort(desc(\"count\"))\n",
    "\n",
    "domains_df = domains_df.drop('mx_record').drop('a_record').drop('soa_information').drop('soa_infos_rep')"
   ]
  },
  {
   "cell_type": "code",
   "execution_count": null,
   "id": "63e702d9-b120-4442-b29d-4af12982b168",
   "metadata": {},
   "outputs": [],
   "source": [
    "domains_df.show(5)"
   ]
  },
  {
   "cell_type": "code",
   "execution_count": null,
   "id": "e5745db3",
   "metadata": {},
   "outputs": [],
   "source": [
    "# Write the data frame to the PostgreSQL database\n",
    "domains_df.write \\\n",
    "    .format(\"jdbc\") \\\n",
    "    .option(\"url\", connection) \\\n",
    "    .option(\"dbtable\", \"domain_enhanced\") \\\n",
    "    .option(\"user\", user) \\\n",
    "    .option(\"password\", password) \\\n",
    "    .mode(\"append\") \\\n",
    "    .save()"
   ]
  },
  {
   "cell_type": "code",
   "execution_count": null,
   "id": "f093dc34-d8c1-4661-b62a-11a845100b09",
   "metadata": {},
   "outputs": [],
   "source": []
  }
 ],
 "metadata": {
  "kernelspec": {
   "display_name": "Python 3",
   "language": "python",
   "name": "python3"
  },
  "language_info": {
   "codemirror_mode": {
    "name": "ipython",
    "version": 3
   },
   "file_extension": ".py",
   "mimetype": "text/x-python",
   "name": "python",
   "nbconvert_exporter": "python",
   "pygments_lexer": "ipython3",
   "version": "3.9.5"
  }
 },
 "nbformat": 4,
 "nbformat_minor": 5
}
