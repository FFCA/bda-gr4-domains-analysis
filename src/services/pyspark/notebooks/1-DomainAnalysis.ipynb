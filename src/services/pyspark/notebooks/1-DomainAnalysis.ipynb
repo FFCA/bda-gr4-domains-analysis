{
 "cells": [
  {
   "cell_type": "code",
   "execution_count": 1,
   "id": "7ae2465b",
   "metadata": {},
   "outputs": [
    {
     "name": "stdout",
     "output_type": "stream",
     "text": [
      "Requirement already satisfied: dnspython in /opt/conda/lib/python3.9/site-packages (2.1.0)\n",
      "Requirement already satisfied: ipynb in /opt/conda/lib/python3.9/site-packages (0.5.1)\n"
     ]
    }
   ],
   "source": [
    "!pip install dnspython\n",
    "!pip install ipynb\n",
    "\n",
    "from pyspark.sql import SparkSession\n",
    "from pyspark.sql.functions import *\n",
    "from pyspark.sql.types import *\n",
    "import numpy as np\n",
    "import requests\n",
    "import dns.resolver\n",
    "# Import all functions from Funtions.ipynb\n",
    "from ipynb.fs.full.Functions import *\n",
    "\n",
    "#PostgreSQL access data\n",
    "host = \"bda_gr4_database\"\n",
    "port = \"5432\"\n",
    "database = \"domainanalysis\"\n",
    "user = \"postgres\"\n",
    "password = \"postgres\"\n",
    "\n",
    "# PostgreSQL connection url\n",
    "connection = f\"jdbc:postgresql://{host}:{port}/{database}\"\n",
    "\n",
    "# Create a Spark session\n",
    "spark = SparkSession.builder \\\n",
    "    .appName(\"domain_analysis\") \\\n",
    "    .getOrCreate()\n",
    "\n",
    "# Read data from the database\n",
    "domains_df = spark.read \\\n",
    "                .format(\"jdbc\") \\\n",
    "                .option(\"url\", connection) \\\n",
    "                .option(\"dbtable\", \"domain\") \\\n",
    "                .option(\"user\", user) \\\n",
    "                .option(\"password\", password) \\\n",
    "                .load()"
   ]
  },
  {
   "cell_type": "code",
   "execution_count": 17,
   "id": "2776e04a",
   "metadata": {},
   "outputs": [],
   "source": [
    "udf_getIPv6Records = udf(getIPv6Records, ArrayType(StringType()))\n",
    "udf_getSOAInformation = udf(getSOAInformation, ArrayType(StringType()))\n",
    "udf_getSOAInformation_error = udf(getSOAInformation_error, ArrayType(StringType()))\n",
    "udf_getNameServers = udf(getNameServers, ArrayType(StringType()))\n",
    "udf_getNameServers_error = udf(getNameServers_error, IntegerType())"
   ]
  },
  {
   "cell_type": "code",
   "execution_count": 21,
   "id": "24cd0c8c",
   "metadata": {},
   "outputs": [
    {
     "ename": "AttributeError",
     "evalue": "'NoneType' object has no attribute 'withColumn'",
     "output_type": "error",
     "traceback": [
      "\u001b[0;31m---------------------------------------------------------------------------\u001b[0m",
      "\u001b[0;31mAttributeError\u001b[0m                            Traceback (most recent call last)",
      "\u001b[0;32m<ipython-input-21-953e4dbecb22>\u001b[0m in \u001b[0;36m<module>\u001b[0;34m\u001b[0m\n\u001b[0;32m----> 1\u001b[0;31m \u001b[0mdomains_df\u001b[0m \u001b[0;34m=\u001b[0m \u001b[0mdomains_df\u001b[0m\u001b[0;34m.\u001b[0m\u001b[0mwithColumn\u001b[0m\u001b[0;34m(\u001b[0m\u001b[0;34m\"aaaa_record\"\u001b[0m\u001b[0;34m,\u001b[0m \u001b[0mudf_getIPv6Records\u001b[0m\u001b[0;34m(\u001b[0m\u001b[0;34m\"top_level_domain\"\u001b[0m\u001b[0;34m)\u001b[0m\u001b[0;34m)\u001b[0m\u001b[0;34m\u001b[0m\u001b[0;34m\u001b[0m\u001b[0m\n\u001b[0m\u001b[1;32m      2\u001b[0m \u001b[0mdomains_df\u001b[0m \u001b[0;34m=\u001b[0m \u001b[0mdomains_df\u001b[0m\u001b[0;34m.\u001b[0m\u001b[0mwithColumn\u001b[0m\u001b[0;34m(\u001b[0m\u001b[0;34m\"soa_information\"\u001b[0m\u001b[0;34m,\u001b[0m \u001b[0mudf_getSOAInformation\u001b[0m\u001b[0;34m(\u001b[0m\u001b[0;34m\"top_level_domain\"\u001b[0m\u001b[0;34m)\u001b[0m\u001b[0;34m)\u001b[0m\u001b[0;34m\u001b[0m\u001b[0;34m\u001b[0m\u001b[0m\n\u001b[1;32m      3\u001b[0m \u001b[0mdomains_df\u001b[0m \u001b[0;34m=\u001b[0m \u001b[0mdomains_df\u001b[0m\u001b[0;34m.\u001b[0m\u001b[0mwithColumn\u001b[0m\u001b[0;34m(\u001b[0m\u001b[0;34m\"soa_information_error\"\u001b[0m\u001b[0;34m,\u001b[0m \u001b[0mudf_getSOAInformation_error\u001b[0m\u001b[0;34m(\u001b[0m\u001b[0;34m\"top_level_domain\"\u001b[0m\u001b[0;34m)\u001b[0m\u001b[0;34m)\u001b[0m\u001b[0;34m\u001b[0m\u001b[0;34m\u001b[0m\u001b[0m\n\u001b[1;32m      4\u001b[0m \u001b[0mdomains_df\u001b[0m \u001b[0;34m=\u001b[0m \u001b[0mdomains_df\u001b[0m\u001b[0;34m.\u001b[0m\u001b[0mwithColumn\u001b[0m\u001b[0;34m(\u001b[0m\u001b[0;34m\"nameservers\"\u001b[0m\u001b[0;34m,\u001b[0m \u001b[0mudf_getNameServers\u001b[0m\u001b[0;34m(\u001b[0m\u001b[0;34m\"top_level_domain\"\u001b[0m\u001b[0;34m)\u001b[0m\u001b[0;34m)\u001b[0m\u001b[0;34m\u001b[0m\u001b[0;34m\u001b[0m\u001b[0m\n\u001b[1;32m      5\u001b[0m \u001b[0mdomains_df\u001b[0m \u001b[0;34m=\u001b[0m \u001b[0mdomains_df\u001b[0m\u001b[0;34m.\u001b[0m\u001b[0mwithColumn\u001b[0m\u001b[0;34m(\u001b[0m\u001b[0;34m\"nameservers_error\"\u001b[0m\u001b[0;34m,\u001b[0m \u001b[0mudf_getNameServers_error\u001b[0m\u001b[0;34m(\u001b[0m\u001b[0;34m\"top_level_domain\"\u001b[0m\u001b[0;34m)\u001b[0m\u001b[0;34m)\u001b[0m\u001b[0;34m\u001b[0m\u001b[0;34m\u001b[0m\u001b[0m\n",
      "\u001b[0;31mAttributeError\u001b[0m: 'NoneType' object has no attribute 'withColumn'"
     ]
    }
   ],
   "source": [
    "domains_df = domains_df.withColumn(\"aaaa_record\", udf_getIPv6Records(\"top_level_domain\"))\n",
    "domains_df = domains_df.withColumn(\"soa_information\", udf_getSOAInformation(\"top_level_domain\"))\n",
    "domains_df = domains_df.withColumn(\"soa_information_error\", udf_getSOAInformation_error(\"top_level_domain\"))\n",
    "domains_df = domains_df.withColumn(\"nameservers\", udf_getNameServers(\"top_level_domain\"))\n",
    "domains_df = domains_df.withColumn(\"nameservers_error\", udf_getNameServers_error(\"top_level_domain\"))\n",
    "domains_df.show(20, False)"
   ]
  },
  {
   "cell_type": "code",
   "execution_count": 4,
   "id": "1097f17c-04e5-4c04-b909-3057dfd08c85",
   "metadata": {},
   "outputs": [],
   "source": [
    "# Change ArrayType<String> into String as preparation for information separation\n",
    "domains_df = domains_df.withColumn(\"soa_infos_rep\", concat_ws(\" \", \"soa_information\"))\n",
    "\n",
    "# Split SOA information into separate columns (all String)\n",
    "split_col = split(domains_df['soa_infos_rep'], ' ')\n",
    "domains_df = domains_df.withColumn('mname', split_col.getItem(0))\n",
    "domains_df = domains_df.withColumn('refresh', split_col.getItem(3))\n",
    "domains_df = domains_df.withColumn('minimum', split_col.getItem(6))\n",
    "\n",
    "#\n",
    "def replace_empty_strings(x):\n",
    "    return when(col(x) == \"\", None).otherwise(col(x))\n",
    "\n",
    "domains_df = domains_df.withColumn(\"mname\", replace_empty_strings(\"mname\"))"
   ]
  },
  {
   "cell_type": "code",
   "execution_count": 5,
   "id": "389fa13a-82fb-4067-bdb1-664b6065c778",
   "metadata": {},
   "outputs": [],
   "source": [
    "# Remove last dot per soa mname\n",
    "domains_df = domains_df.withColumn('mname', regexp_replace('mname', '.$', ''))   \n",
    "\n",
    "# Remove last dot per nameserver entry\n",
    "lambda_dot_remove = lambda arr: [x[:-1] for x in arr]\n",
    "def fn_remove_dot(arr): return None if arr == None else lambda_dot_remove(arr)\n",
    "udf_remove_last_char_in_array = udf(fn_remove_dot, ArrayType(StringType()))\n",
    "\n",
    "domains_df = domains_df \\\n",
    "    .select(\"*\") \\\n",
    "    .withColumn('nameservers', udf_remove_last_char_in_array(col('nameservers')))"
   ]
  },
  {
   "cell_type": "code",
   "execution_count": 13,
   "id": "ed77c9d3-375e-4093-8a6f-806b5357a9e2",
   "metadata": {},
   "outputs": [
    {
     "name": "stdout",
     "output_type": "stream",
     "text": [
      "+----------------+--------------------+-----------------+--------------------+--------------------+---------------------+--------------------+-----------------+--------------------+--------------------+-------+-------+\n",
      "|top_level_domain|           mx_record|         a_record|         aaaa_record|     soa_information|soa_information_error|         nameservers|nameservers_error|       soa_infos_rep|               mname|refresh|minimum|\n",
      "+----------------+--------------------+-----------------+--------------------+--------------------+---------------------+--------------------+-----------------+--------------------+--------------------+-------+-------+\n",
      "|          0-3.de|[teller.ggeg.eu, ...|[185.163.116.240]|                null|[teller.ggeg.eu. ...|                 null|[teller.ggeg.eu, ...|                0|teller.ggeg.eu. e...|      teller.ggeg.eu|  86400|   3600|\n",
      "|     0-263475.de|                null|   [176.9.76.101]|                null|[brit.ns.cloudfla...|                 null|[brit.ns.cloudfla...|                0|brit.ns.cloudflar...|brit.ns.cloudflar...|  10000|   3600|\n",
      "|       0-apps.de|        [mx.leo.org]|  [80.190.158.32]|                null|[ns1.first-ns.de....|                 null|[robotns3.second-...|                0|ns1.first-ns.de. ...|     ns1.first-ns.de|  14400|  86400|\n",
      "|         0-32.de|   [smtpin.rzone.de]|  [81.169.145.66]|[2a01:238:20a:202...|[shades10.rzone.d...|                 null|[docks12.rzone.de...|                0|shades10.rzone.de...|   shades10.rzone.de|  86400|    300|\n",
      "|         0-17.de|         [localhost]| [91.195.241.137]|                null|[ns1.sedoparking....|                 null|[ns1.sedoparking....|                0|ns1.sedoparking.c...| ns1.sedoparking.com|  86400|  86400|\n",
      "+----------------+--------------------+-----------------+--------------------+--------------------+---------------------+--------------------+-----------------+--------------------+--------------------+-------+-------+\n",
      "only showing top 5 rows\n",
      "\n"
     ]
    }
   ],
   "source": [
    "# change dtypes of seconds to int\n",
    "domains_df = domains_df.withColumn(\"refresh\", domains_df[\"refresh\"].cast(IntegerType()))\n",
    "domains_df = domains_df.withColumn(\"minimum\", domains_df[\"minimum\"].cast(IntegerType()))\n",
    "\n",
    "#domains_df.select('mname').show(20, False)\n",
    "domains_df.show(5)"
   ]
  },
  {
   "cell_type": "code",
   "execution_count": 7,
   "id": "d31f848d",
   "metadata": {},
   "outputs": [],
   "source": [
    "# Count the values of each column with descending sort and show it\n",
    "# domains_df.groupBy(\"Top-Level-Domain\").count().sort(desc(\"count\")).show(20, False)\n",
    "# domains_df.groupBy(\"MX-Record\").count().sort(desc(\"count\")).show(20, False)\n",
    "# domains_df.groupBy(\"A-Record\").count().sort(desc(\"count\")).show(20, False)\n",
    "# domains_df.groupBy(\"A-Record_Checked\").count().sort(desc(\"count\")).show(20, False)\n",
    "# domains_df.groupBy(\"MX-Record_Checked\").count().sort(desc(\"count\")).show(20, False)\n",
    "# domains_df.groupBy(\"Redirection\").count().sort(desc(\"count\")).show(20, False)"
   ]
  },
  {
   "cell_type": "code",
   "execution_count": 8,
   "id": "2c3728e6-3620-4c65-9e7b-9d1fa264f9aa",
   "metadata": {},
   "outputs": [],
   "source": [
    "# Count the occrence of SOA records\n",
    "soa_mname_count = domains_df.withColumn('mname', (col('mname'))) \\\n",
    "        .groupBy('mname') \\\n",
    "        .count()\n",
    "\n",
    "soa_mname_count_top_ten_df = soa_mname_count.orderBy(['count'], ascending = [False]).limit(10)\n",
    "#soa_mname_count_top_ten_df.show()"
   ]
  },
  {
   "cell_type": "code",
   "execution_count": 9,
   "id": "b7e08810-f6b9-4664-beae-df5c1682407c",
   "metadata": {},
   "outputs": [],
   "source": [
    "def getSOAIPv4(mname):\n",
    "    if mname == None:\n",
    "        return None\n",
    "    resolver = dns.resolver.Resolver(); \n",
    "    response = resolver.query(mname , \"A\")\n",
    "    soa_ipv4 = ''\n",
    "    for item in response:\n",
    "        ip_string = ','.join([str(item), soa_ipv4])\n",
    "        ip_string = ip_string[:len(ip_string)-1]\n",
    "    return ip_string"
   ]
  },
  {
   "cell_type": "code",
   "execution_count": 10,
   "id": "3f2cf11a-c5ca-4b3a-933c-fc73d58a39a2",
   "metadata": {},
   "outputs": [],
   "source": [
    "udf_getSOAIPv4 = udf(getSOAIPv4, StringType())\n",
    "soa_mname_count_top_ten_df = soa_mname_count_top_ten_df.withColumn(\"ipv4\", udf_getSOAIPv4(\"mname\"))\n",
    "#soa_mname_count_top_ten_df.show(5, False)"
   ]
  },
  {
   "cell_type": "code",
   "execution_count": 11,
   "id": "fa4fc49f-31f8-40b6-bd28-563ba1ef6d02",
   "metadata": {},
   "outputs": [],
   "source": [
    "# ===================REMOVE AND DELETE ?\n",
    "udf_getOrganisation = udf(getOrg, StringType())\n",
    "udf_getPostal = udf(getPostal, StringType())\n",
    "udf_getCity = udf(getCity, StringType())\n",
    "udf_getCountry = udf(getCountry, StringType())"
   ]
  },
  {
   "cell_type": "code",
   "execution_count": 12,
   "id": "9e4b7ed3-b13e-451a-bcea-b238ecd8e971",
   "metadata": {},
   "outputs": [
    {
     "name": "stdout",
     "output_type": "stream",
     "text": [
      "+---------------------+-----+---------------+--------------------------+------+-----------------+-------+\n",
      "|mname                |count|ipv4           |organization              |postal|city             |country|\n",
      "+---------------------+-----+---------------+--------------------------+------+-----------------+-------+\n",
      "|ns1.sedoparking.com  |6    |91.195.241.8   |AS47846 SEDO GmbH         |60311 |Frankfurt am Main|DE     |\n",
      "|null                 |4    |null           |null                      |null  |null             |null   |\n",
      "|dns01-tld.t-online.de|3    |212.185.250.107|AS3320 Deutsche Telekom AG|50676 |Köln             |DE     |\n",
      "|root-dns.netcup.net  |2    |46.38.225.225  |AS197540 netcup GmbH      |76461 |Muggensturm      |DE     |\n",
      "|ns1.hosting.de       |1    |134.0.30.178   |AS48823 Hosting.de GmbH   |33519 |Bielefeld        |DE     |\n",
      "+---------------------+-----+---------------+--------------------------+------+-----------------+-------+\n",
      "only showing top 5 rows\n",
      "\n"
     ]
    }
   ],
   "source": [
    "# Add company information to SOA server\n",
    "soa_mname_count_top_ten_df = soa_mname_count_top_ten_df.withColumn(\"organization\", udf_getOrganisation(\"ipv4\"))\n",
    "soa_mname_count_top_ten_df = soa_mname_count_top_ten_df.withColumn(\"postal\", udf_getPostal(\"ipv4\"))\n",
    "soa_mname_count_top_ten_df = soa_mname_count_top_ten_df.withColumn(\"city\", udf_getCity(\"ipv4\"))\n",
    "soa_mname_count_top_ten_df = soa_mname_count_top_ten_df.withColumn(\"country\", udf_getCountry(\"ipv4\"))\n",
    "soa_mname_count_top_ten_df.show(5, False)"
   ]
  },
  {
   "cell_type": "code",
   "execution_count": 15,
   "id": "00000779",
   "metadata": {},
   "outputs": [],
   "source": [
    "# # domains_df = domains_df.withColumn('mx_record_count', explode(col('mx_record'))) \\\n",
    "# #         .groupBy('mx_record_count') \\\n",
    "# #         .count() \\\n",
    "# #         .sort(desc(\"count\"))\n",
    "\n",
    "# domains_df = domains_df.withColumn('mx_record_checked_count', explode(col('mx_record_checked'))) \\\n",
    "#         .groupBy('mx_record_checked_count') \\\n",
    "#         .count() \\\n",
    "#         .sort(desc(\"count\"))\n",
    "\n",
    "# # domains_df = domains_df.withColumn('a_record_count', explode(col('a_record'))) \\\n",
    "# #         .groupBy('a_record_count') \\\n",
    "# #         .count() \\\n",
    "# #         .sort(desc(\"count\"))\n",
    "\n",
    "# domains_df = domains_df.withColumn('a_record_checked', explode(col('a_record_checked'))) \\\n",
    "#         .groupBy('a_record_checked') \\\n",
    "#         .count() \\\n",
    "#         .sort(desc(\"count\"))\n",
    "\n",
    "# domains_df = domains_df.withColumn('m_name', explode(col('m_name'))) \\\n",
    "#         .groupBy('m_name') \\\n",
    "#         .count() \\\n",
    "#         .sort(desc(\"count\"))\n",
    "\n",
    "# domains_df = domains_df.withColumn('nameservers_count', explode(col('nameservers'))) \\\n",
    "#         .groupBy('nameservers_count') \\\n",
    "#         .count() \\\n",
    "#         .sort(desc(\"count\"))\n",
    "\n",
    "domains_df = domains_df.drop('mx_record').drop('a_record').drop('soa_information').drop('soa_infos_rep')"
   ]
  },
  {
   "cell_type": "code",
   "execution_count": 16,
   "id": "63e702d9-b120-4442-b29d-4af12982b168",
   "metadata": {},
   "outputs": [
    {
     "name": "stdout",
     "output_type": "stream",
     "text": [
      "+----------------+--------------------+---------------------+--------------------+-----------------+--------------------+-------+-------+\n",
      "|top_level_domain|         aaaa_record|soa_information_error|         nameservers|nameservers_error|               mname|refresh|minimum|\n",
      "+----------------+--------------------+---------------------+--------------------+-----------------+--------------------+-------+-------+\n",
      "|          0-3.de|                null|                 null|[teller.ggeg.eu, ...|                0|      teller.ggeg.eu|  86400|   3600|\n",
      "|     0-263475.de|                null|                 null|[brit.ns.cloudfla...|                0|brit.ns.cloudflar...|  10000|   3600|\n",
      "|       0-apps.de|                null|                 null|[robotns3.second-...|                0|     ns1.first-ns.de|  14400|  86400|\n",
      "|         0-32.de|[2a01:238:20a:202...|                 null|[docks12.rzone.de...|                0|   shades10.rzone.de|  86400|    300|\n",
      "|         0-17.de|                null|                 null|[ns1.sedoparking....|                0| ns1.sedoparking.com|  86400|  86400|\n",
      "|    0-0-0-0-0.de|[2003:2:2:15:80:1...|                 null|[dns01-tld.t-onli...|                0|dns01-tld.t-onlin...|  21600|  86400|\n",
      "|   0-24domain.de|                null|                 null|[ns3.bestcpanel.e...|                0|   ns1.bestcpanel.eu|  14400|  86400|\n",
      "|        0-500.de|[2a01:4f8:222:1c5...|                 null|[ns1.c2.wtf, ns1-...|                0| ns1-tec.de.0-500.de|   3600|    600|\n",
      "|       0-1000.de|                null|                 null|[ns2.sedoparking....|                0| ns1.sedoparking.com|  86400|  86400|\n",
      "|     0-100kmh.de|[2a01:238:20a:202...|                 null|[docks08.rzone.de...|                0|   shades07.rzone.de|  86400|    300|\n",
      "|          0-2.de|[2a05:d014:9da:8c...|                 null|[ns1.undeveloped....|                0| ns1.undeveloped.com|  10000|    300|\n",
      "|0-8-fuenfzehn.de|                null|                 null|[ns2.sedoparking....|                0| ns1.sedoparking.com|  86400|  86400|\n",
      "|  0-24leasing.de|                null|                 null|                null|                1|                null|   null|   null|\n",
      "|       0-8-16.de|                null|                 null|[ns1.sedoparking....|                0| ns1.sedoparking.com|  86400|  86400|\n",
      "|          0-8.de|                null|                 null|[ns1.hosting.de, ...|                0|      ns1.hosting.de|  86400|    900|\n",
      "|     0-ahnung.de|                null|                 null|[ns1.ns67.de, ns2...|                0|         ns1.ns67.de|  10800|   3600|\n",
      "|       0-9a-z.de|[2606:4700:3030::...|                 null|[becky.ns.cloudfl...|                0|becky.ns.cloudfla...|  10000|   3600|\n",
      "|        0-24h.de| [2a00:1158:5:466::]|                 null|[ns2.namespace4yo...|                0| ns.namespace4you.de|  16384|   2560|\n",
      "|         0--1.de|[2a03:4000:30:61c...|                 null|[third-dns.netcup...|                0| root-dns.netcup.net|  28800|  86400|\n",
      "|        0-5-1.de|[2003:2:2:15:80:1...|                 null|[dns01-tld.t-onli...|                0|dns01-tld.t-onlin...|  21600|  86400|\n",
      "+----------------+--------------------+---------------------+--------------------+-----------------+--------------------+-------+-------+\n",
      "only showing top 20 rows\n",
      "\n"
     ]
    }
   ],
   "source": [
    "domains_df.show(20)"
   ]
  },
  {
   "cell_type": "code",
   "execution_count": null,
   "id": "e5745db3",
   "metadata": {},
   "outputs": [],
   "source": [
    "# Write the data frame to the PostgreSQL database\n",
    "domains_df.repartition(8).write \\\n",
    "    .format(\"jdbc\") \\\n",
    "    .option(\"url\", connection) \\\n",
    "    .option(\"dbtable\", \"domain_enhanced\") \\\n",
    "    .option(\"user\", user) \\\n",
    "    .option(\"batchsize\", 10000) \\\n",
    "    .option(\"password\", password) \\\n",
    "    .mode(\"append\") \\\n",
    "    .save()"
   ]
  }
 ],
 "metadata": {
  "kernelspec": {
   "display_name": "Python 3",
   "language": "python",
   "name": "python3"
  },
  "language_info": {
   "codemirror_mode": {
    "name": "ipython",
    "version": 3
   },
   "file_extension": ".py",
   "mimetype": "text/x-python",
   "name": "python",
   "nbconvert_exporter": "python",
   "pygments_lexer": "ipython3",
   "version": "3.9.5"
  }
 },
 "nbformat": 4,
 "nbformat_minor": 5
}
