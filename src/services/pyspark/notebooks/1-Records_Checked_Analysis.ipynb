{
 "cells": [
  {
   "cell_type": "markdown",
   "id": "090cdc08-0da7-4633-83a7-9d76550b65cd",
   "metadata": {},
   "source": [
    "# 1. Validation of A and MX records\n",
    "\n",
    "This notebook checks the correctness of the given `A-records` and `MX-records` from the basic data. \n",
    "\n",
    "## Setup\n",
    "\n",
    "First, the required installations and imports are made, the session is initialized and the data is collected from the Postgres database:"
   ]
  },
  {
   "cell_type": "code",
   "execution_count": null,
   "id": "17673472-e4ff-4c4f-b256-1b5beaafd228",
   "metadata": {},
   "outputs": [],
   "source": [
    "# Imports\n",
    "from pyspark.sql import SparkSession\n",
    "from pyspark.sql.functions import *\n",
    "from pyspark.sql.types import *\n",
    "\n",
    "#PostgreSQL access data\n",
    "host = \"bda_gr4_database\"\n",
    "port = \"5432\"\n",
    "database = \"domainanalysis\"\n",
    "user = \"postgres\"\n",
    "password = \"postgres\"\n",
    "\n",
    "# PostgreSQL connection url\n",
    "connection = f\"jdbc:postgresql://{host}:{port}/{database}\"\n",
    "\n",
    "# Create a Spark session\n",
    "spark = SparkSession.builder \\\n",
    "    .appName(\"domain_analysis\") \\\n",
    "    .getOrCreate()\n",
    "\n",
    "# Read data from the database\n",
    "domains_df = spark.read \\\n",
    "                .format(\"jdbc\") \\\n",
    "                .option(\"url\", connection) \\\n",
    "                .option(\"dbtable\", \"domain\") \\\n",
    "                .option(\"user\", user) \\\n",
    "                .option(\"password\", password) \\\n",
    "                .load()\n",
    "\n",
    "# Display the data frame\n",
    "domains_df.limit(15).toPandas()"
   ]
  },
  {
   "cell_type": "markdown",
   "id": "62020254-9a2d-41b0-af79-b27b88f8e415",
   "metadata": {},
   "source": [
    "## Checking the records\n",
    "\n",
    "Secondly, the functions are imported from the functions notebook `Functions.ipynb` in order to use them for the definition of the `UDFs`:"
   ]
  },
  {
   "cell_type": "code",
   "execution_count": null,
   "id": "9242159c-7e14-40cc-8f2e-d57cea3b4d4e",
   "metadata": {},
   "outputs": [],
   "source": [
    "# Import all functions from Funtions.ipynb\n",
    "from ipynb.fs.full.Functions import *\n",
    "\n",
    "# Creating of UDF's\n",
    "udf_getARecords = udf(getARecords, ArrayType(StringType()))\n",
    "udf_getARecords_error = udf(getARecords_error, IntegerType())\n",
    "udf_getMXRecords = udf(getMXRecords, ArrayType(StringType()))\n",
    "udf_getMXRecords_error = udf(getMXRecords_error, IntegerType())"
   ]
  },
  {
   "cell_type": "markdown",
   "id": "61bf1231-c361-49d5-8538-03781795b87b",
   "metadata": {},
   "source": [
    "Next, the A and MX records are checked by calling the UDFs and creating the returned results in new columns:"
   ]
  },
  {
   "cell_type": "code",
   "execution_count": null,
   "id": "9e6485f9-177a-439a-81db-ff68d7c97ee8",
   "metadata": {},
   "outputs": [],
   "source": [
    "# Create the new columns with the results\n",
    "domains_checked_df = domains_df.withColumn(\"a_record_checked\", udf_getARecords(\"top_level_domain\"))\n",
    "domains_checked_df = domains_checked_df.withColumn(\"a_record_checked_error\", udf_getARecords_error(\"top_level_domain\"))\n",
    "domains_checked_df = domains_checked_df.withColumn(\"mx_record_checked\", udf_getMXRecords(\"top_level_domain\"))\n",
    "domains_checked_df = domains_checked_df.withColumn(\"mx_record_checked_error\", udf_getMXRecords_error(\"top_level_domain\"))"
   ]
  },
  {
   "cell_type": "markdown",
   "id": "7d0c7761-92e7-4ae8-b0f4-957e539c72e5",
   "metadata": {},
   "source": [
    "In preparation for writing to the database, the data frame is put into the correct order:"
   ]
  },
  {
   "cell_type": "code",
   "execution_count": null,
   "id": "96ad2500-91a3-4cae-8cce-e1246f2a299d",
   "metadata": {},
   "outputs": [],
   "source": [
    "# Changing the order of the data frame\n",
    "domains_checked_df = domains_checked_df.select(\"top_level_domain\", \"a_record\", \"a_record_checked\", \"a_record_checked_error\", \"mx_record\", \"mx_record_checked\", \"mx_record_checked_error\")"
   ]
  },
  {
   "cell_type": "markdown",
   "id": "d2bf3b26-fa6a-42a2-841d-ea7b4872073e",
   "metadata": {},
   "source": [
    "Last but not least, let's check if the records have either not been changed, changed completely or partially in comparison to the original data."
   ]
  },
  {
   "cell_type": "code",
   "execution_count": null,
   "id": "70151cfd-f3e3-48d5-8ec6-f209f7428517",
   "metadata": {},
   "outputs": [],
   "source": [
    "# TODO: Add \"How many match?\""
   ]
  },
  {
   "cell_type": "code",
   "execution_count": null,
   "id": "1cf04051-8536-44d4-803e-ed796df0acd8",
   "metadata": {},
   "outputs": [],
   "source": [
    "# Count the occrence of checked A-records\n",
    "a_record_checked_count = domains_df.withColumn('a_record_checked', explode(col('a_record'))) \\\n",
    "        .groupBy('a_record_checked') \\\n",
    "        .count()\n",
    "\n",
    "# Count the occrence of checked MX-records\n",
    "mx_record_checked_count = domains_df.withColumn('mx_record_checked', explode(col('mx_record'))) \\\n",
    "        .groupBy('mx_record_checked') \\\n",
    "        .count()\n",
    "\n",
    "# Finally, create new data frames only containing the top 10 A-/MX-records\n",
    "a_record_count_top_ten_df = a_record_checked_count.orderBy(['count'], ascending = [False]).limit(10)\n",
    "mx_record_count_top_ten_df = mx_record_checked_count.orderBy(['count'], ascending = [False]).limit(10)"
   ]
  },
  {
   "cell_type": "markdown",
   "id": "b75823a6-9b81-4c82-95b0-f250510a3078",
   "metadata": {},
   "source": [
    "## Store the data\n",
    "\n",
    "Finally, the columns `a_record` and `mx_record` are removed from the data frame. Furthermore, the first 15 rows of the data frame are displayed as a check for writing to the database:"
   ]
  },
  {
   "cell_type": "code",
   "execution_count": null,
   "id": "84d10d72-b945-48e4-a6e4-4e4976b018ca",
   "metadata": {},
   "outputs": [],
   "source": [
    "# Remove columns\n",
    "domains_checked_df = domains_checked_df.drop(\"a_record\").drop(\"mx_record\")\n",
    "domains_checked_df.limit(15).toPandas()"
   ]
  },
  {
   "cell_type": "code",
   "execution_count": null,
   "id": "657376b7-23b0-4dbc-971a-3ce582f19b87",
   "metadata": {},
   "outputs": [],
   "source": [
    "# Write the data frame to the PostgreSQL database\n",
    "domains_checked_df.repartition(8).write \\\n",
    "    .format(\"jdbc\") \\\n",
    "    .option(\"url\", connection) \\\n",
    "    .option(\"dbtable\", \"domain_records_checked\") \\\n",
    "    .option(\"batchsize\", 10000) \\\n",
    "    .option(\"user\", user) \\\n",
    "    .option(\"password\", password) \\\n",
    "    .mode(\"append\") \\\n",
    "    .save()"
   ]
  }
 ],
 "metadata": {
  "kernelspec": {
   "display_name": "Python 3",
   "language": "python",
   "name": "python3"
  },
  "language_info": {
   "codemirror_mode": {
    "name": "ipython",
    "version": 3
   },
   "file_extension": ".py",
   "mimetype": "text/x-python",
   "name": "python",
   "nbconvert_exporter": "python",
   "pygments_lexer": "ipython3",
   "version": "3.9.5"
  }
 },
 "nbformat": 4,
 "nbformat_minor": 5
}
