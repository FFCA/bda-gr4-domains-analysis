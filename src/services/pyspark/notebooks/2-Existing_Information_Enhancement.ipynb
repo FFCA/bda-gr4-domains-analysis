{
 "cells": [
  {
   "cell_type": "markdown",
   "id": "540de885-8cf4-4413-be89-3402e0406852",
   "metadata": {},
   "source": [
    "# Enhancement of existing data\n",
    "\n",
    "This notebook enhances the information previously inserted into the database, i.e. adds features based on the given data.\n",
    "\n",
    "## Setup\n",
    "\n",
    "First, the required imports are made, the session is initialized and the data is collected from the Postgres database:"
   ]
  },
  {
   "cell_type": "code",
   "execution_count": null,
   "id": "a0262130-adcc-47d6-a195-fd2390c9d95e",
   "metadata": {},
   "outputs": [],
   "source": [
    "from pyspark.sql import SparkSession\n",
    "from pyspark.sql.functions import *\n",
    "from pyspark.sql.types import IntegerType, BooleanType\n",
    "\n",
    "#PostgreSQL access data\n",
    "host = \"bda_gr4_database\"\n",
    "port = \"5432\"\n",
    "database = \"domainanalysis\"\n",
    "user = \"postgres\"\n",
    "password = \"postgres\"\n",
    "\n",
    "# PostgreSQL connection url\n",
    "connection = f\"jdbc:postgresql://{host}:{port}/{database}\"\n",
    "    \n",
    "# Initialize a new session\n",
    "spark = SparkSession.builder \\\n",
    "    .appName(\"Enhancement_DomainAnaylsis\") \\\n",
    "    .getOrCreate()\n",
    "\n",
    "# Read data from the database\n",
    "domains_df = spark.read \\\n",
    "                .format(\"jdbc\") \\\n",
    "                .option(\"url\", connection) \\\n",
    "                .option(\"dbtable\", \"domain\") \\\n",
    "                .option(\"user\", user) \\\n",
    "                .option(\"password\", password) \\\n",
    "                .load()"
   ]
  },
  {
   "cell_type": "markdown",
   "id": "85ead57e-1884-4cc8-9a78-dda4fbaf6c0b",
   "metadata": {},
   "source": [
    "## Enhancement \n",
    "\n",
    "The second step consists of the collection/enhancement of data. At first, udf functions to be used for counting array elements with `None` as `0` and for checking whether an mx_record (if existent) includes `localhost`."
   ]
  },
  {
   "cell_type": "code",
   "execution_count": null,
   "id": "14af3968-4045-4fa8-8c0e-5c2c4f21c387",
   "metadata": {},
   "outputs": [],
   "source": [
    "# Udf for counting elements in an array / None as 0\n",
    "def count_arr(arr): return 0 if arr == None else len(arr)\n",
    "count_arr_udf = udf(count_arr, IntegerType())\n",
    "\n",
    "# Udf for checking whether \"localhost\" exists in the array of mx_records\n",
    "def uses_localhost(mx_records): return mx_records != None and 'localhost' in mx_records\n",
    "uses_localhost_udf = udf(uses_localhost, BooleanType())"
   ]
  },
  {
   "cell_type": "markdown",
   "id": "f364fd0a-f4e7-4303-8bcc-fde5422b79ba",
   "metadata": {},
   "source": [
    "Now, we can use these functions and store their returned values in a new dataframe:"
   ]
  },
  {
   "cell_type": "code",
   "execution_count": null,
   "id": "384c9dd9-8888-4c65-a0bd-7cf8b1193333",
   "metadata": {},
   "outputs": [],
   "source": [
    "domains_df_enhanced = domains_df \\\n",
    "    .withColumn(\"a_record_count\", count_arr_udf(\"a_record\")) \\\n",
    "    .withColumn(\"mx_record_count\", count_arr_udf(\"mx_record\")) \\\n",
    "    .withColumn(\"mx_uses_localhost\", uses_localhost_udf(\"mx_record\")) \\\n",
    "    .drop(\"mx_record\") \\\n",
    "    .drop(\"a_record\")"
   ]
  },
  {
   "cell_type": "markdown",
   "id": "d3eb5444-700a-4f26-83ed-68d5ef3a1661",
   "metadata": {},
   "source": [
    "Furthermore, we can create two new dataframes containing the top 10 A/MX-record data incl. the counted number:"
   ]
  },
  {
   "cell_type": "code",
   "execution_count": null,
   "id": "6bbf70c4-a0d6-487d-b4b4-3fa2720f5d04",
   "metadata": {},
   "outputs": [],
   "source": [
    "# Count the occrence of A-records\n",
    "a_record_count = domains_df.withColumn('a_record', explode(col('a_record'))) \\\n",
    "        .groupBy('a_record') \\\n",
    "        .count()\n",
    "\n",
    "# Count the occrence of MX-records\n",
    "mx_record_count = domains_df.withColumn('mx_record', explode(col('mx_record'))) \\\n",
    "        .groupBy('mx_record') \\\n",
    "        .count()\n",
    "\n",
    "# Finally, create new data frames only containing the top 10 A-/MX-records\n",
    "a_record_count_top_ten_df = a_record_count.orderBy(['count'], ascending = [False]).limit(10)\n",
    "mx_record_count_top_ten_df = mx_record_count.orderBy(['count'], ascending = [False]).limit(10)"
   ]
  },
  {
   "cell_type": "markdown",
   "id": "07719117-0dfd-4396-b1fb-e0ee0fdd452d",
   "metadata": {},
   "source": [
    "## Store the data\n",
    "\n",
    "Last but not least, the data is stored. Due to the chosen event-driven architecure, other tables than the one used in the previous script are stated in order to (only) emit events concerning the newly inserted data."
   ]
  },
  {
   "cell_type": "code",
   "execution_count": null,
   "id": "a1f0b9d0-446a-46d7-8c65-64dfb3d99f89",
   "metadata": {},
   "outputs": [],
   "source": [
    "a_record_count_top_ten_df.write \\\n",
    "    .format(\"jdbc\") \\\n",
    "    .option(\"url\", connection) \\\n",
    "    .option(\"dbtable\", \"a_record_count_global\") \\\n",
    "    .option(\"user\", user) \\\n",
    "    .option(\"password\", password) \\\n",
    "    .mode(\"append\") \\\n",
    "    .save()\n",
    "\n",
    "mx_record_count_top_ten_df.write \\\n",
    "    .format(\"jdbc\") \\\n",
    "    .option(\"url\", connection) \\\n",
    "    .option(\"dbtable\", \"mx_record_count_global\") \\\n",
    "    .option(\"user\", user) \\\n",
    "    .option(\"password\", password) \\\n",
    "    .mode(\"append\") \\\n",
    "    .save()\n",
    "\n",
    "domains_df_enhanced.repartition(8).write \\\n",
    "    .format(\"jdbc\") \\\n",
    "    .option(\"url\", connection) \\\n",
    "    .option(\"dbtable\", \"domain_enhanced_based_on_existing_data\") \\\n",
    "    .option(\"user\", user) \\\n",
    "    .option(\"batchsize\", 10000) \\\n",
    "    .option(\"password\", password) \\\n",
    "    .mode(\"append\") \\\n",
    "    .save()"
   ]
  }
 ],
 "metadata": {
  "kernelspec": {
   "display_name": "Python 3 (ipykernel)",
   "language": "python",
   "name": "python3"
  },
  "language_info": {
   "codemirror_mode": {
    "name": "ipython",
    "version": 3
   },
   "file_extension": ".py",
   "mimetype": "text/x-python",
   "name": "python",
   "nbconvert_exporter": "python",
   "pygments_lexer": "ipython3",
   "version": "3.9.6"
  }
 },
 "nbformat": 4,
 "nbformat_minor": 5
}
