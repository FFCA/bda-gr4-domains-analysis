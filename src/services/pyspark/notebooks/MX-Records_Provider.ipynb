{
 "cells": [
  {
   "cell_type": "code",
   "execution_count": null,
   "id": "f7a35332-a101-4b9f-af98-43f03a704786",
   "metadata": {},
   "outputs": [],
   "source": [
    "# Required installations\n",
    "!pip install ipynb\n",
    "!pip install dnspython\n",
    "!pip install geoip2\n",
    "\n",
    "# Imports\n",
    "from pyspark.sql import SparkSession\n",
    "from pyspark.sql.functions import *\n",
    "from pyspark.sql.types import *\n",
    "\n",
    "#PostgreSQL access data\n",
    "host = \"bda_gr4_database\"\n",
    "port = \"5432\"\n",
    "database = \"domainanalysis\"\n",
    "user = \"postgres\"\n",
    "password = \"postgres\"\n",
    "\n",
    "# PostgreSQL connection url\n",
    "connection = f\"jdbc:postgresql://{host}:{port}/{database}\"\n",
    "\n",
    "# Create a Spark session\n",
    "spark = SparkSession.builder \\\n",
    "    .appName(\"domain_analysis\") \\\n",
    "    .getOrCreate()\n",
    "\n",
    "# Read data from the database\n",
    "domains_df = spark.read \\\n",
    "                .format(\"jdbc\") \\\n",
    "                .option(\"url\", connection) \\\n",
    "                .option(\"dbtable\", \"domain_records_checked\") \\\n",
    "                .option(\"user\", user) \\\n",
    "                .option(\"password\", password) \\\n",
    "                .load()\n",
    "\n",
    "# Drop columns\n",
    "domains_df = domains_df.drop(\"a_record_checked\").drop(\"a_record_checked_error\").drop(\"mx_record_checked_error\")\n",
    "\n",
    "# Display the data frame\n",
    "domains_df.limit(20).toPandas()"
   ]
  },
  {
   "cell_type": "code",
   "execution_count": null,
   "id": "d8f6e236-fa21-41dc-a4c6-a36d169c69c2",
   "metadata": {},
   "outputs": [],
   "source": [
    "# Import all functions from Funtions.ipynb\n",
    "from ipynb.fs.full.Functions import *\n",
    "\n",
    "schema_location = StructType([\n",
    "    StructField(\"iso_code\", StringType(), True),\n",
    "    StructField(\"country\", StringType(), True),\n",
    "    StructField(\"city\", StringType(), True),\n",
    "    StructField(\"postal\", StringType(), True),\n",
    "    StructField(\"latitude\", StringType(), True),\n",
    "    StructField(\"longitude\", StringType(), True)])\n",
    "\n",
    "schema_asn = StructType([\n",
    "    StructField(\"autonomous_system_number\", StringType(), True),\n",
    "    StructField(\"autonomous_system_organization\", StringType(), True)])\n",
    "\n",
    "udf_getARecords = udf(getARecords, ArrayType(StringType()))\n",
    "udf_getGeoLite2_Location = udf(getGeoLite2_Location, schema_location)\n",
    "udf_getGeoLite2_ASN = udf(getGeoLite2_ASN, schema_asn)\n"
   ]
  },
  {
   "cell_type": "code",
   "execution_count": null,
   "id": "8854ca25-2041-4eae-a2b6-c694db8a55ad",
   "metadata": {},
   "outputs": [],
   "source": [
    "# Create the new columns with the results\n",
    "domains_mx_record_geolite2_df = domains_df.select(domains_df.top_level_domain,explode(domains_df.mx_record_checked).alias('mx_record_checked'))\n",
    "domains_mx_record_geolite2_df = domains_mx_record_geolite2_df.withColumn(\"mx_record_ip\", udf_getARecords(\"mx_record_checked\")) \\\n",
    "                            .withColumn('mx_record_ip', explode(col('mx_record_ip'))) \\\n",
    "                            .withColumn(\"location\", udf_getGeoLite2_Location(\"mx_record_ip\")) \\\n",
    "                            .withColumn(\"asn\", udf_getGeoLite2_ASN(\"mx_record_ip\")) \\\n",
    "                            .select(\"top_level_domain\", \"mx_record_checked\", \"mx_record_ip\", \"location.*\", \"asn.*\")\n"
   ]
  },
  {
   "cell_type": "code",
   "execution_count": null,
   "id": "45f14cdd-9bc0-42e1-83b0-da02ff023d40",
   "metadata": {},
   "outputs": [],
   "source": [
    "# Display the data frame\n",
    "domains_mx_record_geolite2_df.limit(50).toPandas()"
   ]
  },
  {
   "cell_type": "code",
   "execution_count": null,
   "id": "9660f30b-e9a8-428c-835f-44979d575c1b",
   "metadata": {},
   "outputs": [],
   "source": [
    "# Write the data frame to the PostgreSQL database\n",
    "domains_mx_record_geolite2_df.repartition(8).write \\\n",
    "    .format(\"jdbc\") \\\n",
    "    .option(\"url\", connection) \\\n",
    "    .option(\"dbtable\", \"domain_mx_record_geolite2\") \\\n",
    "    .option(\"user\", user) \\\n",
    "    .option(\"batchsize\", 10000) \\\n",
    "    .option(\"password\", password) \\\n",
    "    .mode(\"append\") \\\n",
    "    .save()"
   ]
  }
 ],
 "metadata": {
  "kernelspec": {
   "display_name": "Python 3",
   "language": "python",
   "name": "python3"
  },
  "language_info": {
   "codemirror_mode": {
    "name": "ipython",
    "version": 3
   },
   "file_extension": ".py",
   "mimetype": "text/x-python",
   "name": "python",
   "nbconvert_exporter": "python",
   "pygments_lexer": "ipython3",
   "version": "3.9.5"
  }
 },
 "nbformat": 4,
 "nbformat_minor": 5
}
