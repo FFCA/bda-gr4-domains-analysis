{
 "cells": [
  {
   "cell_type": "code",
   "execution_count": null,
   "id": "f7a35332-a101-4b9f-af98-43f03a704786",
   "metadata": {},
   "outputs": [],
   "source": [
    "# Imports\n",
    "from pyspark.sql import SparkSession\n",
    "from pyspark.sql.functions import *\n",
    "from pyspark.sql.types import *\n",
    "\n",
    "#PostgreSQL access data\n",
    "host = \"bda_gr4_database\"\n",
    "port = \"5432\"\n",
    "database = \"domainanalysis\"\n",
    "user = \"postgres\"\n",
    "password = \"postgres\"\n",
    "\n",
    "# PostgreSQL connection url\n",
    "connection = f\"jdbc:postgresql://{host}:{port}/{database}\"\n",
    "\n",
    "# Create a Spark session\n",
    "spark = SparkSession.builder \\\n",
    "    .appName(\"domain_analysis\") \\\n",
    "    .getOrCreate()\n",
    "\n",
    "# Read data from the database\n",
    "domains_df = spark.read \\\n",
    "                .format(\"jdbc\") \\\n",
    "                .option(\"url\", connection) \\\n",
    "                .option(\"dbtable\", \"domain_records_checked\") \\\n",
    "                .option(\"user\", user) \\\n",
    "                .option(\"password\", password) \\\n",
    "                .load()\n",
    "\n",
    "# Drop columns\n",
    "domains_df = domains_df.drop(\"a_record_checked\").drop(\"a_record_checked_error\").drop(\"mx_record_checked_error\")\n",
    "\n",
    "# Display the data frame\n",
    "domains_df.limit(20).toPandas()"
   ]
  },
  {
   "cell_type": "code",
   "execution_count": null,
   "id": "d8f6e236-fa21-41dc-a4c6-a36d169c69c2",
   "metadata": {},
   "outputs": [],
   "source": [
    "# Import all functions from Funtions.ipynb\n",
    "from ipynb.fs.full.Functions import *\n",
    "\n",
    "# Creating of UDF's\n",
    "udf_getARecords = udf(getARecords, ArrayType(StringType()))\n",
    "udf_getCity = udf(getCity, StringType())\n",
    "udf_getRegion = udf(getRegion, StringType())\n",
    "udf_getCountry = udf(getCountry, StringType())\n",
    "udf_getCoordinates = udf(getCoordinates, StringType())\n",
    "udf_getOrg = udf(getOrg, StringType())\n",
    "udf_getPostal = udf(getPostal, StringType())\n",
    "udf_getTimezone = udf(getTimezone, StringType())"
   ]
  },
  {
   "cell_type": "code",
   "execution_count": null,
   "id": "8854ca25-2041-4eae-a2b6-c694db8a55ad",
   "metadata": {},
   "outputs": [],
   "source": [
    "# Create the new columns with the results\n",
    "#domains_df = domains_df.withColumn(\"MX-Records\", concat_ws(\",\",col(\"mx_record_checked\")))\n",
    "domains_mx_record_df = domains_df.select(domains_df.top_level_domain,explode(domains_df.mx_record_checked).alias('mx_record_checked'))\n",
    "domains_mx_record_df = domains_mx_record_df.withColumn(\"mx_record_ip\", udf_getARecords(\"mx_record_checked\"))\n",
    "domains_mx_record_df = domains_mx_record_df.withColumn('mx_record_ip', concat_ws('', 'mx_record_ip'))\n",
    "domains_mx_record_df = domains_mx_record_df.withColumn(\"mx_record_city\", udf_getCity(\"mx_record_ip\"))\n",
    "domains_mx_record_df = domains_mx_record_df.withColumn(\"mx_record_region\", udf_getRegion(\"mx_record_ip\"))\n",
    "domains_mx_record_df = domains_mx_record_df.withColumn(\"mx_record_country\", udf_getCountry(\"mx_record_ip\"))\n",
    "domains_mx_record_df = domains_mx_record_df.withColumn(\"mx_record_coordinates\", udf_getCoordinates(\"mx_record_ip\"))\n",
    "domains_mx_record_df = domains_mx_record_df.withColumn(\"mx_record_org\", udf_getOrg(\"mx_record_ip\"))\n",
    "domains_mx_record_df = domains_mx_record_df.withColumn(\"mx_record_postal\", udf_getPostal(\"mx_record_ip\"))\n",
    "domains_mx_record_df = domains_mx_record_df.withColumn(\"mx_record_timezone\", udf_getTimezone(\"mx_record_ip\"))"
   ]
  },
  {
   "cell_type": "code",
   "execution_count": null,
   "id": "45f14cdd-9bc0-42e1-83b0-da02ff023d40",
   "metadata": {},
   "outputs": [],
   "source": [
    "# Display the data frame\n",
    "domains_mx_record_df.limit(20).toPandas()"
   ]
  },
  {
   "cell_type": "code",
   "execution_count": null,
   "id": "9660f30b-e9a8-428c-835f-44979d575c1b",
   "metadata": {},
   "outputs": [],
   "source": [
    "# Write the data frame to the PostgreSQL database\n",
    "domains_mx_record_df.repartition(8).write \\\n",
    "    .format(\"jdbc\") \\\n",
    "    .option(\"url\", connection) \\\n",
    "    .option(\"dbtable\", \"domain_mx_record_location\") \\\n",
    "    .option(\"user\", user) \\\n",
    "    .option(\"batchsize\", 10000) \\\n",
    "    .option(\"password\", password) \\\n",
    "    .mode(\"append\") \\\n",
    "    .save()"
   ]
  }
 ],
 "metadata": {
  "kernelspec": {
   "display_name": "Python 3",
   "language": "python",
   "name": "python3"
  },
  "language_info": {
   "codemirror_mode": {
    "name": "ipython",
    "version": 3
   },
   "file_extension": ".py",
   "mimetype": "text/x-python",
   "name": "python",
   "nbconvert_exporter": "python",
   "pygments_lexer": "ipython3",
   "version": "3.9.5"
  }
 },
 "nbformat": 4,
 "nbformat_minor": 5
}
