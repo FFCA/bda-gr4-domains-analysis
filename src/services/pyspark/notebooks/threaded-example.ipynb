{
 "cells": [
  {
   "cell_type": "code",
   "execution_count": null,
   "id": "04f1b37a-1728-47a5-aa9f-8d69b035748d",
   "metadata": {},
   "outputs": [],
   "source": [
    "!pip install dnspython"
   ]
  },
  {
   "cell_type": "code",
   "execution_count": null,
   "id": "b5538752-f629-4558-869c-f0e0a20e0f44",
   "metadata": {},
   "outputs": [],
   "source": [
    "from pyspark.sql import SparkSession\n",
    "from pyspark.sql.functions import *\n",
    "from pyspark.sql.types import *\n",
    "from dns import resolver\n",
    "from concurrent.futures import ThreadPoolExecutor\n",
    "import time\n",
    "\n",
    "#PostgreSQL access data\n",
    "host = \"bda_gr4_database\"\n",
    "port = \"5432\"\n",
    "database = \"domainanalysis\"\n",
    "user = \"postgres\"\n",
    "password = \"postgres\"\n",
    "\n",
    "# PostgreSQL connection url\n",
    "connection = f\"jdbc:postgresql://{host}:{port}/{database}\"\n",
    "\n",
    "# Create a Spark session\n",
    "spark = SparkSession.builder \\\n",
    "    .appName(\"domain_analysis\") \\\n",
    "    .getOrCreate()\n",
    "\n",
    "# Read data from the database\n",
    "domains_df = spark.read \\\n",
    "                .format(\"jdbc\") \\\n",
    "                .option(\"url\", connection) \\\n",
    "                .option(\"dbtable\", \"domain\") \\\n",
    "                .option(\"user\", user) \\\n",
    "                .option(\"password\", password) \\\n",
    "                .load()"
   ]
  },
  {
   "cell_type": "code",
   "execution_count": null,
   "id": "3391ff9e-acce-4753-a313-c594cd53a23b",
   "metadata": {},
   "outputs": [],
   "source": [
    "def fn_to_be_threaded(domain): \n",
    "    try:\n",
    "        result = resolver.resolve(domain, 'AAAA')\n",
    "        return list(map(lambda ipval: ipval.to_text(), result))\n",
    "    except dns.resolver.NXDOMAIN:\n",
    "        return \"Domain not available\"\n",
    "    except dns.resolver.NoAnswer:\n",
    "        return None\n",
    "    except dns.resolver.NoNameservers:\n",
    "        return \"No Nameservers\"\n",
    "    except dns.resolver.Timeout:\n",
    "        return \"Timeout\""
   ]
  },
  {
   "cell_type": "code",
   "execution_count": null,
   "id": "a5640fac-fdd9-41e5-a235-ae811f1be7b7",
   "metadata": {},
   "outputs": [],
   "source": [
    "def execute_threaded_fn(fn, args, log_at):\n",
    "    futures, results = [], []\n",
    "\n",
    "    with ThreadPoolExecutor(max_workers=1024) as executor:\n",
    "        i, f, s = 0, 0, 0\n",
    "        for arg in args:\n",
    "            i = i + 1\n",
    "            if i % log_at == 0: print(\"futures:\", i)\n",
    "            futures.append(executor.submit(fn, arg))\n",
    "\n",
    "        for future in futures:\n",
    "            try:\n",
    "                result = future.result(timeout=60)\n",
    "                results.append(result)\n",
    "                s = s + 1\n",
    "            except Exception:\n",
    "                results.append(None)\n",
    "                f = f + 1\n",
    "            finally:\n",
    "                if (s+f) % log_at == 0: print(f\"[Processed: {s + f}] Successful: {s} | Failed: {f}\")\n",
    "    return results"
   ]
  },
  {
   "cell_type": "code",
   "execution_count": null,
   "id": "f780f7bc-6204-4e19-ae65-4f0cb8b3c8e8",
   "metadata": {},
   "outputs": [],
   "source": [
    "# TODO Combine with UDF?\n",
    "\n",
    "n = 4860885\n",
    "args = domains_df.limit(n).select(\"top_level_domain\").toPandas().values.reshape(-1)"
   ]
  },
  {
   "cell_type": "code",
   "execution_count": null,
   "id": "038f4fa3-3188-422e-a288-cf5b3a66dace",
   "metadata": {},
   "outputs": [],
   "source": [
    "t0 = time.time()\n",
    "execute_threaded_fn(fn_to_be_threaded, args, 10000)\n",
    "t1 = time.time()\n",
    "print(f\"Total time: {t1-t0} for {n} data\")"
   ]
  }
 ],
 "metadata": {
  "kernelspec": {
   "display_name": "Python 3",
   "language": "python",
   "name": "python3"
  },
  "language_info": {
   "codemirror_mode": {
    "name": "ipython",
    "version": 3
   },
   "file_extension": ".py",
   "mimetype": "text/x-python",
   "name": "python",
   "nbconvert_exporter": "python",
   "pygments_lexer": "ipython3",
   "version": "3.9.5"
  }
 },
 "nbformat": 4,
 "nbformat_minor": 5
}
