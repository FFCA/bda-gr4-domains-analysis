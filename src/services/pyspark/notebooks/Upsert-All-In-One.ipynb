{
 "cells": [
  {
   "cell_type": "markdown",
   "id": "37b44679-ee18-4016-85fc-c3c8196be37f",
   "metadata": {
    "tags": []
   },
   "source": [
    " # Preparation"
   ]
  },
  {
   "cell_type": "code",
   "execution_count": null,
   "id": "6d74aca5-6827-45e7-8465-74bf3e9127f5",
   "metadata": {},
   "outputs": [],
   "source": [
    "!pip install ipynb\n",
    "!pip install dnspython\n",
    "!pip install geoip2\n",
    "!pip install psycopg2-binary"
   ]
  },
  {
   "cell_type": "code",
   "execution_count": null,
   "id": "c47bec74-87c1-4457-836e-9bf61da75349",
   "metadata": {},
   "outputs": [],
   "source": [
    "from pyspark.sql import SparkSession\n",
    "from pyspark.sql.functions import *\n",
    "from ipynb.fs.full.Functions import *\n",
    "from pyspark.sql.types import *"
   ]
  },
  {
   "cell_type": "code",
   "execution_count": null,
   "id": "96c6b5b2-edef-4da4-b42c-c422c3db1060",
   "metadata": {},
   "outputs": [],
   "source": [
    "spark = SparkSession.builder \\\n",
    "    .appName(\"etl_domains\") \\\n",
    "    .getOrCreate()\n",
    "\n",
    "domains_df = spark \\\n",
    "    .read.csv('../data/real_domains.csv', escape = \"\\\"\") \\\n",
    "    .toDF(\"top_level_domain\", \"mx_record\", \"a_record\", \"timestamp\") \\\n",
    "    .drop('timestamp')"
   ]
  },
  {
   "cell_type": "markdown",
   "id": "138ce8a6-c151-4f74-93f3-15f19c0fff67",
   "metadata": {
    "tags": []
   },
   "source": [
    "# Section I"
   ]
  },
  {
   "cell_type": "code",
   "execution_count": null,
   "id": "93b49b34-91a0-48ef-a3d9-aae1968ab69b",
   "metadata": {},
   "outputs": [],
   "source": [
    "def clean_data(df, column, to_delete, to_replace): return df.withColumn(column, regexp_replace(column, to_delete, to_replace))\n",
    "for column in domains_df.schema.names: domains_df = clean_data(domains_df, column, '\\\\[|\\\\]|\\\\\"', \"\")"
   ]
  },
  {
   "cell_type": "code",
   "execution_count": null,
   "id": "db68dcbf-a9ef-4f54-8a1a-52937221c8fd",
   "metadata": {},
   "outputs": [],
   "source": [
    "domains_df = domains_df \\\n",
    "                .withColumn('mx_record', when(domains_df['mx_record'] == '', None).otherwise(split(domains_df['mx_record'], ','))) \\\n",
    "                .withColumn('a_record', when(domains_df['a_record'] == '', None).otherwise(split(domains_df['a_record'], ',')))"
   ]
  },
  {
   "cell_type": "code",
   "execution_count": null,
   "id": "48c5862f-a8d3-4ec0-837d-ea3cd11f7eef",
   "metadata": {},
   "outputs": [],
   "source": [
    "upsert(\"domain\", [\"top_level_domain\"], [\"mx_record\", \"a_record\"], domains_df)"
   ]
  },
  {
   "cell_type": "markdown",
   "id": "eea59131-142c-4622-8035-4861b96dadc6",
   "metadata": {
    "tags": []
   },
   "source": [
    "# Section II"
   ]
  },
  {
   "cell_type": "code",
   "execution_count": null,
   "id": "7b734dc7-194f-4ef8-80c0-f703ea771d0e",
   "metadata": {},
   "outputs": [],
   "source": [
    "args = domains_df.select(\"top_level_domain\").toPandas().values.reshape(-1)\n",
    "\n",
    "udf_remove_last_char_in_array = udf(fn_remove_dot, ArrayType(StringType()))"
   ]
  },
  {
   "cell_type": "markdown",
   "id": "a10170f9-0f35-40fe-85bb-8cc302c5a91d",
   "metadata": {
    "tags": []
   },
   "source": [
    "## A"
   ]
  },
  {
   "cell_type": "code",
   "execution_count": null,
   "id": "2b28ad4b-615d-4238-9565-e1cc59addf14",
   "metadata": {},
   "outputs": [],
   "source": [
    "result_map_a_record = execute_threaded_fn(get_a_records, args)\n",
    "def _get_a_records_err(top_level_domain): return result_map_a_record[top_level_domain][0]\n",
    "def _get_a_records(top_level_domain): return result_map_a_record[top_level_domain][1]\n",
    "udf_get_a_records_err = udf(_get_a_records_err, IntegerType())\n",
    "udf_get_a_records = udf(_get_a_records, ArrayType(StringType()))\n",
    "\n",
    "result_map_mx_record = execute_threaded_fn(get_mx_records, args)\n",
    "def _get_mx_records_err(top_level_domain): return result_map_mx_record[top_level_domain][0]\n",
    "def _get_mx_records(top_level_domain): return result_map_mx_record[top_level_domain][1]\n",
    "udf_get_mx_records_err = udf(_get_mx_records_err, IntegerType())\n",
    "udf_get_mx_records = udf(_get_mx_records, ArrayType(StringType()))"
   ]
  },
  {
   "cell_type": "code",
   "execution_count": null,
   "id": "18f298d1-fbd6-4c49-9de7-27ae8608db42",
   "metadata": {},
   "outputs": [],
   "source": [
    "domains_checked_df = domains_df.withColumn(\"a_record_checked\", udf_get_a_records(\"top_level_domain\")) \\\n",
    "                            .withColumn(\"a_record_checked_error\", udf_get_a_records_err(\"top_level_domain\")) \\\n",
    "                            .withColumn(\"mx_record_checked\", udf_get_mx_records(\"top_level_domain\")) \\\n",
    "                            .withColumn(\"mx_record_checked\", udf_remove_last_char_in_array(col(\"mx_record_checked\"))) \\\n",
    "                            .withColumn(\"mx_record_checked_error\", udf_get_mx_records_err(\"top_level_domain\")) \\\n",
    "                            .drop(\"a_record\") \\\n",
    "                            .drop(\"mx_record\")"
   ]
  },
  {
   "cell_type": "code",
   "execution_count": null,
   "id": "5316bc67-927c-4bdb-a4ae-288494e9a832",
   "metadata": {},
   "outputs": [],
   "source": [
    "upsert(\"domain_records_checked\", [\"top_level_domain\"], [\"a_record_checked\", \"a_record_checked_error\", \"mx_record_checked\", \"mx_record_checked_error\"], domains_checked_df)"
   ]
  },
  {
   "cell_type": "code",
   "execution_count": null,
   "id": "ae88bc05-c661-47de-b440-d070d2a600d2",
   "metadata": {},
   "outputs": [],
   "source": [
    "del result_map_a_record\n",
    "del result_map_mx_record"
   ]
  },
  {
   "cell_type": "markdown",
   "id": "dc6efc77-2dc1-4e81-b97c-9989feded37d",
   "metadata": {},
   "source": [
    "## B"
   ]
  },
  {
   "cell_type": "code",
   "execution_count": null,
   "id": "8afa6775-abf8-430f-99e6-db15940fc8e3",
   "metadata": {},
   "outputs": [],
   "source": [
    "result_map_redirect = execute_threaded_fn(get_redirect_data, args)\n",
    "def get_status_code(top_level_domain): return result_map_redirect[top_level_domain][0]\n",
    "def get_redirect_url(top_level_domain): return result_map_redirect[top_level_domain][1]\n",
    "udf_get_status_code = udf(get_status_code, IntegerType())\n",
    "udf_get_redirect_url = udf(get_redirect_url, StringType())"
   ]
  },
  {
   "cell_type": "code",
   "execution_count": null,
   "id": "7e111487-3131-4c6f-8599-0ff24797d655",
   "metadata": {},
   "outputs": [],
   "source": [
    "domains_redirect_df = domains_df.withColumn(\"redirection\", udf_get_redirect_url(\"top_level_domain\")) \\\n",
    "                                .withColumn(\"status_code\", udf_get_status_code(\"top_level_domain\")) \\\n",
    "                                .drop(\"a_record\") \\\n",
    "                                .drop(\"mx_record\")"
   ]
  },
  {
   "cell_type": "code",
   "execution_count": null,
   "id": "7ba6aa92-3099-44cf-98cb-cd221f27098b",
   "metadata": {},
   "outputs": [],
   "source": [
    "upsert(\"domain_redirection\", [\"top_level_domain\"], [\"redirection\", \"status_code\"], domains_redirect_df)"
   ]
  },
  {
   "cell_type": "code",
   "execution_count": null,
   "id": "d24d448c-398e-4f7c-bb54-986b77280865",
   "metadata": {},
   "outputs": [],
   "source": [
    "del result_map_redirect\n",
    "del domains_redirect_df"
   ]
  },
  {
   "cell_type": "markdown",
   "id": "faf95110-d40a-4f12-874d-77acc52987db",
   "metadata": {},
   "source": [
    "## C"
   ]
  },
  {
   "cell_type": "code",
   "execution_count": null,
   "id": "95fc53b2-0b82-40cc-88a7-c611864798df",
   "metadata": {},
   "outputs": [],
   "source": [
    "schema_location = StructType([\n",
    "    StructField(\"iso_code\", StringType(), True),\n",
    "    StructField(\"city\", StringType(), True),\n",
    "    StructField(\"postal\", StringType(), True),\n",
    "    StructField(\"latitude\", StringType(), True),\n",
    "    StructField(\"longitude\", StringType(), True)\n",
    "])\n",
    "\n",
    "schema_asn = StructType([StructField(\"autonomous_system_organization\", StringType(), True)])\n",
    "\n",
    "udf_get_geolite2_location = udf(getGeoLite2_Location, schema_location)\n",
    "udf_get_geolite2_asn = udf(getGeoLite2_ASN, schema_asn)\n",
    "\n",
    "mx_records = domains_checked_df.select(\"mx_record_checked\").distinct()\n",
    "flat_unique_mx_records = set([item for sublist in mx_records.filter(mx_records[\"mx_record_checked\"].isNotNull()).distinct().toPandas().values.reshape(-1) for item in sublist])\n",
    "\n",
    "result_map_a_record_for_mx = execute_threaded_fn(get_a_records, flat_unique_mx_records)\n",
    "def _get_a_records_for_mx(mx): return result_map_a_record_for_mx[mx][1]\n",
    "udf_get_a_records_for_mx = udf(_get_a_records_for_mx, ArrayType(StringType()))"
   ]
  },
  {
   "cell_type": "code",
   "execution_count": null,
   "id": "bf77a6f1-939d-48bc-a4c5-02bd1d2e709c",
   "metadata": {},
   "outputs": [],
   "source": [
    "mx_record_geolite2_df = spark.createDataFrame(list(map(lambda x: [x], flat_unique_mx_records)), ['mx_record_checked']) \\\n",
    "                            .withColumn(\"mx_record_ip\", udf_get_a_records_for_mx(\"mx_record_checked\")) \\\n",
    "                            .withColumn('mx_record_ip', explode(col('mx_record_ip'))) \\\n",
    "                            .withColumn(\"location\", udf_get_geolite2_location(\"mx_record_ip\")) \\\n",
    "                            .withColumn(\"asn\", udf_get_geolite2_asn(\"mx_record_ip\")) \\\n",
    "                            .select(\"mx_record_checked\", \"mx_record_ip\", \"location.*\", \"asn.*\")"
   ]
  },
  {
   "cell_type": "code",
   "execution_count": null,
   "id": "6a37e0df-e128-4de4-8aba-0a1e64d885e3",
   "metadata": {},
   "outputs": [],
   "source": [
    "upsert(\"domain_mx_record_geolite2\", [\"mx_record_checked\", \"mx_record_ip\"], [\"iso_code\", \"city\", \"postal\", \"latitude\", \"longitude\", \"autonomous_system_organization\"], mx_record_geolite2_df)"
   ]
  },
  {
   "cell_type": "code",
   "execution_count": null,
   "id": "ec716f13-ab65-4018-a044-e5c411c43e2d",
   "metadata": {},
   "outputs": [],
   "source": [
    "del result_map_a_record_for_mx\n",
    "del mx_record_geolite2_df\n",
    "del domains_checked_df"
   ]
  },
  {
   "cell_type": "markdown",
   "id": "395f3564-5709-4a43-8106-a358ec1ad5e7",
   "metadata": {},
   "source": [
    "## D"
   ]
  },
  {
   "cell_type": "markdown",
   "id": "e134fe73-c43d-4672-bf0b-ff62804aa313",
   "metadata": {},
   "source": [
    "### D - 1"
   ]
  },
  {
   "cell_type": "code",
   "execution_count": null,
   "id": "3e180be4-0708-4257-b60a-f9cf2aee22c0",
   "metadata": {},
   "outputs": [],
   "source": [
    "result_map_aaaa = execute_threaded_fn(get_ipv6_record, args)\n",
    "def get_aaaa_record(top_level_domain): return result_map_aaaa[top_level_domain][1]\n",
    "def get_aaaa_record_err(top_level_domain): return result_map_aaaa[top_level_domain][0]\n",
    "\n",
    "udf_ipv6_record = udf(get_aaaa_record, BooleanType())\n",
    "udf_ipv6_record_err = udf(get_aaaa_record_err, IntegerType())"
   ]
  },
  {
   "cell_type": "code",
   "execution_count": null,
   "id": "faa34bd2-aaf7-42d9-83c1-af801bffaf33",
   "metadata": {},
   "outputs": [],
   "source": [
    "domains_ipv6_df = domains_df.withColumn(\"ipv6_available\", udf_ipv6_record('top_level_domain'))\\\n",
    "                        .withColumn(\"ipv6_error\", udf_ipv6_record_err(\"top_level_domain\"))\\\n",
    "                        .drop('mx_record') \\\n",
    "                        .drop('a_record')"
   ]
  },
  {
   "cell_type": "code",
   "execution_count": null,
   "id": "8cc96c65-b489-486f-8c31-2718aa7d0f8b",
   "metadata": {},
   "outputs": [],
   "source": [
    "upsert(\"ip_v6_information\", [\"top_level_domain\"], [\"ipv6_available\", \"ipv6_error\"], domains_ipv6_df)"
   ]
  },
  {
   "cell_type": "code",
   "execution_count": null,
   "id": "26b8e426-4378-48c2-818d-1dd0865594e0",
   "metadata": {},
   "outputs": [],
   "source": [
    "del result_map_aaaa\n",
    "del domains_ipv6_df"
   ]
  },
  {
   "cell_type": "markdown",
   "id": "920b5724-3b39-4e4a-8df8-41b41f75df02",
   "metadata": {},
   "source": [
    "### D - 2"
   ]
  },
  {
   "cell_type": "code",
   "execution_count": null,
   "id": "b55f60a1-e8f5-4c0a-b3e1-eb6102d8feec",
   "metadata": {},
   "outputs": [],
   "source": [
    "def replace_empty_strings(x): return when(col(x) == \"\", None).otherwise(col(x))\n",
    "\n",
    "result_map_soa_information = execute_threaded_fn(get_soa_information, args)\n",
    "result_map_nameservers = execute_threaded_fn(get_nameservers, args)\n",
    "\n",
    "def _get_soa_information(top_level_domain): return result_map_soa_information[top_level_domain][1]\n",
    "def _get_soa_information_err(top_level_domain): return result_map_soa_information[top_level_domain][0]\n",
    "def _get_nameservers(top_level_domain): return result_map_nameservers[top_level_domain][1]\n",
    "def _get_nameservers_err(top_level_domain): return result_map_nameservers[top_level_domain][0]\n",
    "\n",
    "udf_get_soa_information = udf(_get_soa_information, ArrayType(StringType()))\n",
    "udf_get_soa_information_err = udf(_get_soa_information_err, IntegerType())\n",
    "udf_get_nameservers = udf(_get_nameservers, ArrayType(StringType()))\n",
    "udf_get_nameservers_err = udf(_get_nameservers_err, IntegerType())\n",
    "\n",
    "def count_arr(arr): return 0 if arr == None else len(arr)\n",
    "count_arr_udf = udf(count_arr, IntegerType())"
   ]
  },
  {
   "cell_type": "code",
   "execution_count": null,
   "id": "bf491549-d8fa-412f-960d-40bbe1112259",
   "metadata": {},
   "outputs": [],
   "source": [
    "domains_soa_df = domains_df.withColumn(\"soa_information\", udf_get_soa_information(\"top_level_domain\"))\\\n",
    "                        .withColumn(\"soa_information_error\", udf_get_soa_information_err(\"top_level_domain\"))\\\n",
    "                        .withColumn(\"nameservers\", udf_get_nameservers(\"top_level_domain\"))\\\n",
    "                        .withColumn(\"nameservers_error\", udf_get_nameservers_err(\"top_level_domain\"))\\\n",
    "                        .drop('mx_record') \\\n",
    "                        .drop('a_record') \\\n",
    "                        .withColumn(\"nameservers_count\", count_arr_udf('nameservers')) \\\n",
    "                        .withColumn(\"soa_infos_rep\", concat_ws(\" \", \"soa_information\"))\n",
    "\n",
    "split_col = split(domains_soa_df['soa_infos_rep'], ' ')\n",
    "\n",
    "domains_soa_df = domains_soa_df.withColumn('soa_name', split_col.getItem(0))\\\n",
    "                        .withColumn('refresh', split_col.getItem(3))\\\n",
    "                        .withColumn('minimum', split_col.getItem(6)) \\\n",
    "                        .drop('soa_information') \\\n",
    "                        .drop('soa_infos_rep') \\\n",
    "                        .withColumn(\"soa_name\", replace_empty_strings(\"soa_name\")) \\\n",
    "                        .withColumn('soa_name', regexp_replace('soa_name', '.$', '')) \\\n",
    "                        .withColumn('nameservers', udf_remove_last_char_in_array(col('nameservers')))\n",
    "\n",
    "domains_soa_df = domains_soa_df.withColumn(\"refresh\", domains_soa_df[\"refresh\"].cast(IntegerType())) \\\n",
    "                        .withColumn(\"minimum\", domains_soa_df[\"minimum\"].cast(IntegerType()))"
   ]
  },
  {
   "cell_type": "code",
   "execution_count": null,
   "id": "a0d9acef-10b7-481e-9a4b-e5e829294692",
   "metadata": {},
   "outputs": [],
   "source": [
    "upsert(\"soa\", [\"top_level_domain\"], [\"soa_name\", \"soa_information_error\", \"refresh\", \"minimum\", \"nameservers\", \"nameservers_error\", \"nameservers_count\"], domains_soa_df)"
   ]
  },
  {
   "cell_type": "code",
   "execution_count": null,
   "id": "7444de9b-7b07-4063-bf7c-c2d48e92926a",
   "metadata": {},
   "outputs": [],
   "source": [
    "del result_map_soa_information\n",
    "del result_map_nameservers"
   ]
  },
  {
   "cell_type": "markdown",
   "id": "2267b7c7-8970-42db-b8d5-c2d3d7b10732",
   "metadata": {},
   "source": [
    "## D - 3"
   ]
  },
  {
   "cell_type": "code",
   "execution_count": null,
   "id": "8d59f925-1c73-479c-b406-f08e91964985",
   "metadata": {},
   "outputs": [],
   "source": [
    "unique_soa_names = set(domains_soa_df.select(\"soa_name\").na.drop(subset=[\"soa_name\"]).toPandas().values.reshape(-1))\n",
    "result_map_a_record_for_soa = execute_threaded_fn(get_a_records, unique_soa_names)\n",
    "def _get_a_records_for_soa(soa): \n",
    "    try: return result_map_a_record_for_soa[soa][1]\n",
    "    except: return None\n",
    "udf_get_a_records_for_soa = udf(_get_a_records_for_soa, ArrayType(StringType()))"
   ]
  },
  {
   "cell_type": "code",
   "execution_count": null,
   "id": "94483a3e-7d8e-4bf3-a893-fab0a282ab65",
   "metadata": {},
   "outputs": [],
   "source": [
    "soa_nameserver_details_df = domains_soa_df.withColumn('soa_name', (col('soa_name'))) \\\n",
    "        .groupBy('soa_name') \\\n",
    "        .count() \\\n",
    "        .na.drop(subset=[\"soa_name\"]) \\\n",
    "        .withColumn(\"ipv4\", udf_get_a_records_for_soa(\"soa_name\")) \\\n",
    "        .withColumn('ipv4', explode(col('ipv4'))) \\\n",
    "        .withColumn(\"location\", udf_get_geolite2_location(\"ipv4\")) \\\n",
    "        .withColumn(\"asn\", udf_get_geolite2_asn(\"ipv4\")) \\\n",
    "        .select(\"soa_name\", \"ipv4\", \"location.*\", \"asn.*\")"
   ]
  },
  {
   "cell_type": "code",
   "execution_count": null,
   "id": "99770c47-66ad-4e10-aa06-b274e71c927f",
   "metadata": {},
   "outputs": [],
   "source": [
    "upsert(\"soa_nameserver_details\", [\"soa_name\", \"ipv4\"], [\"iso_code\", \"city\", \"postal\", \"latitude\", \"longitude\", \"autonomous_system_organization\"], soa_nameserver_details_df)"
   ]
  },
  {
   "cell_type": "code",
   "execution_count": null,
   "id": "a65b2180-afc3-48b0-af44-bee89620ab98",
   "metadata": {},
   "outputs": [],
   "source": [
    "del domains_soa_df\n",
    "del soa_nameserver_details_df\n",
    "del result_map_a_record_for_soa"
   ]
  },
  {
   "cell_type": "markdown",
   "id": "0e74978b-0f06-4f57-ab7a-4d581c465746",
   "metadata": {},
   "source": [
    "# Open quetions / TODOs\n",
    "\n",
    "- Switch B and C ? => Earlier \"del\"\n",
    "\n",
    "FINALLY: Clean scripts?"
   ]
  }
 ],
 "metadata": {
  "kernelspec": {
   "display_name": "Python 3 (ipykernel)",
   "language": "python",
   "name": "python3"
  },
  "language_info": {
   "codemirror_mode": {
    "name": "ipython",
    "version": 3
   },
   "file_extension": ".py",
   "mimetype": "text/x-python",
   "name": "python",
   "nbconvert_exporter": "python",
   "pygments_lexer": "ipython3",
   "version": "3.9.6"
  }
 },
 "nbformat": 4,
 "nbformat_minor": 5
}
