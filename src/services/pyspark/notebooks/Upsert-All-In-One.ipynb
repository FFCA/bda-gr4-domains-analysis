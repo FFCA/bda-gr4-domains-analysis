{
 "cells": [
  {
   "cell_type": "markdown",
   "id": "37b44679-ee18-4016-85fc-c3c8196be37f",
   "metadata": {
    "tags": []
   },
   "source": [
    " # Preparation"
   ]
  },
  {
   "cell_type": "code",
   "execution_count": null,
   "id": "6d74aca5-6827-45e7-8465-74bf3e9127f5",
   "metadata": {},
   "outputs": [],
   "source": [
    "!pip install ipynb\n",
    "!pip install dnspython\n",
    "!pip install geoip2\n",
    "!pip install psycopg2-binary"
   ]
  },
  {
   "cell_type": "code",
   "execution_count": null,
   "id": "c47bec74-87c1-4457-836e-9bf61da75349",
   "metadata": {},
   "outputs": [],
   "source": [
    "from pyspark.sql import SparkSession\n",
    "from pyspark.sql.functions import *\n",
    "from ipynb.fs.full.Functions import *\n",
    "from pyspark.sql.types import IntegerType, BooleanType, ArrayType"
   ]
  },
  {
   "cell_type": "code",
   "execution_count": null,
   "id": "96c6b5b2-edef-4da4-b42c-c422c3db1060",
   "metadata": {},
   "outputs": [],
   "source": [
    "domains_df = SparkSession.builder \\\n",
    "    .appName(\"etl_domains\") \\\n",
    "    .getOrCreate() \\\n",
    "    .read.csv('../data/real_domains.csv', escape = \"\\\"\") \\\n",
    "    .toDF(\"top_level_domain\", \"mx_record\", \"a_record\", \"timestamp\") \\\n",
    "    .drop('timestamp')"
   ]
  },
  {
   "cell_type": "markdown",
   "id": "138ce8a6-c151-4f74-93f3-15f19c0fff67",
   "metadata": {
    "tags": []
   },
   "source": [
    "# Section I"
   ]
  },
  {
   "cell_type": "code",
   "execution_count": null,
   "id": "93b49b34-91a0-48ef-a3d9-aae1968ab69b",
   "metadata": {},
   "outputs": [],
   "source": [
    "def clean_data(df, column, to_delete, to_replace): return df.withColumn(column, regexp_replace(column, to_delete, to_replace))\n",
    "for column in domains_df.schema.names: domains_df = clean_data(domains_df, column, '\\\\[|\\\\]|\\\\\"', \"\")"
   ]
  },
  {
   "cell_type": "code",
   "execution_count": null,
   "id": "db68dcbf-a9ef-4f54-8a1a-52937221c8fd",
   "metadata": {},
   "outputs": [],
   "source": [
    "domains_df = domains_df \\\n",
    "                .withColumn('mx_record', when(domains_df['mx_record'] == '', None).otherwise(split(domains_df['mx_record'], ','))) \\\n",
    "                .withColumn('a_record', when(domains_df['a_record'] == '', None).otherwise(split(domains_df['a_record'], ',')))"
   ]
  },
  {
   "cell_type": "code",
   "execution_count": null,
   "id": "48c5862f-a8d3-4ec0-837d-ea3cd11f7eef",
   "metadata": {},
   "outputs": [],
   "source": [
    "upsert(\"domain\", [\"top_level_domain\"], [\"mx_record\", \"a_record\"], domains_df)"
   ]
  },
  {
   "cell_type": "markdown",
   "id": "a10aa4da-72b6-45e3-acfe-78864e557b95",
   "metadata": {
    "tags": []
   },
   "source": [
    "# Section II"
   ]
  },
  {
   "cell_type": "code",
   "execution_count": null,
   "id": "12344c74-c9eb-46bb-9877-a5bf93ebbf16",
   "metadata": {},
   "outputs": [],
   "source": [
    "def count_arr(arr): return 0 if arr == None else len(arr)\n",
    "count_arr_udf = udf(count_arr, IntegerType())\n",
    "\n",
    "def uses_localhost(mx_records): return mx_records != None and 'localhost' in mx_records\n",
    "uses_localhost_udf = udf(uses_localhost, BooleanType())"
   ]
  },
  {
   "cell_type": "code",
   "execution_count": null,
   "id": "62b4ca8f-d16a-4353-a2fc-7396118682a9",
   "metadata": {},
   "outputs": [],
   "source": [
    "domains_df_enhanced = domains_df \\\n",
    "    .withColumn(\"a_record_count\", count_arr_udf(\"a_record\")) \\\n",
    "    .withColumn(\"mx_record_count\", count_arr_udf(\"mx_record\")) \\\n",
    "    .withColumn(\"mx_uses_localhost\", uses_localhost_udf(\"mx_record\")) \\\n",
    "    .drop(\"mx_record\") \\\n",
    "    .drop(\"a_record\")\n",
    "\n",
    "a_record_count_top_ten_df = domains_df.withColumn('a_record', explode(col('a_record'))) \\\n",
    "        .groupBy('a_record') \\\n",
    "        .count() \\\n",
    "        .orderBy(['count'], ascending = [False]) \\\n",
    "        .limit(10)\n",
    "\n",
    "mx_record_count_top_ten_df = domains_df.withColumn('mx_record', explode(col('mx_record'))) \\\n",
    "        .groupBy('mx_record') \\\n",
    "        .count() \\\n",
    "        .orderBy(['count'], ascending = [False]) \\\n",
    "        .limit(10)"
   ]
  },
  {
   "cell_type": "code",
   "execution_count": null,
   "id": "f5ee1c7b-852b-4570-a6ea-0863f0faa0d1",
   "metadata": {},
   "outputs": [],
   "source": [
    "upsert(\"a_record_count_global\", [\"a_record\"], [\"count\"], a_record_count_top_ten_df)\n",
    "upsert(\"mx_record_count_global\", [\"mx_record\"], [\"count\"], mx_record_count_top_ten_df)\n",
    "upsert(\"domain_enhanced_based_on_existing_data\", [\"top_level_domain\"], [\"a_record_count\", \"mx_record_count\", \"mx_uses_localhost\"], domains_df_enhanced)"
   ]
  },
  {
   "cell_type": "code",
   "execution_count": null,
   "id": "e5bed1a2-a562-4b50-8e9b-bb0ed4b25d83",
   "metadata": {},
   "outputs": [],
   "source": [
    "del a_record_count_top_ten_df\n",
    "del mx_record_count_top_ten_df\n",
    "del domains_df_enhanced"
   ]
  },
  {
   "cell_type": "markdown",
   "id": "eea59131-142c-4622-8035-4861b96dadc6",
   "metadata": {
    "tags": []
   },
   "source": [
    "# Section III"
   ]
  },
  {
   "cell_type": "code",
   "execution_count": null,
   "id": "7b734dc7-194f-4ef8-80c0-f703ea771d0e",
   "metadata": {},
   "outputs": [],
   "source": [
    "args = domains_df.select(\"top_level_domain\").toPandas().values.reshape(-1)"
   ]
  },
  {
   "cell_type": "markdown",
   "id": "a10170f9-0f35-40fe-85bb-8cc302c5a91d",
   "metadata": {
    "tags": []
   },
   "source": [
    "## A"
   ]
  },
  {
   "cell_type": "code",
   "execution_count": null,
   "id": "2b28ad4b-615d-4238-9565-e1cc59addf14",
   "metadata": {},
   "outputs": [],
   "source": [
    "result_map_a_record = execute_threaded_fn(get_a_records, args)\n",
    "def _get_a_records_err(top_level_domain): return result_map_a_record[top_level_domain][0]\n",
    "def _get_a_records(top_level_domain): return result_map_a_record[top_level_domain][1]\n",
    "udf_get_a_records_err = udf(_get_a_records_err, IntegerType())\n",
    "udf_get_a_records = udf(_get_a_records, ArrayType(StringType()))\n",
    "\n",
    "result_map_mx_record = execute_threaded_fn(get_mx_records, args)\n",
    "def _get_mx_records_err(top_level_domain): return result_map_mx_record[top_level_domain][0]\n",
    "def _get_mx_records(top_level_domain): return result_map_mx_record[top_level_domain][1]\n",
    "udf_get_mx_records_err = udf(_get_mx_records_err, IntegerType())\n",
    "udf_get_mx_records = udf(_get_mx_records, ArrayType(StringType()))\n",
    "\n",
    "udf_remove_last_char_in_array = udf(fn_remove_dot, ArrayType(StringType()))"
   ]
  },
  {
   "cell_type": "code",
   "execution_count": null,
   "id": "18f298d1-fbd6-4c49-9de7-27ae8608db42",
   "metadata": {},
   "outputs": [],
   "source": [
    "domains_checked_df = domains_df.withColumn(\"a_record_checked\", udf_get_a_records(\"top_level_domain\")) \\\n",
    "                            .withColumn(\"a_record_checked_error\", udf_get_a_records_err(\"top_level_domain\")) \\\n",
    "                            .withColumn(\"mx_record_checked\", udf_get_mx_records(\"top_level_domain\")) \\\n",
    "                            .withColumn(\"mx_record_checked\", udf_remove_last_char_in_array(col(\"mx_record_checked\"))) \\\n",
    "                            .withColumn(\"mx_record_checked_error\", udf_get_mx_records_err(\"top_level_domain\"))\n",
    "\n",
    "a_record_count_top_ten_df = domains_checked_df.withColumn('a_record_checked', explode(col('a_record_checked'))) \\\n",
    "        .groupBy('a_record_checked') \\\n",
    "        .count() \\\n",
    "        .orderBy(['count'], ascending = [False]).limit(10)\n",
    "\n",
    "mx_record_count_top_ten_df = domains_checked_df.withColumn('mx_record_checked', explode(col('mx_record_checked'))) \\\n",
    "        .groupBy('mx_record_checked') \\\n",
    "        .count() \\\n",
    "        .orderBy(['count'], ascending = [False]).limit(10)\n",
    "\n",
    "domains_checked_df = domains_checked_df.drop(\"a_record\").drop(\"mx_record\")"
   ]
  },
  {
   "cell_type": "code",
   "execution_count": null,
   "id": "5316bc67-927c-4bdb-a4ae-288494e9a832",
   "metadata": {},
   "outputs": [],
   "source": [
    "upsert(\"a_record_checked_count_global\", [\"a_record_checked\"], [\"count\"], a_record_count_top_ten_df)\n",
    "upsert(\"mx_record_checked_count_global\", [\"mx_record_checked\"], [\"count\"], mx_record_count_top_ten_df)\n",
    "upsert(\"domain_records_checked\", [\"top_level_domain\"], [\"a_record_checked\", \"a_record_checked_error\", \"mx_record_checked\", \"mx_record_checked_error\"], domains_checked_df)"
   ]
  },
  {
   "cell_type": "code",
   "execution_count": null,
   "id": "ae88bc05-c661-47de-b440-d070d2a600d2",
   "metadata": {},
   "outputs": [],
   "source": [
    "del result_map_a_record\n",
    "del result_map_mx_record\n",
    "\n",
    "del a_record_count_top_ten_df\n",
    "del mx_record_count_top_ten_df"
   ]
  },
  {
   "cell_type": "markdown",
   "id": "dc6efc77-2dc1-4e81-b97c-9989feded37d",
   "metadata": {},
   "source": [
    "## B"
   ]
  },
  {
   "cell_type": "code",
   "execution_count": null,
   "id": "8afa6775-abf8-430f-99e6-db15940fc8e3",
   "metadata": {},
   "outputs": [],
   "source": [
    "result_map_redirect = execute_threaded_fn(get_redirect_data, args)\n",
    "def get_status_code(top_level_domain): return result_map_redirect[top_level_domain][0]\n",
    "def get_redirect_url(top_level_domain): return result_map_redirect[top_level_domain][1]\n",
    "udf_get_status_code = udf(get_status_code, IntegerType())\n",
    "udf_get_redirect_url = udf(get_redirect_url, StringType())"
   ]
  },
  {
   "cell_type": "code",
   "execution_count": null,
   "id": "7e111487-3131-4c6f-8599-0ff24797d655",
   "metadata": {},
   "outputs": [],
   "source": [
    "domains_redirect_df = domains_df.withColumn(\"redirection\", udf_get_redirect_url(\"top_level_domain\")) \\\n",
    "                                .withColumn(\"status_code\", udf_get_status_code(\"top_level_domain\")) \\\n",
    "                                .drop(\"a_record\") \\\n",
    "                                .drop(\"mx_record\")"
   ]
  },
  {
   "cell_type": "code",
   "execution_count": null,
   "id": "7ba6aa92-3099-44cf-98cb-cd221f27098b",
   "metadata": {},
   "outputs": [],
   "source": [
    "upsert(\"domain_redirection\", [\"top_level_domain\"], [\"redirection\", \"status_code\"], domains_redirect_df)"
   ]
  },
  {
   "cell_type": "code",
   "execution_count": null,
   "id": "d24d448c-398e-4f7c-bb54-986b77280865",
   "metadata": {},
   "outputs": [],
   "source": [
    "del result_map_redirect\n",
    "del domains_redirect_df"
   ]
  }
 ],
 "metadata": {
  "kernelspec": {
   "display_name": "Python 3 (ipykernel)",
   "language": "python",
   "name": "python3"
  },
  "language_info": {
   "codemirror_mode": {
    "name": "ipython",
    "version": 3
   },
   "file_extension": ".py",
   "mimetype": "text/x-python",
   "name": "python",
   "nbconvert_exporter": "python",
   "pygments_lexer": "ipython3",
   "version": "3.9.6"
  }
 },
 "nbformat": 4,
 "nbformat_minor": 5
}
