{
 "cells": [
  {
   "cell_type": "markdown",
   "id": "090cdc08-0da7-4633-83a7-9d76550b65cd",
   "metadata": {},
   "source": [
    "# 1. Checking the redirections\n",
    "\n",
    "This notebook sets the redirects and HTTP status codes based on the specified top-level domains.\n",
    "\n",
    "## Setup\n",
    "\n",
    "First, the required imports are made, the session is initialized and the data is collected from the Postgres database:"
   ]
  },
  {
   "cell_type": "code",
   "execution_count": null,
   "id": "17673472-e4ff-4c4f-b256-1b5beaafd228",
   "metadata": {},
   "outputs": [],
   "source": [
    "# Required installations\n",
    "!pip install ipynb\n",
    "!pip install dnspython\n",
    "!pip install geoip2\n",
    "\n",
    "# Imports\n",
    "from pyspark.sql import SparkSession\n",
    "from pyspark.sql.functions import *\n",
    "from pyspark.sql.types import *\n",
    "\n",
    "#PostgreSQL access data\n",
    "host = \"bda_gr4_database\"\n",
    "port = \"5432\"\n",
    "database = \"domainanalysis\"\n",
    "user = \"postgres\"\n",
    "password = \"postgres\"\n",
    "\n",
    "# PostgreSQL connection url\n",
    "connection = f\"jdbc:postgresql://{host}:{port}/{database}\"\n",
    "\n",
    "# Create a Spark session\n",
    "spark = SparkSession.builder \\\n",
    "    .appName(\"domain_analysis\") \\\n",
    "    .getOrCreate()\n",
    "\n",
    "# Read data from the database\n",
    "domains_df = spark.read \\\n",
    "                .format(\"jdbc\") \\\n",
    "                .option(\"url\", connection) \\\n",
    "                .option(\"dbtable\", \"domain\") \\\n",
    "                .option(\"user\", user) \\\n",
    "                .option(\"password\", password) \\\n",
    "                .load()\n",
    "\n",
    "# Display the data frame\n",
    "domains_df.limit(15).toPandas()"
   ]
  },
  {
   "cell_type": "markdown",
   "id": "62020254-9a2d-41b0-af79-b27b88f8e415",
   "metadata": {},
   "source": [
    "## Determination of redirects and HTTP status codes\n",
    "\n",
    "Secondly, the functions are imported from the functions notebook `Functions.ipynb` in order to use them for the definition of the `UDFs`:"
   ]
  },
  {
   "cell_type": "code",
   "execution_count": null,
   "id": "9242159c-7e14-40cc-8f2e-d57cea3b4d4e",
   "metadata": {},
   "outputs": [],
   "source": [
    "# Import from Funtions.ipynb\n",
    "from ipynb.fs.full.Functions import *\n",
    "\n",
    "# Creating of UDF's\n",
    "udf_getRedirectUrl = udf(getRedirectUrl, StringType())\n",
    "udf_getStatusCodeUrl = udf(getStatusCodeUrl, StringType())"
   ]
  },
  {
   "cell_type": "markdown",
   "id": "61bf1231-c361-49d5-8538-03781795b87b",
   "metadata": {},
   "source": [
    "In this block, the `redirections` and the `HTTP status codes` are determined by calling the UDF functions. The `top_level_domain` column is passed as a parameter. The forwardings and status codes are determined for each top-level domain and stored in new columns:"
   ]
  },
  {
   "cell_type": "code",
   "execution_count": null,
   "id": "9e6485f9-177a-439a-81db-ff68d7c97ee8",
   "metadata": {},
   "outputs": [],
   "source": [
    "# Create the new columns with the results\n",
    "domains_redirect_df = domains_df.withColumn(\"redirection\", udf_getRedirectUrl(\"top_level_domain\"))\n",
    "domains_redirect_df = domains_redirect_df.withColumn(\"status_code\", udf_getStatusCodeUrl(\"top_level_domain\"))"
   ]
  },
  {
   "cell_type": "markdown",
   "id": "b75823a6-9b81-4c82-95b0-f250510a3078",
   "metadata": {},
   "source": [
    "## Store the data\n",
    "\n",
    "Finally, the columns `a_record` and `mx_record` are removed from the data frame. Furthermore, the first 15 rows of the data frame are displayed as a check for writing to the database:"
   ]
  },
  {
   "cell_type": "code",
   "execution_count": null,
   "id": "844fbeed-9d7d-4ba4-bfe0-3d53ecba427a",
   "metadata": {},
   "outputs": [],
   "source": [
    "# Remove columns\n",
    "domains_redirect_df = domains_redirect_df.drop(\"a_record\").drop(\"mx_record\")\n",
    "domains_redirect_df.limit(15).toPandas()"
   ]
  },
  {
   "cell_type": "code",
   "execution_count": null,
   "id": "40437d19-e50f-4e28-86b3-7017f2eb6259",
   "metadata": {},
   "outputs": [],
   "source": [
    "# Write the data frame to the PostgreSQL database\n",
    "domains_redirect_df.repartition(8).write \\\n",
    "    .format(\"jdbc\") \\\n",
    "    .option(\"url\", connection) \\\n",
    "    .option(\"dbtable\", \"domain_redirection\") \\\n",
    "    .option(\"user\", user) \\\n",
    "    .option(\"batchsize\", 10000) \\\n",
    "    .option(\"password\", password) \\\n",
    "    .mode(\"append\") \\\n",
    "    .save()"
   ]
  }
 ],
 "metadata": {
  "kernelspec": {
   "display_name": "Python 3",
   "language": "python",
   "name": "python3"
  },
  "language_info": {
   "codemirror_mode": {
    "name": "ipython",
    "version": 3
   },
   "file_extension": ".py",
   "mimetype": "text/x-python",
   "name": "python",
   "nbconvert_exporter": "python",
   "pygments_lexer": "ipython3",
   "version": "3.9.5"
  }
 },
 "nbformat": 4,
 "nbformat_minor": 5
}
