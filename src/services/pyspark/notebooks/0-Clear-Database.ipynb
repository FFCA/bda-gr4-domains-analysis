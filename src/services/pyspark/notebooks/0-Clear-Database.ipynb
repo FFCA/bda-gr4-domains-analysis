{
 "cells": [
  {
   "cell_type": "markdown",
   "id": "60e805fe-8b02-4375-ba7a-9c6516a586af",
   "metadata": {},
   "source": [
    "# Clear Database\n",
    "\n",
    "__CAUTION: *This script might not be necessary or wanted to be executed. Please read the information below before deciding if you want to clear all database tables.*__\n",
    "\n",
    "In order to prevent errors caused by unqiue key violations, data must be deleted before being re-inserted into the database.\n",
    "This notebooks removes all data from all tables.\n",
    "\n",
    "## Setup\n",
    "\n",
    "First, the database-related information is defined and `psycopg2` is installed/imported."
   ]
  },
  {
   "cell_type": "code",
   "execution_count": null,
   "id": "0537cb8a-d657-4740-825a-4c6d65089f42",
   "metadata": {},
   "outputs": [],
   "source": [
    "!pip install psycopg2-binary\n",
    "\n",
    "import psycopg2\n",
    "\n",
    "host = \"bda_gr4_database\"\n",
    "port = \"5432\"\n",
    "database = \"domainanalysis\"\n",
    "user = \"postgres\"\n",
    "password = \"postgres\"\n",
    "connection_url = f\"postgres://{user}:{password}@{host}:{port}/{database}\""
   ]
  },
  {
   "cell_type": "markdown",
   "id": "201dc71f-53d3-4869-8594-90565838a2d4",
   "metadata": {},
   "source": [
    "## Master function for deletion\n",
    "\n",
    "In order to simplify deleting data, a master function is defined which deletes everything from a specific table."
   ]
  },
  {
   "cell_type": "code",
   "execution_count": null,
   "id": "2d0054fd-3382-4b6d-ae32-660175602418",
   "metadata": {},
   "outputs": [],
   "source": [
    "def delete_from_db(table):\n",
    "    conn = None\n",
    "    rows_deleted = 0\n",
    "    try:\n",
    "        conn = psycopg2.connect(connection_url)\n",
    "        cur = conn.cursor()\n",
    "        cur.execute(f\"DELETE FROM {table}\")\n",
    "        rows_deleted = cur.rowcount\n",
    "        conn.commit()\n",
    "        cur.close()\n",
    "    except (Exception, psycopg2.DatabaseError) as error:\n",
    "        print(error)\n",
    "    finally:\n",
    "        if conn is not None:\n",
    "            conn.close()\n",
    "            print(f\"Deleted {rows_deleted} rows from {table}\")"
   ]
  },
  {
   "cell_type": "markdown",
   "id": "7cce3a7a-9db3-4a58-9289-5ab6a52ad167",
   "metadata": {},
   "source": [
    "## Delete data\n",
    "\n",
    "Everything is set up and the data can be deletd:"
   ]
  },
  {
   "cell_type": "code",
   "execution_count": null,
   "id": "0191f983-c425-4939-8a22-10ec625d5d37",
   "metadata": {},
   "outputs": [],
   "source": [
    "delete_from_db('a_record_count_global')\n",
    "delete_from_db('mx_record_count_global')\n",
    "delete_from_db('a_record_checked_count_global')\n",
    "delete_from_db('mx_record_checked_count_global')\n",
    "delete_from_db('domain_records_checked')\n",
    "delete_from_db('domain_redirection')\n",
    "delete_from_db('domain_enhanced_based_on_existing_data')\n",
    "delete_from_db('domain_mx_record_geolite2')\n",
    "delete_from_db('ip_v6_information')\n",
    "delete_from_db('soa')\n",
    "delete_from_db('soa_top_ten')\n",
    "delete_from_db('domain')"
   ]
  }
 ],
 "metadata": {
  "kernelspec": {
   "display_name": "Python 3 (ipykernel)",
   "language": "python",
   "name": "python3"
  },
  "language_info": {
   "codemirror_mode": {
    "name": "ipython",
    "version": 3
   },
   "file_extension": ".py",
   "mimetype": "text/x-python",
   "name": "python",
   "nbconvert_exporter": "python",
   "pygments_lexer": "ipython3",
   "version": "3.9.5"
  }
 },
 "nbformat": 4,
 "nbformat_minor": 5
}
