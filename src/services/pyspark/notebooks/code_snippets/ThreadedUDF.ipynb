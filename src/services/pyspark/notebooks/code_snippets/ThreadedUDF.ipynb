{
 "cells": [
  {
   "cell_type": "markdown",
   "id": "617035ae-3b51-4bc8-8c17-57363b54955e",
   "metadata": {},
   "source": [
    "# 1. Useful functions\n",
    "\n",
    "This notebook contains useful functions that can be imported and reused within a Jupyter notebook."
   ]
  },
  {
   "cell_type": "code",
   "execution_count": 19,
   "id": "30fcbc76-880a-4957-80a5-b804fa848073",
   "metadata": {},
   "outputs": [
    {
     "name": "stdout",
     "output_type": "stream",
     "text": [
      "Requirement already satisfied: ipynb in /opt/conda/lib/python3.9/site-packages (0.5.1)\n",
      "Requirement already satisfied: dnspython in /opt/conda/lib/python3.9/site-packages (2.1.0)\n",
      "Requirement already satisfied: geoip2 in /opt/conda/lib/python3.9/site-packages (4.2.0)\n",
      "Requirement already satisfied: urllib3<2.0.0,>=1.25.2 in /opt/conda/lib/python3.9/site-packages (from geoip2) (1.26.6)\n",
      "Requirement already satisfied: maxminddb<3.0.0,>=2.0.0 in /opt/conda/lib/python3.9/site-packages (from geoip2) (2.0.3)\n",
      "Requirement already satisfied: aiohttp<4.0.0,>=3.6.2 in /opt/conda/lib/python3.9/site-packages (from geoip2) (3.7.4.post0)\n",
      "Requirement already satisfied: requests<3.0.0,>=2.24.0 in /opt/conda/lib/python3.9/site-packages (from geoip2) (2.25.1)\n",
      "Requirement already satisfied: async-timeout<4.0,>=3.0 in /opt/conda/lib/python3.9/site-packages (from aiohttp<4.0.0,>=3.6.2->geoip2) (3.0.1)\n",
      "Requirement already satisfied: typing-extensions>=3.6.5 in /opt/conda/lib/python3.9/site-packages (from aiohttp<4.0.0,>=3.6.2->geoip2) (3.10.0.0)\n",
      "Requirement already satisfied: yarl<2.0,>=1.0 in /opt/conda/lib/python3.9/site-packages (from aiohttp<4.0.0,>=3.6.2->geoip2) (1.6.3)\n",
      "Requirement already satisfied: multidict<7.0,>=4.5 in /opt/conda/lib/python3.9/site-packages (from aiohttp<4.0.0,>=3.6.2->geoip2) (5.1.0)\n",
      "Requirement already satisfied: chardet<5.0,>=2.0 in /opt/conda/lib/python3.9/site-packages (from aiohttp<4.0.0,>=3.6.2->geoip2) (4.0.0)\n",
      "Requirement already satisfied: attrs>=17.3.0 in /opt/conda/lib/python3.9/site-packages (from aiohttp<4.0.0,>=3.6.2->geoip2) (21.2.0)\n",
      "Requirement already satisfied: idna<3,>=2.5 in /opt/conda/lib/python3.9/site-packages (from requests<3.0.0,>=2.24.0->geoip2) (2.10)\n",
      "Requirement already satisfied: certifi>=2017.4.17 in /opt/conda/lib/python3.9/site-packages (from requests<3.0.0,>=2.24.0->geoip2) (2021.5.30)\n"
     ]
    }
   ],
   "source": [
    "# Required installations\n",
    "!pip install ipynb\n",
    "!pip install dnspython\n",
    "!pip install geoip2\n",
    "\n",
    "# Required imports\n",
    "from pyspark.sql import SparkSession\n",
    "from pyspark.sql.functions import *\n",
    "from pyspark.sql.types import *\n",
    "from ipynb.fs.full.Functions import getARecords, getARecords_error, getMXRecords, getMXRecords_error, fn_remove_dot\n",
    "\n",
    "# Create a Spark session\n",
    "spark = SparkSession.builder \\\n",
    "    .appName(\"domain_analysis\") \\\n",
    "    .getOrCreate()\n",
    "\n",
    "domains_df = spark.read.csv('../data/real_domains.csv', escape = \"\\\"\").toDF(\"top_level_domain\", \"mx_record\", \"a_record\", \"timestamp\")"
   ]
  },
  {
   "cell_type": "code",
   "execution_count": 20,
   "id": "233788ac-5040-4d6e-a6e5-4c60c78daaa3",
   "metadata": {},
   "outputs": [],
   "source": [
    "from concurrent.futures import ThreadPoolExecutor\n",
    "\n",
    "def execute_threaded_fn(fn, args):\n",
    "    futures = []\n",
    "    dictionary = {}\n",
    "\n",
    "    with ThreadPoolExecutor(max_workers=32) as executor:\n",
    "        for arg in args:\n",
    "            futures.append((arg, executor.submit(fn, arg)))\n",
    "        for future in futures:\n",
    "            try:\n",
    "                result = future[1].result(timeout=60)\n",
    "                dictionary[future[0]] = result\n",
    "            except Exception:\n",
    "                results.append(None)\n",
    "    return dictionary "
   ]
  },
  {
   "cell_type": "code",
   "execution_count": null,
   "id": "7f83b100-b08c-400e-a36e-d1e9fc6dc6c9",
   "metadata": {},
   "outputs": [],
   "source": [
    "#udf_getARecords = udf(getARecords, ArrayType(StringType())\n",
    "args = domains_df.select(\"top_level_domain\").toPandas().values.reshape(-1)\n",
    "result_map = execute_threaded_fn(getARecords, args)"
   ]
  },
  {
   "cell_type": "code",
   "execution_count": null,
   "id": "9f81e035-252c-41de-a911-ef23cbd3ed0b",
   "metadata": {},
   "outputs": [],
   "source": [
    "def getARecords_udf(top_level_domain):\n",
    "    return result_map[top_level_domain]"
   ]
  },
  {
   "cell_type": "code",
   "execution_count": null,
   "id": "37e1ad26-d24d-408c-8369-9cc8adc34928",
   "metadata": {},
   "outputs": [],
   "source": [
    "udf_getARecords = udf(getARecords_udf, ArrayType(StringType()))"
   ]
  },
  {
   "cell_type": "code",
   "execution_count": null,
   "id": "e4452909-ca04-4636-bdd6-571446a4217f",
   "metadata": {},
   "outputs": [],
   "source": [
    "domains_df = domains_df.withColumn(\"a_record_checked\", udf_getARecords(\"top_level_domain\"))\n",
    "domains_df.show(5, False)"
   ]
  },
  {
   "cell_type": "code",
   "execution_count": null,
   "id": "02617d07-8a6d-456b-a0bf-f7190f8aba20",
   "metadata": {},
   "outputs": [],
   "source": []
  }
 ],
 "metadata": {
  "kernelspec": {
   "display_name": "Python 3 (ipykernel)",
   "language": "python",
   "name": "python3"
  },
  "language_info": {
   "codemirror_mode": {
    "name": "ipython",
    "version": 3
   },
   "file_extension": ".py",
   "mimetype": "text/x-python",
   "name": "python",
   "nbconvert_exporter": "python",
   "pygments_lexer": "ipython3",
   "version": "3.9.5"
  }
 },
 "nbformat": 4,
 "nbformat_minor": 5
}
