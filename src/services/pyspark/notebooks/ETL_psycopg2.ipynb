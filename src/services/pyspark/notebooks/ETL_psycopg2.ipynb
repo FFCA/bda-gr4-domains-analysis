{
 "cells": [
  {
   "cell_type": "code",
   "execution_count": null,
   "id": "39cb10e4-7804-418c-9ae8-bec61bdf1a41",
   "metadata": {},
   "outputs": [],
   "source": [
    "!pip install psycopg2-binary"
   ]
  },
  {
   "cell_type": "code",
   "execution_count": null,
   "id": "b1567b15-75c1-46e1-958e-acf090e70e56",
   "metadata": {},
   "outputs": [],
   "source": [
    "from pyspark.sql import SparkSession, Window\n",
    "from pyspark.sql.functions import *\n",
    "import psycopg2\n",
    "import pandas as pd\n",
    "import io\n",
    "import os\n",
    "\n",
    "spark = SparkSession.builder \\\n",
    "    .appName(\"etl_domains\") \\\n",
    "    .getOrCreate()"
   ]
  },
  {
   "cell_type": "code",
   "execution_count": null,
   "id": "aea0a4e6-b1f3-4afe-a843-1b458287c1a1",
   "metadata": {},
   "outputs": [],
   "source": [
    "domains_df = spark \\\n",
    "                .read.csv('../data/real_domains.csv', escape = \"\\\"\") \\\n",
    "                .toDF(\"top_level_domain\", \"mx_record\", \"a_record\", \"timestamp\") \\\n",
    "                .drop('timestamp')\n",
    "    \n",
    "domains_df.show()"
   ]
  },
  {
   "cell_type": "code",
   "execution_count": null,
   "id": "002a2842-3888-484f-ad02-a8980cae00c5",
   "metadata": {},
   "outputs": [],
   "source": [
    "def clean_data(df, column, to_delete, to_replace):\n",
    "    return df.withColumn(column, regexp_replace(column, to_delete, to_replace))\n",
    "\n",
    "# Clean up each column\n",
    "for column in domains_df.schema.names:\n",
    "    domains_df = domains_df.withColumn(column, regexp_replace(column, '\\\\[', \"{\")) \\\n",
    "                           .withColumn(column, regexp_replace(column, '\\\\]', \"}\")) \\\n",
    "                           .withColumn(column, regexp_replace(column, '\\\\\"', \"\"))\n",
    "\n",
    "domains_df.show(5)"
   ]
  },
  {
   "cell_type": "code",
   "execution_count": null,
   "id": "c4e610c7-1986-4dc5-af7f-90eae9000da4",
   "metadata": {},
   "outputs": [],
   "source": [
    "domains_df = domains_df.replace(\"{}\", \"null\")\n",
    "\n",
    "# Display the data frame\n",
    "domains_df.show()"
   ]
  },
  {
   "cell_type": "code",
   "execution_count": null,
   "id": "8ba170d7-7789-47c9-95f2-12dfcc3c8f0a",
   "metadata": {},
   "outputs": [],
   "source": [
    "host = \"bda_gr4_database\"\n",
    "port = \"5432\"\n",
    "database = \"domainanalysis\"\n",
    "user = \"postgres\"\n",
    "password = \"postgres\"\n",
    "# table = \"domain\"\n",
    "connection_url = f\"postgres://{user}:{password}@{host}:{port}/{database}\"\n",
    "\n",
    "def copy_to_db(df, table): \n",
    "    conn = psycopg2.connect(connection_url)\n",
    "    buffer = io.StringIO()\n",
    "    df.to_csv(buffer, header=False, index=False, sep=\";\")\n",
    "    buffer.seek(0)\n",
    "    cursor = conn.cursor()\n",
    "\n",
    "    try:\n",
    "        cursor.copy_from(buffer, table, sep=\";\", null=\"null\")\n",
    "        conn.commit()\n",
    "    except (Exception, psycopg2.DatabaseError) as error:\n",
    "        print(\"Error: %s\" % error)\n",
    "        conn.rollback()\n",
    "        cursor.close()\n",
    "        return 1\n",
    "    cursor.close()\n",
    "    conn.close()\n",
    "\n",
    "\n",
    "slice_size = 100000\n",
    "i = 0\n",
    "count = domains_df.count()\n",
    "\n",
    "domains_df = domains_df.withColumn(\"index\", row_number().over(Window.orderBy(monotonically_increasing_id()))-1)\n",
    "\n",
    "while i < count:\n",
    "    df = domains_df.filter((domains_df[\"index\"] >= i) & (domains_df[\"index\"] < i + slice_size))\n",
    "    copy_to_db(df.drop(\"index\").toPandas(), \"domain\")\n",
    "    i = i + slice_size\n",
    "\n",
    "# TODO: Discuss => mx_record {} != null ?\n",
    "\n",
    "# see: https://www.mikulskibartosz.name/how-to-speed-up-pyspark/\n"
   ]
  }
 ],
 "metadata": {
  "kernelspec": {
   "display_name": "Python 3",
   "language": "python",
   "name": "python3"
  },
  "language_info": {
   "codemirror_mode": {
    "name": "ipython",
    "version": 3
   },
   "file_extension": ".py",
   "mimetype": "text/x-python",
   "name": "python",
   "nbconvert_exporter": "python",
   "pygments_lexer": "ipython3",
   "version": "3.9.5"
  }
 },
 "nbformat": 4,
 "nbformat_minor": 5
}
