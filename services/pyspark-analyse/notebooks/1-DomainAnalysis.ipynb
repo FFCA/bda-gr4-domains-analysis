{
 "cells": [
  {
   "cell_type": "code",
   "execution_count": 1,
   "id": "7ae2465b",
   "metadata": {},
   "outputs": [
    {
     "name": "stdout",
     "output_type": "stream",
     "text": [
      "Requirement already satisfied: dnspython in /opt/conda/lib/python3.9/site-packages (2.1.0)\n"
     ]
    }
   ],
   "source": [
    "!pip install dnspython\n",
    "\n",
    "from pyspark.sql import SparkSession\n",
    "from pyspark.sql.functions import *\n",
    "from pyspark.sql.types import *\n",
    "\n",
    "#PostgreSQL access data\n",
    "host = \"bda_gr4_database\"\n",
    "port = \"5432\"\n",
    "database = \"domainanalysis\"\n",
    "user = \"postgres\"\n",
    "password = \"postgres\"\n",
    "\n",
    "# PostgreSQL connection url\n",
    "connection = f\"jdbc:postgresql://{host}:{port}/{database}\"\n",
    "\n",
    "# Create a Spark session\n",
    "spark = SparkSession.builder \\\n",
    "    .appName(\"ETL_DomainAnaylsis\") \\\n",
    "    .getOrCreate()\n",
    "\n",
    "# Read data from the database\n",
    "domains_df = spark.read \\\n",
    "                .format(\"jdbc\") \\\n",
    "                .option(\"url\", connection) \\\n",
    "                .option(\"dbtable\", \"domain\") \\\n",
    "                .option(\"user\", user) \\\n",
    "                .option(\"password\", password) \\\n",
    "                .load()\n",
    "\n",
    "# Display the data frame\n",
    "# domains_df.show()"
   ]
  },
  {
   "cell_type": "code",
   "execution_count": 2,
   "id": "ef2e884e",
   "metadata": {},
   "outputs": [],
   "source": [
    "import dns\n",
    "from dns import resolver\n",
    "import requests\n",
    "from urllib.parse import urlparse\n",
    "\n",
    "\n",
    "def getARecords(domain):\n",
    "    try:\n",
    "        result = dns.resolver.resolve(domain, 'A')\n",
    "        return list(map(lambda ipval: ipval.to_text(), result))\n",
    "    except dns.resolver.NXDOMAIN:\n",
    "        return \"Domain not available\"\n",
    "    except dns.resolver.NoAnswer:\n",
    "        return \"No Answer\"\n",
    "    except dns.resolver.NoNameservers:\n",
    "        return \"No Nameservers\"\n",
    "    except dns.resolver.Timeout:\n",
    "        return \"Timeout\"\n",
    "\n",
    "    \n",
    "def getIPv6Records(domain):\n",
    "    try:\n",
    "        result = dns.resolver.resolve(domain, 'AAAA')\n",
    "        return list(map(lambda ipval: ipval.to_text(), result))\n",
    "    except dns.resolver.NXDOMAIN:\n",
    "        return \"Domain not available\"\n",
    "    except dns.resolver.NoAnswer:\n",
    "        return None\n",
    "    except dns.resolver.NoNameservers:\n",
    "        return \"No Nameservers\"\n",
    "    except dns.resolver.Timeout:\n",
    "        return \"Timeout\"\n",
    "\n",
    "    \n",
    "def getMXRecords(domain):\n",
    "    try:\n",
    "        result = dns.resolver.resolve(domain, 'MX')\n",
    "        return list(map(lambda mail: mail.exchange.to_text(), result))\n",
    "    except dns.resolver.NXDOMAIN:\n",
    "        return list(\"Domain not available\")\n",
    "    except dns.resolver.NoAnswer:\n",
    "        return list(\"No Answer\")\n",
    "    except dns.resolver.NoNameservers:\n",
    "        return list(\"No Nameservers\")\n",
    "    except dns.exception.Timeout:\n",
    "        return list(\"Timeout\")\n",
    "\n",
    "def getRedirectUrl(domain):\n",
    "    try:\n",
    "        response = requests.get(\"http://\" + domain, timeout=5)\n",
    "        url = urlparse(response.url).netloc\n",
    "        url = ('.'.join(url.split('.')[-2:]))\n",
    "        return url\n",
    "    except requests.exceptions.ConnectionError:\n",
    "        return \"Connection Error\"\n",
    "    except requests.exceptions.ReadTimeout:\n",
    "        return \"Read Timeout\"\n",
    "    except requests.exceptions.TooManyRedirects:\n",
    "        return \"Too Many Redirects\"\n",
    "\n",
    "def getStatusCodeUrl(domain):\n",
    "    try:\n",
    "        response = requests.get(\"http://\" + domain, timeout=5)\n",
    "        return response.status_code\n",
    "    except requests.exceptions.ConnectionError:\n",
    "        return \"Connection Error\"\n",
    "    except requests.exceptions.ReadTimeout:\n",
    "        return \"Read Timeout\"\n",
    "    except requests.exceptions.TooManyRedirects:\n",
    "        return \"Too Many Redirects\"\n",
    "    \n",
    "def getSOAInformation(domain):\n",
    "    try:\n",
    "        result = dns.resolver.resolve(domain, 'SOA')\n",
    "        return list(map(lambda soa: soa.to_text(), result))\n",
    "    except dns.resolver.NXDOMAIN:\n",
    "        return list(\"Domain not available\")\n",
    "    except dns.resolver.NoAnswer:\n",
    "        return list(\"No Answer\")\n",
    "    except dns.resolver.NoNameservers:\n",
    "        return list(\"No Nameservers\")\n",
    "    except dns.exception.Timeout:\n",
    "        return list(\"Timeout\")"
   ]
  },
  {
   "cell_type": "code",
   "execution_count": 3,
   "id": "2776e04a",
   "metadata": {},
   "outputs": [],
   "source": [
    "udf_getARecords = udf(getARecords, ArrayType(StringType()))\n",
    "udf_getIPv6Records = udf(getIPv6Records, StringType())\n",
    "udf_getMXRecords = udf(getMXRecords, ArrayType(StringType()))\n",
    "udf_getRedirectUrl = udf(getRedirectUrl, ArrayType(StringType()))\n",
    "udf_getStatusCodeUrl = udf(getStatusCodeUrl, ArrayType(StringType()))\n",
    "udf_getSOAInformation = udf(getSOAInformation, ArrayType(StringType()))"
   ]
  },
  {
   "cell_type": "code",
   "execution_count": 4,
   "id": "24cd0c8c",
   "metadata": {},
   "outputs": [],
   "source": [
    "domains_df = domains_df.withColumn(\"a_record_checked\", udf_getARecords(\"top_level_domain\"))\n",
    "domains_df = domains_df.withColumn(\"aaaa_record\", udf_getIPv6Records(\"top_level_domain\"))\n",
    "domains_df = domains_df.withColumn(\"mx_record_checked\", udf_getMXRecords(\"top_level_domain\"))\n",
    "domains_df = domains_df.withColumn(\"redirection\", udf_getRedirectUrl(\"top_level_domain\"))\n",
    "domains_df = domains_df.withColumn(\"status_code\", udf_getStatusCodeUrl(\"top_level_domain\"))\n",
    "domains_df = domains_df.withColumn(\"soa_information\", udf_getSOAInformation(\"top_level_domain\"))"
   ]
  },
  {
   "cell_type": "code",
   "execution_count": 5,
   "id": "324fbdd3",
   "metadata": {},
   "outputs": [],
   "source": [
    "#domains_df.show(50)"
   ]
  },
  {
   "cell_type": "code",
   "execution_count": 6,
   "id": "1097f17c-04e5-4c04-b909-3057dfd08c85",
   "metadata": {},
   "outputs": [],
   "source": [
    "# Change ArrayType<String> into String\n",
    "domains_df = domains_df.withColumn(\"soa_infos_rep\", concat_ws(\" \", \"soa_information\"))"
   ]
  },
  {
   "cell_type": "code",
   "execution_count": 7,
   "id": "389fa13a-82fb-4067-bdb1-664b6065c778",
   "metadata": {},
   "outputs": [],
   "source": [
    "# Split SOA information into separate columns (all String)\n",
    "split_col = split(domains_df['soa_infos_rep'], ' ')\n",
    "domains_df = domains_df.withColumn('mname', split_col.getItem(0))\n",
    "domains_df = domains_df.withColumn('refresh', split_col.getItem(3))\n",
    "domains_df = domains_df.withColumn('minimum', split_col.getItem(6))\n",
    "\n",
    "# Remove last sign '.' if available\n",
    "domains_df = domains_df.withColumn('mname', regexp_replace('mname', '.$', ''))   "
   ]
  },
  {
   "cell_type": "code",
   "execution_count": 8,
   "id": "ed77c9d3-375e-4093-8a6f-806b5357a9e2",
   "metadata": {},
   "outputs": [
    {
     "name": "stdout",
     "output_type": "stream",
     "text": [
      "[Row(top_level_domain='0--1.de', mx_record=['mail.0--1.de', 'mxf993.netcup.net'], a_record=['46.38.249.145'], a_record_checked=['46.38.249.145'], aaaa_record='[2a03:4000:30:61cb::12:5141]', mx_record_checked=['mail.0--1.de.', 'mxf993.netcup.net.'], redirection=None, status_code=None, soa_information=['root-dns.netcup.net. dnsadmin.netcup.net. 2020021201 28800 7200 1209600 86400'], soa_infos_rep='root-dns.netcup.net. dnsadmin.netcup.net. 2020021201 28800 7200 1209600 86400', mname='root-dns.netcup.net', refresh=28800, minimum=86400), Row(top_level_domain='0--2.de', mx_record=['mxf993.netcup.net', 'mail.0--2.de'], a_record=['212.227.212.163'], a_record_checked=['212.227.212.163'], aaaa_record=None, mx_record_checked=['mxf993.netcup.net.', 'mail.0--2.de.'], redirection=None, status_code=None, soa_information=['root-dns.netcup.net. dnsadmin.netcup.net. 2020040917 28800 7200 1209600 3600'], soa_infos_rep='root-dns.netcup.net. dnsadmin.netcup.net. 2020040917 28800 7200 1209600 3600', mname='root-dns.netcup.net', refresh=28800, minimum=3600), Row(top_level_domain='0-0-0-0-0.de', mx_record=['smtp-02.tld.t-online.de', 'smtp-01.tld.t-online.de'], a_record=['80.150.6.143'], a_record_checked=['80.150.6.143'], aaaa_record='[2003:2:2:15:80:150:6:143]', mx_record_checked=['smtp-02.tld.t-online.de.', 'smtp-01.tld.t-online.de.'], redirection=None, status_code=None, soa_information=['dns01-tld.t-online.de. hosting.telekom.de. 2009102305 21600 3600 604800 86400'], soa_infos_rep='dns01-tld.t-online.de. hosting.telekom.de. 2009102305 21600 3600 604800 86400', mname='dns01-tld.t-online.de', refresh=21600, minimum=86400), Row(top_level_domain='0-0-0-1.de', mx_record=['smtp-02.tld.t-online.de', 'smtp-01.tld.t-online.de'], a_record=['80.150.6.143'], a_record_checked=['80.150.6.143'], aaaa_record='[2003:2:2:15:80:150:6:143]', mx_record_checked=['smtp-01.tld.t-online.de.', 'smtp-02.tld.t-online.de.'], redirection=None, status_code=None, soa_information=['dns01-tld.t-online.de. hosting.telekom.de. 2009102305 21600 3600 604800 86400'], soa_infos_rep='dns01-tld.t-online.de. hosting.telekom.de. 2009102305 21600 3600 604800 86400', mname='dns01-tld.t-online.de', refresh=21600, minimum=86400), Row(top_level_domain='0-0.de', mx_record=None, a_record=['185.53.178.13'], a_record_checked=['185.53.178.13'], aaaa_record=None, mx_record_checked=['N', 'o', ' ', 'A', 'n', 's', 'w', 'e', 'r'], redirection=None, status_code=None, soa_information=['ns1.parkingcrew.net. hostmaster.0-0.de. 1624974000 28800 7200 604800 86400'], soa_infos_rep='ns1.parkingcrew.net. hostmaster.0-0.de. 1624974000 28800 7200 604800 86400', mname='ns1.parkingcrew.net', refresh=28800, minimum=86400)]\n"
     ]
    }
   ],
   "source": [
    "# change dtypes of seconds to int\n",
    "domains_df = domains_df.withColumn(\"refresh\", domains_df[\"refresh\"].cast(IntegerType()))\n",
    "domains_df = domains_df.withColumn(\"minimum\", domains_df[\"minimum\"].cast(IntegerType()))\n",
    "\n",
    "#domains_df = domains_df.withColumn(\"refresh\", domains_df[\"refresh\"].cast(TimestampType()))\n",
    "\n",
    "#domains_df.dtypes\n",
    "print(domains_df.head(5))"
   ]
  },
  {
   "cell_type": "code",
   "execution_count": null,
   "id": "d31f848d",
   "metadata": {},
   "outputs": [],
   "source": [
    "# Count the values of each column with descending sort and show it\n",
    "# domains_df.groupBy(\"Top-Level-Domain\").count().sort(desc(\"count\")).show(20, False)\n",
    "# domains_df.groupBy(\"MX-Record\").count().sort(desc(\"count\")).show(20, False)\n",
    "# domains_df.groupBy(\"A-Record\").count().sort(desc(\"count\")).show(20, False)\n",
    "# domains_df.groupBy(\"A-Record_Checked\").count().sort(desc(\"count\")).show(20, False)\n",
    "# domains_df.groupBy(\"MX-Record_Checked\").count().sort(desc(\"count\")).show(20, False)\n",
    "# domains_df.groupBy(\"Redirection\").count().sort(desc(\"count\")).show(20, False)"
   ]
  },
  {
   "cell_type": "code",
   "execution_count": 21,
   "id": "00000779",
   "metadata": {},
   "outputs": [],
   "source": [
    "domains_df.withColumn('mx_record_count', explode(col('mx_record'))) \\\n",
    "        .groupBy('mx_record_count') \\\n",
    "        .count() \\\n",
    "        .sort(desc(\"count\"))\n",
    "\n",
    "domains_df.withColumn('mx_record_checked_count', explode(col('mx_record_checked'))) \\\n",
    "        .groupBy('mx_record_checked_count') \\\n",
    "        .count() \\\n",
    "        .sort(desc(\"count\"))\n",
    "\n",
    "domains_df.withColumn('a_record_count', explode(col('a_record'))) \\\n",
    "        .groupBy('a_record_count') \\\n",
    "        .count() \\\n",
    "        .sort(desc(\"count\"))\n",
    "\n",
    "domains_df.withColumn('a_record_checked', explode(col('a_record_checked'))) \\\n",
    "        .groupBy('a_record_checked') \\\n",
    "        .count() \\\n",
    "        .sort(desc(\"count\"))\n",
    "\n",
    "domains_df.withColumn('soa_information', explode(col('soa_information'))) \\\n",
    "        .groupBy('soa_information') \\\n",
    "        .count() \\\n",
    "        .sort(desc(\"count\"))\n",
    "\n",
    "domains_df = domains_df.drop('mx_record').drop('a_record')"
   ]
  },
  {
   "cell_type": "code",
   "execution_count": 22,
   "id": "e5745db3",
   "metadata": {},
   "outputs": [
    {
     "ename": "AnalysisException",
     "evalue": "Column \"soa_information\" not found in schema Some(StructType(StructField(top_level_domain,StringType,false), StructField(a_record_checked,ArrayType(StringType,true),true), StructField(mx_record_checked,ArrayType(StringType,true),true), StructField(redirection,StringType,true), StructField(status_code,StringType,true)))",
     "output_type": "error",
     "traceback": [
      "\u001b[0;31m---------------------------------------------------------------------------\u001b[0m",
      "\u001b[0;31mAnalysisException\u001b[0m                         Traceback (most recent call last)",
      "\u001b[0;32m<ipython-input-22-c3d4c52ab9f8>\u001b[0m in \u001b[0;36m<module>\u001b[0;34m\u001b[0m\n\u001b[1;32m      1\u001b[0m \u001b[0;31m# Write the data frame to the PostgreSQL database\u001b[0m\u001b[0;34m\u001b[0m\u001b[0;34m\u001b[0m\u001b[0;34m\u001b[0m\u001b[0m\n\u001b[0;32m----> 2\u001b[0;31m \u001b[0mdomains_df\u001b[0m\u001b[0;34m.\u001b[0m\u001b[0mwrite\u001b[0m\u001b[0;31m \u001b[0m\u001b[0;31m\\\u001b[0m\u001b[0;34m\u001b[0m\u001b[0;34m\u001b[0m\u001b[0m\n\u001b[0m\u001b[1;32m      3\u001b[0m     \u001b[0;34m.\u001b[0m\u001b[0mformat\u001b[0m\u001b[0;34m(\u001b[0m\u001b[0;34m\"jdbc\"\u001b[0m\u001b[0;34m)\u001b[0m\u001b[0;31m \u001b[0m\u001b[0;31m\\\u001b[0m\u001b[0;34m\u001b[0m\u001b[0;34m\u001b[0m\u001b[0m\n\u001b[1;32m      4\u001b[0m     \u001b[0;34m.\u001b[0m\u001b[0moption\u001b[0m\u001b[0;34m(\u001b[0m\u001b[0;34m\"url\"\u001b[0m\u001b[0;34m,\u001b[0m \u001b[0mconnection\u001b[0m\u001b[0;34m)\u001b[0m\u001b[0;31m \u001b[0m\u001b[0;31m\\\u001b[0m\u001b[0;34m\u001b[0m\u001b[0;34m\u001b[0m\u001b[0m\n\u001b[1;32m      5\u001b[0m     \u001b[0;34m.\u001b[0m\u001b[0moption\u001b[0m\u001b[0;34m(\u001b[0m\u001b[0;34m\"dbtable\"\u001b[0m\u001b[0;34m,\u001b[0m \u001b[0;34m\"domain_enhanced\"\u001b[0m\u001b[0;34m)\u001b[0m\u001b[0;31m \u001b[0m\u001b[0;31m\\\u001b[0m\u001b[0;34m\u001b[0m\u001b[0;34m\u001b[0m\u001b[0m\n",
      "\u001b[0;32m/usr/local/spark/python/pyspark/sql/readwriter.py\u001b[0m in \u001b[0;36msave\u001b[0;34m(self, path, format, mode, partitionBy, **options)\u001b[0m\n\u001b[1;32m   1105\u001b[0m             \u001b[0mself\u001b[0m\u001b[0;34m.\u001b[0m\u001b[0mformat\u001b[0m\u001b[0;34m(\u001b[0m\u001b[0mformat\u001b[0m\u001b[0;34m)\u001b[0m\u001b[0;34m\u001b[0m\u001b[0;34m\u001b[0m\u001b[0m\n\u001b[1;32m   1106\u001b[0m         \u001b[0;32mif\u001b[0m \u001b[0mpath\u001b[0m \u001b[0;32mis\u001b[0m \u001b[0;32mNone\u001b[0m\u001b[0;34m:\u001b[0m\u001b[0;34m\u001b[0m\u001b[0;34m\u001b[0m\u001b[0m\n\u001b[0;32m-> 1107\u001b[0;31m             \u001b[0mself\u001b[0m\u001b[0;34m.\u001b[0m\u001b[0m_jwrite\u001b[0m\u001b[0;34m.\u001b[0m\u001b[0msave\u001b[0m\u001b[0;34m(\u001b[0m\u001b[0;34m)\u001b[0m\u001b[0;34m\u001b[0m\u001b[0;34m\u001b[0m\u001b[0m\n\u001b[0m\u001b[1;32m   1108\u001b[0m         \u001b[0;32melse\u001b[0m\u001b[0;34m:\u001b[0m\u001b[0;34m\u001b[0m\u001b[0;34m\u001b[0m\u001b[0m\n\u001b[1;32m   1109\u001b[0m             \u001b[0mself\u001b[0m\u001b[0;34m.\u001b[0m\u001b[0m_jwrite\u001b[0m\u001b[0;34m.\u001b[0m\u001b[0msave\u001b[0m\u001b[0;34m(\u001b[0m\u001b[0mpath\u001b[0m\u001b[0;34m)\u001b[0m\u001b[0;34m\u001b[0m\u001b[0;34m\u001b[0m\u001b[0m\n",
      "\u001b[0;32m/usr/local/spark/python/lib/py4j-0.10.9-src.zip/py4j/java_gateway.py\u001b[0m in \u001b[0;36m__call__\u001b[0;34m(self, *args)\u001b[0m\n\u001b[1;32m   1302\u001b[0m \u001b[0;34m\u001b[0m\u001b[0m\n\u001b[1;32m   1303\u001b[0m         \u001b[0manswer\u001b[0m \u001b[0;34m=\u001b[0m \u001b[0mself\u001b[0m\u001b[0;34m.\u001b[0m\u001b[0mgateway_client\u001b[0m\u001b[0;34m.\u001b[0m\u001b[0msend_command\u001b[0m\u001b[0;34m(\u001b[0m\u001b[0mcommand\u001b[0m\u001b[0;34m)\u001b[0m\u001b[0;34m\u001b[0m\u001b[0;34m\u001b[0m\u001b[0m\n\u001b[0;32m-> 1304\u001b[0;31m         return_value = get_return_value(\n\u001b[0m\u001b[1;32m   1305\u001b[0m             answer, self.gateway_client, self.target_id, self.name)\n\u001b[1;32m   1306\u001b[0m \u001b[0;34m\u001b[0m\u001b[0m\n",
      "\u001b[0;32m/usr/local/spark/python/pyspark/sql/utils.py\u001b[0m in \u001b[0;36mdeco\u001b[0;34m(*a, **kw)\u001b[0m\n\u001b[1;32m    115\u001b[0m                 \u001b[0;31m# Hide where the exception came from that shows a non-Pythonic\u001b[0m\u001b[0;34m\u001b[0m\u001b[0;34m\u001b[0m\u001b[0;34m\u001b[0m\u001b[0m\n\u001b[1;32m    116\u001b[0m                 \u001b[0;31m# JVM exception message.\u001b[0m\u001b[0;34m\u001b[0m\u001b[0;34m\u001b[0m\u001b[0;34m\u001b[0m\u001b[0m\n\u001b[0;32m--> 117\u001b[0;31m                 \u001b[0;32mraise\u001b[0m \u001b[0mconverted\u001b[0m \u001b[0;32mfrom\u001b[0m \u001b[0;32mNone\u001b[0m\u001b[0;34m\u001b[0m\u001b[0;34m\u001b[0m\u001b[0m\n\u001b[0m\u001b[1;32m    118\u001b[0m             \u001b[0;32melse\u001b[0m\u001b[0;34m:\u001b[0m\u001b[0;34m\u001b[0m\u001b[0;34m\u001b[0m\u001b[0m\n\u001b[1;32m    119\u001b[0m                 \u001b[0;32mraise\u001b[0m\u001b[0;34m\u001b[0m\u001b[0;34m\u001b[0m\u001b[0m\n",
      "\u001b[0;31mAnalysisException\u001b[0m: Column \"soa_information\" not found in schema Some(StructType(StructField(top_level_domain,StringType,false), StructField(a_record_checked,ArrayType(StringType,true),true), StructField(mx_record_checked,ArrayType(StringType,true),true), StructField(redirection,StringType,true), StructField(status_code,StringType,true)))"
     ]
    }
   ],
   "source": [
    "# Write the data frame to the PostgreSQL database\n",
    "domains_df.write \\\n",
    "    .format(\"jdbc\") \\\n",
    "    .option(\"url\", connection) \\\n",
    "    .option(\"dbtable\", \"domain_enhanced\") \\\n",
    "    .option(\"user\", user) \\\n",
    "    .option(\"password\", password) \\\n",
    "    .mode(\"append\") \\\n",
    "    .save()"
   ]
  },
  {
   "cell_type": "code",
   "execution_count": null,
   "id": "f093dc34-d8c1-4661-b62a-11a845100b09",
   "metadata": {},
   "outputs": [],
   "source": []
  }
 ],
 "metadata": {
  "kernelspec": {
   "display_name": "Python 3",
   "language": "python",
   "name": "python3"
  },
  "language_info": {
   "codemirror_mode": {
    "name": "ipython",
    "version": 3
   },
   "file_extension": ".py",
   "mimetype": "text/x-python",
   "name": "python",
   "nbconvert_exporter": "python",
   "pygments_lexer": "ipython3",
   "version": "3.9.5"
  }
 },
 "nbformat": 4,
 "nbformat_minor": 5
}
