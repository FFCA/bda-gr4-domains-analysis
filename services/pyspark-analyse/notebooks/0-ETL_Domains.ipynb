{
 "cells": [
  {
   "cell_type": "markdown",
   "id": "ae2ba390-9338-485e-a86f-17c149cd4b34",
   "metadata": {},
   "source": [
    "# 1. Implementation of an ETL process\n",
    "\n",
    "This notebook runs an ETL script on the base data, which extracts, transforms and finally loads the data into the PostgreSQL database.\n",
    "\n",
    "## Extraction\n",
    "\n",
    "First, the necessary imports are carried out, the database access data defined, the session initialised and the data fetched from the csv file:"
   ]
  },
  {
   "cell_type": "code",
   "execution_count": 2,
   "id": "420c676f-8fc6-4e08-b566-31a507587ae0",
   "metadata": {
    "tags": []
   },
   "outputs": [
    {
     "name": "stdout",
     "output_type": "stream",
     "text": [
      "+-------------------+--------------------+-------------------+\n",
      "|   top_level_domain|           mx_record|           a_record|\n",
      "+-------------------+--------------------+-------------------+\n",
      "|            0--1.de|[\"mail.0--1.de\",\"...|  [\"46.38.249.145\"]|\n",
      "|            0--2.de|[\"mxf993.netcup.n...|[\"212.227.212.163\"]|\n",
      "|       0-0-0-0-0.de|[\"smtp-02.tld.t-o...|   [\"80.150.6.143\"]|\n",
      "|         0-0-0-1.de|[\"smtp-02.tld.t-o...|   [\"80.150.6.143\"]|\n",
      "|             0-0.de|                  []|  [\"185.53.178.13\"]|\n",
      "|            0-01.de|    [\"mail.0-01.de\"]| [\"193.34.145.200\"]|\n",
      "|             0-1.de|       [\"localhost\"]| [\"91.195.241.137\"]|\n",
      "|            0-10.de|                  []|                 []|\n",
      "|          0-1000.de|       [\"localhost\"]| [\"91.195.241.137\"]|\n",
      "|        0-100kmh.de| [\"smtpin.rzone.de\"]|  [\"81.169.145.95\"]|\n",
      "|            0-12.de|       [\"localhost\"]| [\"91.195.241.137\"]|\n",
      "|            0-17.de|       [\"localhost\"]| [\"91.195.241.137\"]|\n",
      "|             0-2.de|       [\"localhost\"]|      [\"127.0.0.1\"]|\n",
      "|      0-24domain.de|[\"pmx.bestcpanel....| [\"194.38.104.220\"]|\n",
      "|           0-24h.de|[\"mxlb.ispgateway...|[\"134.209.177.247\"]|\n",
      "|     0-24leasing.de|                  []|                 []|\n",
      "|0-24versicherung.de|                  []|                 []|\n",
      "|        0-263475.de|                  []|   [\"176.9.76.101\"]|\n",
      "|           0-3-0.de|                  []|                 []|\n",
      "|             0-3.de|[\"teller.ggeg.eu\"...|[\"185.163.116.240\"]|\n",
      "+-------------------+--------------------+-------------------+\n",
      "only showing top 20 rows\n",
      "\n"
     ]
    }
   ],
   "source": [
    "from pyspark.sql import SparkSession\n",
    "from pyspark.sql.functions import *\n",
    "\n",
    "# PostgreSQL access data\n",
    "host = \"bda_gr4_database\"\n",
    "port = \"5432\"\n",
    "database = \"domainanalysis\"\n",
    "user = \"postgres\"\n",
    "password = \"postgres\"\n",
    "table = \"domain\"\n",
    "\n",
    "# PostgreSQL connection url\n",
    "connection = f\"jdbc:postgresql://{host}:{port}/{database}\"\n",
    "\n",
    "# Create a Spark session\n",
    "spark = SparkSession.builder \\\n",
    "    .appName(\"etl_domains\") \\\n",
    "    .getOrCreate()\n",
    "\n",
    "# Read csv file into Spark data frame\n",
    "domains_df = spark.read.csv('../data/real_domains.csv', escape = \"\\\"\").toDF(\"top_level_domain\", \"mx_record\", \"a_record\", \"timestamp\")\n",
    "\n",
    "# Delete the timestamp column\n",
    "domains_df = domains_df.drop('timestamp')\n",
    "\n",
    "# Display the data frame\n",
    "domains_df.show()"
   ]
  },
  {
   "cell_type": "markdown",
   "id": "6f3fb020-16cf-4781-bc2c-7a8943989fe5",
   "metadata": {},
   "source": [
    "## Transformation\n",
    "\n",
    "The second step is the transformation of the data frame. The data set is passed to a function that cleans the data frame of special characters. Finally, empty lines are replaced by `None`."
   ]
  },
  {
   "cell_type": "code",
   "execution_count": 3,
   "id": "08d9fd7b-0a19-42ed-ad06-e722fa73482f",
   "metadata": {},
   "outputs": [],
   "source": [
    "# Function to clean up a data frame\n",
    "def clean_data(df, column, to_delete, to_replace):\n",
    "    cleaned_df = df.withColumn(column, regexp_replace(column, to_delete, to_replace))\n",
    "    return cleaned_df"
   ]
  },
  {
   "cell_type": "code",
   "execution_count": 4,
   "id": "0d2559f9",
   "metadata": {},
   "outputs": [],
   "source": [
    "# Save the column names\n",
    "col_names = domains_df.schema.names\n",
    "\n",
    "# Clean up each column\n",
    "for column in col_names:\n",
    "    domains_df = clean_data(domains_df, column, '\\\\[|\\\\]|\\\\\"', \"\")"
   ]
  },
  {
   "cell_type": "code",
   "execution_count": 5,
   "id": "c586e2d6",
   "metadata": {},
   "outputs": [
    {
     "data": {
      "text/plain": [
       "[Row(top_level_domain='0--1.de', mx_record='mail.0--1.de,mxf993.netcup.net', a_record='46.38.249.145'),\n",
       " Row(top_level_domain='0--2.de', mx_record='mxf993.netcup.net,mail.0--2.de', a_record='212.227.212.163'),\n",
       " Row(top_level_domain='0-0-0-0-0.de', mx_record='smtp-02.tld.t-online.de,smtp-01.tld.t-online.de', a_record='80.150.6.143'),\n",
       " Row(top_level_domain='0-0-0-1.de', mx_record='smtp-02.tld.t-online.de,smtp-01.tld.t-online.de', a_record='80.150.6.143'),\n",
       " Row(top_level_domain='0-0.de', mx_record='', a_record='185.53.178.13')]"
      ]
     },
     "execution_count": 5,
     "metadata": {},
     "output_type": "execute_result"
    }
   ],
   "source": [
    "# Show first 5 rows\n",
    "domains_df.head(5)"
   ]
  },
  {
   "cell_type": "code",
   "execution_count": 6,
   "id": "3956ee0f",
   "metadata": {
    "tags": []
   },
   "outputs": [
    {
     "name": "stdout",
     "output_type": "stream",
     "text": [
      "+-------------------+--------------------+-----------------+\n",
      "|   top_level_domain|           mx_record|         a_record|\n",
      "+-------------------+--------------------+-----------------+\n",
      "|            0--1.de|[mail.0--1.de, mx...|  [46.38.249.145]|\n",
      "|            0--2.de|[mxf993.netcup.ne...|[212.227.212.163]|\n",
      "|       0-0-0-0-0.de|[smtp-02.tld.t-on...|   [80.150.6.143]|\n",
      "|         0-0-0-1.de|[smtp-02.tld.t-on...|   [80.150.6.143]|\n",
      "|             0-0.de|                null|  [185.53.178.13]|\n",
      "|            0-01.de|      [mail.0-01.de]| [193.34.145.200]|\n",
      "|             0-1.de|         [localhost]| [91.195.241.137]|\n",
      "|            0-10.de|                null|             null|\n",
      "|          0-1000.de|         [localhost]| [91.195.241.137]|\n",
      "|        0-100kmh.de|   [smtpin.rzone.de]|  [81.169.145.95]|\n",
      "|            0-12.de|         [localhost]| [91.195.241.137]|\n",
      "|            0-17.de|         [localhost]| [91.195.241.137]|\n",
      "|             0-2.de|         [localhost]|      [127.0.0.1]|\n",
      "|      0-24domain.de|[pmx.bestcpanel.e...| [194.38.104.220]|\n",
      "|           0-24h.de|[mxlb.ispgateway.de]|[134.209.177.247]|\n",
      "|     0-24leasing.de|                null|             null|\n",
      "|0-24versicherung.de|                null|             null|\n",
      "|        0-263475.de|                null|   [176.9.76.101]|\n",
      "|           0-3-0.de|                null|             null|\n",
      "|             0-3.de|[teller.ggeg.eu, ...|[185.163.116.240]|\n",
      "+-------------------+--------------------+-----------------+\n",
      "only showing top 20 rows\n",
      "\n"
     ]
    }
   ],
   "source": [
    "# Replace all empty rows with \"None\" and split A- and MX-records\n",
    "domains_df = domains_df \\\n",
    "                .withColumn('mx_record', when(domains_df['mx_record'] == '', None).otherwise(split(domains_df['mx_record'], ','))) \\\n",
    "                .withColumn('a_record', when(domains_df['a_record'] == '', None).otherwise(split(domains_df['a_record'], ','))) \n",
    "\n",
    "# Display the data frame\n",
    "domains_df.show()"
   ]
  },
  {
   "cell_type": "markdown",
   "id": "05dc1a97-3318-4b50-97f5-1e7e173bb37c",
   "metadata": {
    "tags": []
   },
   "source": [
    "## Loading\n",
    "\n",
    "The last step is to load the cleaned data frame into the PostgreSQL database. To speed up the writing process, `8 partitions` are created for parallel processing and the `batchsize` is set to `10000`."
   ]
  },
  {
   "cell_type": "code",
   "execution_count": 7,
   "id": "baae4ec0-73ae-4d05-8247-a4ae4e02da09",
   "metadata": {
    "tags": []
   },
   "outputs": [],
   "source": [
    "# Write the data frame to the PostgreSQL database\n",
    "domains_df.repartition(8).write \\\n",
    "    .format(\"jdbc\") \\\n",
    "    .option(\"url\", connection) \\\n",
    "    .option(\"dbtable\", table) \\\n",
    "    .option(\"user\", user) \\\n",
    "    .option(\"batchsize\", 10000) \\\n",
    "    .option(\"password\", password) \\\n",
    "    .mode(\"append\") \\\n",
    "    .save()"
   ]
  },
  {
   "cell_type": "code",
   "execution_count": null,
   "id": "763c15eb-a7d7-49c2-8ac8-2c2994d39ba6",
   "metadata": {},
   "outputs": [],
   "source": []
  }
 ],
 "metadata": {
  "kernelspec": {
   "display_name": "Python 3",
   "language": "python",
   "name": "python3"
  },
  "language_info": {
   "codemirror_mode": {
    "name": "ipython",
    "version": 3
   },
   "file_extension": ".py",
   "mimetype": "text/x-python",
   "name": "python",
   "nbconvert_exporter": "python",
   "pygments_lexer": "ipython3",
   "version": "3.9.5"
  }
 },
 "nbformat": 4,
 "nbformat_minor": 5
}
