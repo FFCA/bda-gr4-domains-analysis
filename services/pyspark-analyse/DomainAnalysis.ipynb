{
 "cells": [
  {
   "cell_type": "code",
   "execution_count": null,
   "id": "597303f6",
   "metadata": {},
   "outputs": [],
   "source": [
    "from pyspark.sql import SparkSession\n",
    "from pyspark.sql.functions import *\n",
    "\n",
    "#PostgreSQL access data\n",
    "host = \"localhost\"\n",
    "port = \"5432\"\n",
    "database = \"domainanalysis\"\n",
    "user = \"postgres\"\n",
    "password = \"postgres\"\n",
    "table = \"domain\"\n",
    "\n",
    "# PostgreSQL connection url\n",
    "connection = f\"jdbc:postgresql://{host}:{port}/{database}\"\n",
    "\n",
    "# Create a Spark session\n",
    "spark = SparkSession.builder \\\n",
    "    .appName(\"ETL_DomainAnaylsis\") \\\n",
    "    .getOrCreate()\n",
    "\n",
    "# Read data from the database\n",
    "domains_df = spark.read \\\n",
    "                .format(\"jdbc\") \\\n",
    "                .option(\"url\", connection) \\\n",
    "                .option(\"dbtable\", table) \\\n",
    "                .option(\"user\", user) \\\n",
    "                .option(\"password\", password) \\\n",
    "                .load()\n",
    "\n",
    "# Display the data frame\n",
    "#domains_df.show()"
   ]
  },
  {
   "cell_type": "code",
   "execution_count": null,
   "id": "d31f848d",
   "metadata": {},
   "outputs": [],
   "source": [
    "# Count the values of each column with descending sort and show it\n",
    "domains_df.groupBy(\"Top-Level-Domain\").count().sort(desc(\"count\")).show(20, False)\n",
    "domains_df.groupBy(\"MX-Record\").count().sort(desc(\"count\")).show(20, False)\n",
    "domains_df.groupBy(\"A-Record\").count().sort(desc(\"count\")).show(20, False)"
   ]
  },
  {
   "cell_type": "code",
   "execution_count": null,
   "id": "3186f915",
   "metadata": {},
   "outputs": [],
   "source": [
    "#\n",
    "domains_df.withColumn('MX-Record_Single_Count', explode(split(col('MX-Record'), ','))) \\\n",
    "        .groupBy('MX-Record_Single_Count') \\\n",
    "        .count() \\\n",
    "        .sort(desc(\"count\")) \\\n",
    "        .show(20, False)\n",
    "\n",
    "\n",
    "domains_df.withColumn('A-Record_Single_Count', explode(split(col('A-Record'), ','))) \\\n",
    "        .groupBy('A-Record_Single_Count') \\\n",
    "        .count() \\\n",
    "        .sort(desc(\"count\")) \\\n",
    "        .show(20, False)\n",
    "\n"
   ]
  },
  {
   "cell_type": "code",
   "execution_count": null,
   "id": "a19299cb",
   "metadata": {},
   "outputs": [],
   "source": [
    "import dns\n",
    "from dns import resolver\n",
    "\n",
    "def getARecords(domain):\n",
    "    try:\n",
    "        result = dns.resolver.resolve(\"www.\" + domain, 'A')\n",
    "        for ipval in result:\n",
    "            return ipval.to_text()\n",
    "    except dns.resolver.NXDOMAIN:\n",
    "        return \"Domain not available\"\n",
    "    except dns.resolver.NoAnswer:\n",
    "        return \"No Answer\"\n",
    "    except dns.resolver.NoNameservers:\n",
    "        return \"No Nameservers\"\n",
    "    except dns.resolver.Timeout:\n",
    "        return \"Timeout\"\n",
    "\n",
    "\n",
    "def getMXRecords(domain):\n",
    "    try:\n",
    "        result = dns.resolver.resolve(domain, 'MX')\n",
    "        for mail in result:\n",
    "            return mail.exchange.to_text()\n",
    "    except dns.resolver.NXDOMAIN:\n",
    "        return \"Domain not available\"\n",
    "    except dns.resolver.NoAnswer:\n",
    "        return \"No Answer\"\n",
    "    except dns.resolver.NoNameservers:\n",
    "        return \"No Nameservers\""
   ]
  },
  {
   "cell_type": "code",
   "execution_count": null,
   "id": "bf38812d",
   "metadata": {},
   "outputs": [],
   "source": [
    "udf_getARecords = udf(getARecords, StringType())\n",
    "udf_getMXRecords = udf(getMXRecords, StringType())"
   ]
  },
  {
   "cell_type": "code",
   "execution_count": null,
   "id": "2cbb91f3",
   "metadata": {
    "scrolled": false
   },
   "outputs": [],
   "source": [
    "domains_df = domains_df.withColumn(\"A-Record_Checked\", lit(udf_getARecords(\"Top-Level-Domain\")))\n",
    "domains_df = domains_df.withColumn(\"MX-Record_Checked\", lit(udf_getMXRecords(\"Top-Level-Domain\")))"
   ]
  },
  {
   "cell_type": "code",
   "execution_count": null,
   "id": "27d42d9c",
   "metadata": {},
   "outputs": [],
   "source": [
    "domains_df.show(20)"
   ]
  },
  {
   "cell_type": "code",
   "execution_count": null,
   "id": "fecaabb3",
   "metadata": {},
   "outputs": [],
   "source": []
  }
 ],
 "metadata": {
  "kernelspec": {
   "display_name": "Python 3",
   "language": "python",
   "name": "python3"
  },
  "language_info": {
   "codemirror_mode": {
    "name": "ipython",
    "version": 3
   },
   "file_extension": ".py",
   "mimetype": "text/x-python",
   "name": "python",
   "nbconvert_exporter": "python",
   "pygments_lexer": "ipython3",
   "version": "3.7.10"
  }
 },
 "nbformat": 4,
 "nbformat_minor": 5
}
