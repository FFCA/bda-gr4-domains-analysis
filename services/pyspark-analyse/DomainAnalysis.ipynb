{
 "cells": [
  {
   "cell_type": "code",
   "execution_count": null,
   "id": "7ae2465b",
   "metadata": {},
   "outputs": [],
   "source": [
    "from pyspark.sql import SparkSession\n",
    "from pyspark.sql.functions import *\n",
    "\n",
    "#PostgreSQL access data\n",
    "host = \"localhost\"\n",
    "port = \"5432\"\n",
    "database = \"domainanalysis\"\n",
    "user = \"postgres\"\n",
    "password = \"postgres\"\n",
    "table = \"domain\"\n",
    "\n",
    "# PostgreSQL connection url\n",
    "connection = f\"jdbc:postgresql://{host}:{port}/{database}\"\n",
    "\n",
    "# Create a Spark session\n",
    "spark = SparkSession.builder \\\n",
    "    .appName(\"ETL_DomainAnaylsis\") \\\n",
    "    .getOrCreate()\n",
    "\n",
    "# Read data from the database\n",
    "domains_df = spark.read \\\n",
    "                .format(\"jdbc\") \\\n",
    "                .option(\"url\", connection) \\\n",
    "                .option(\"dbtable\", table) \\\n",
    "                .option(\"user\", user) \\\n",
    "                .option(\"password\", password) \\\n",
    "                .load()\n",
    "\n",
    "# Display the data frame\n",
    "# domains_df.show()"
   ]
  },
  {
   "cell_type": "code",
   "execution_count": null,
   "id": "ef2e884e",
   "metadata": {},
   "outputs": [],
   "source": [
    "import dns\n",
    "from dns import resolver\n",
    "import requests\n",
    "from urllib.parse import urlparse\n",
    "\n",
    "def getARecords(domain):\n",
    "    try:\n",
    "        result = dns.resolver.resolve(domain, 'A')\n",
    "        for ipval in result:\n",
    "            return ipval.to_text()\n",
    "    except dns.resolver.NXDOMAIN:\n",
    "        return \"Domain not available\"\n",
    "    except dns.resolver.NoAnswer:\n",
    "        return \"No Answer\"\n",
    "    except dns.resolver.NoNameservers:\n",
    "        return \"No Nameservers\"\n",
    "    except dns.resolver.Timeout:\n",
    "        return \"Timeout\"\n",
    "\n",
    "\n",
    "def getMXRecords(domain):\n",
    "    try:\n",
    "        result = dns.resolver.resolve(domain, 'MX')\n",
    "        for mail in result:\n",
    "            return mail.exchange.to_text()\n",
    "    except dns.resolver.NXDOMAIN:\n",
    "        return \"Domain not available\"\n",
    "    except dns.resolver.NoAnswer:\n",
    "        return \"No Answer\"\n",
    "    except dns.resolver.NoNameservers:\n",
    "        return \"No Nameservers\"\n",
    "\n",
    "def getRedirectUrl(domain):\n",
    "    try:\n",
    "        response = requests.get(\"http://\" + domain, timeout=5)\n",
    "        url = urlparse(response.url).netloc\n",
    "        url = ('.'.join(url.split('.')[-2:]))\n",
    "        return url\n",
    "    except requests.exceptions.ConnectionError:\n",
    "        return \"Connection Error\"\n",
    "\n",
    "def getStatusCodeUrl(domain):\n",
    "    try:\n",
    "        response = requests.get(\"http://\" + domain, timeout=5)\n",
    "        return response.status_code\n",
    "    except requests.exceptions.ConnectionError as e:\n",
    "        return \"Connection Error\"\n",
    "        "
   ]
  },
  {
   "cell_type": "code",
   "execution_count": null,
   "id": "2776e04a",
   "metadata": {},
   "outputs": [],
   "source": [
    "udf_getARecords = udf(getARecords, StringType())\n",
    "udf_getMXRecords = udf(getMXRecords, StringType())\n",
    "udf_getRedirectUrl = udf(getRedirectUrl, StringType())\n",
    "udf_getStatusCodeUrl = udf(getStatusCodeUrl, StringType())"
   ]
  },
  {
   "cell_type": "code",
   "execution_count": null,
   "id": "24cd0c8c",
   "metadata": {},
   "outputs": [],
   "source": [
    "domains_df = domains_df.withColumn(\"A-Record_Checked\", udf_getARecords(\"Top-Level-Domain\"))\n",
    "domains_df = domains_df.withColumn(\"MX-Record_Checked\", udf_getMXRecords(\"Top-Level-Domain\"))\n",
    "domains_df = domains_df.withColumn(\"Redirection\", udf_getRedirectUrl(\"Top-Level-Domain\"))\n",
    "domains_df = domains_df.withColumn(\"Status_Code\", udf_getStatusCodeUrl(\"Top-Level-Domain\"))"
   ]
  },
  {
   "cell_type": "code",
   "execution_count": null,
   "id": "324fbdd3",
   "metadata": {},
   "outputs": [],
   "source": [
    "domains_df.show(20)"
   ]
  },
  {
   "cell_type": "code",
   "execution_count": null,
   "id": "d31f848d",
   "metadata": {},
   "outputs": [],
   "source": [
    "# Count the values of each column with descending sort and show it\n",
    "domains_df.groupBy(\"Top-Level-Domain\").count().sort(desc(\"count\")).show(20, False)\n",
    "domains_df.groupBy(\"MX-Record\").count().sort(desc(\"count\")).show(20, False)\n",
    "domains_df.groupBy(\"A-Record\").count().sort(desc(\"count\")).show(20, False)\n",
    "domains_df.groupBy(\"A-Record_Checked\").count().sort(desc(\"count\")).show(20, False)\n",
    "domains_df.groupBy(\"MX-Record_Checked\").count().sort(desc(\"count\")).show(20, False)\n",
    "domains_df.groupBy(\"Redirection\").count().sort(desc(\"count\")).show(20, False)"
   ]
  },
  {
   "cell_type": "code",
   "execution_count": null,
   "id": "00000779",
   "metadata": {},
   "outputs": [],
   "source": [
    "domains_df.withColumn('MX-Record_Count', explode(split(col('MX-Record'), ','))) \\\n",
    "        .groupBy('MX-Record_Count') \\\n",
    "        .count() \\\n",
    "        .sort(desc(\"count\")) \\\n",
    "        .show(20, False)\n",
    "\n",
    "domains_df.withColumn('MX-Record_Checked_Count', explode(split(col('MX-Record_Checked'), ','))) \\\n",
    "        .groupBy('MX-Record_Checked_Count') \\\n",
    "        .count() \\\n",
    "        .sort(desc(\"count\")) \\\n",
    "        .show(20, False)\n",
    "\n",
    "domains_df.withColumn('A-Record_Count', explode(split(col('A-Record'), ','))) \\\n",
    "        .groupBy('A-Record_Count') \\\n",
    "        .count() \\\n",
    "        .sort(desc(\"count\")) \\\n",
    "        .show(20, False)\n",
    "\n",
    "domains_df.withColumn('A-Record_Checked', explode(split(col('A-Record_Checked'), ','))) \\\n",
    "        .groupBy('A-Record_Checked') \\\n",
    "        .count() \\\n",
    "        .sort(desc(\"count\")) \\\n",
    "        .show(20, False)\n"
   ]
  },
  {
   "cell_type": "code",
   "execution_count": null,
   "id": "e5745db3",
   "metadata": {},
   "outputs": [],
   "source": [
    "# Write the data frame to the PostgreSQL database\n",
    "domains_df.write \\\n",
    "    .format(\"jdbc\") \\\n",
    "    .option(\"url\", connection) \\\n",
    "    .option(\"dbtable\", table) \\\n",
    "    .option(\"user\", user) \\\n",
    "    .option(\"password\", password) \\\n",
    "    .mode(\"overwrite\") \\\n",
    "    .save()"
   ]
  },
  {
   "cell_type": "code",
   "execution_count": null,
   "id": "099e7958",
   "metadata": {},
   "outputs": [],
   "source": []
  }
 ],
 "metadata": {
  "kernelspec": {
   "display_name": "Python 3",
   "language": "python",
   "name": "python3"
  },
  "language_info": {
   "codemirror_mode": {
    "name": "ipython",
    "version": 3
   },
   "file_extension": ".py",
   "mimetype": "text/x-python",
   "name": "python",
   "nbconvert_exporter": "python",
   "pygments_lexer": "ipython3",
   "version": "3.7.10"
  }
 },
 "nbformat": 4,
 "nbformat_minor": 5
}
