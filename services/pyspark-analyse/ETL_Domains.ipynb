{
 "cells": [
  {
   "cell_type": "code",
   "execution_count": null,
   "id": "45fdca79",
   "metadata": {},
   "outputs": [],
   "source": [
    "from pyspark.sql import SparkSession\n",
    "from pyspark.sql.functions import *\n",
    "\n",
    "# PostgreSQL access data\n",
    "host = \"0.0.0.0\"\n",
    "port = \"5432\"\n",
    "database = \"domainanalysis\"\n",
    "user = \"postgres\"\n",
    "password = \"postgres\"\n",
    "table = \"domain\"\n",
    "\n",
    "# PostgreSQL connection url\n",
    "connection = f\"jdbc:postgresql://{host}:{port}/{database}\"\n",
    "\n",
    "# Create a Spark session\n",
    "spark = SparkSession.builder \\\n",
    "    .appName(\"ETL_DomainAnaylsis\") \\\n",
    "    .getOrCreate()\n",
    "\n",
    "# Read csv file into Spark data frame\n",
    "domains_df = spark.read.csv('../data/real_domains.csv', escape = \"\\\"\").toDF(\"Top-Level-Domain\", \"MX-Record\", \"A-Record\", \"Timestamp\")\n",
    "\n",
    "# Delete the timestamp column\n",
    "domains_df = domains_df.drop('Timestamp')\n",
    "\n",
    "# Display the data frame\n",
    "domains_df.show()"
   ]
  },
  {
   "cell_type": "code",
   "execution_count": null,
   "id": "7094311e",
   "metadata": {},
   "outputs": [],
   "source": [
    "# Function to clean up a data frame\n",
    "def cleanData(df, column, toDelete, toReplace):\n",
    "    cleaned_df = df.withColumn(column, regexp_replace(column, toDelete, toReplace))\n",
    "    return cleaned_df"
   ]
  },
  {
   "cell_type": "code",
   "execution_count": null,
   "id": "0d2559f9",
   "metadata": {},
   "outputs": [],
   "source": [
    "# Save the column names\n",
    "colNames = domains_df.schema.names\n",
    "\n",
    "# Clean up each column\n",
    "for column in colNames:\n",
    "    domains_df = cleanData(domains_df, column, '\\\\[|\\\\]|\\\\\"', \"\")"
   ]
  },
  {
   "cell_type": "code",
   "execution_count": null,
   "id": "c586e2d6",
   "metadata": {},
   "outputs": [],
   "source": [
    "# Show first 5 rows\n",
    "domains_df.head(5)"
   ]
  },
  {
   "cell_type": "code",
   "execution_count": null,
   "id": "3956ee0f",
   "metadata": {},
   "outputs": [],
   "source": [
    "# Replace all empty rows with \"no information\"\n",
    "domains_df = domains_df.select([when(col(c)==\"\",\"No information\").otherwise(col(c)).alias(c) for c in domains_df.columns])\n",
    "\n",
    "# Display the data frame\n",
    "domains_df.show()"
   ]
  },
  {
   "cell_type": "code",
   "execution_count": null,
   "id": "917d6d31",
   "metadata": {},
   "outputs": [],
   "source": [
    "# Write the data frame to the PostgreSQL database\n",
    "domains_df.write \\\n",
    "    .format(\"jdbc\") \\\n",
    "    .option(\"url\", connection) \\\n",
    "    .option(\"dbtable\", table) \\\n",
    "    .option(\"user\", user) \\\n",
    "    .option(\"password\", password) \\\n",
    "    .mode(\"overwrite\") \\\n",
    "    .save()"
   ]
  }
 ],
 "metadata": {
  "kernelspec": {
   "display_name": "Python 3",
   "language": "python",
   "name": "python3"
  },
  "language_info": {
   "codemirror_mode": {
    "name": "ipython",
    "version": 3
   },
   "file_extension": ".py",
   "mimetype": "text/x-python",
   "name": "python",
   "nbconvert_exporter": "python",
   "pygments_lexer": "ipython3",
   "version": "3.7.10"
  }
 },
 "nbformat": 4,
 "nbformat_minor": 5
}
